{
 "cells": [
  {
   "cell_type": "markdown",
   "metadata": {},
   "source": [
    "### Use scipy.optimize"
   ]
  },
  {
   "cell_type": "code",
   "execution_count": 1,
   "metadata": {
    "collapsed": true
   },
   "outputs": [],
   "source": [
    "from scipy.optimize import curve_fit\n",
    "import numpy as np"
   ]
  },
  {
   "cell_type": "code",
   "execution_count": 2,
   "metadata": {
    "collapsed": true
   },
   "outputs": [],
   "source": [
    "vol = np.array([ 49.14835132,  48.95387966,  48.8291772,   57.47423436,  53.40459584,  39.85244873,  39.84663685,  49.2232604,\n",
    "       48.882031, 38.79104303])\n",
    "cur = np.array([ 1.99044514,  0.9919535,   0.69317581,  2.18901812,  0.99226583,  0.99202458, 0.49062936,  0.49075445,  1.99087761,\n",
    "       1.99084474])\n",
    "rate = np.array([ 0.89986609, 0.42571558,  0.2892334,  1.52508731,  0.55962977,  0.21261142,  0.10024236,  0.20604203,  0.88737798,\n",
    "        0.38697821])\n",
    "rate_err = np.array([ 0.01588928,  0.00614813,  0.00418711,  0.02155168,  0.01026643,  0.00312938, 0.00153864,  0.00294942,\n",
    "            0.01257681,  0.00570924])"
   ]
  },
  {
   "cell_type": "code",
   "execution_count": 3,
   "metadata": {
    "collapsed": false
   },
   "outputs": [],
   "source": [
    "def f_rate(vi, prefactor, v_power, i_power):\n",
    "    v, i = vi\n",
    "    return prefactor*(v**v_power)*i**i_power\n",
    "\n",
    "p0 = [1E-6, 3.5, 1.]\n",
    "popt, pcov = curve_fit(f_rate, (vol, cur), rate, p0=p0, sigma=rate_err)"
   ]
  },
  {
   "cell_type": "code",
   "execution_count": 4,
   "metadata": {
    "collapsed": false
   },
   "outputs": [
    {
     "name": "stdout",
     "output_type": "stream",
     "text": [
      "Result for Eriks Windows python version: popt = array([  1.08470160e-06,   3.30763171e+00,   1.02735433e+00])\n",
      "Result for Eriks Windows python version: popt = array([  1.08470160e-06,   3.30763171e+00,   1.02735433e+00])\n"
     ]
    }
   ],
   "source": [
    "print('Result for Eriks Windows python version: popt = array([  1.08470160e-06,   3.30763171e+00,   1.02735433e+00])')\n",
    "print('Result for Eriks Windows python version: popt = array([  1.08470160e-06,   3.30763171e+00,   1.02735433e+00])')"
   ]
  },
  {
   "cell_type": "markdown",
   "metadata": {},
   "source": [
    "### Try unreasonable start values"
   ]
  },
  {
   "cell_type": "code",
   "execution_count": 5,
   "metadata": {
    "collapsed": false
   },
   "outputs": [
    {
     "name": "stdout",
     "output_type": "stream",
     "text": [
      "[  1.08470128e-06   3.30763179e+00   1.02735433e+00] [9.837130529641048e-06, 1.0567106454160702, 0.8938885573504451]\n",
      "[  1.08470138e-06   3.30763177e+00   1.02735433e+00] [1.3334648389036865e-07, 5.03113594900288, 5.520354368670098]\n",
      "[  1.08470146e-06   3.30763175e+00   1.02735433e+00] [9.363003079396648e-06, 5.633492164792334, 8.018353750289196]\n",
      "[  1.08470140e-06   3.30763176e+00   1.02735433e+00] [1.3723699806951563e-06, 2.624842103512192, 1.123543424174912]\n",
      "[  1.08470129e-06   3.30763179e+00   1.02735433e+00] [7.394255860861325e-06, 1.2921558900147478, 4.254120223186519]\n",
      "[  1.08470129e-06   3.30763179e+00   1.02735433e+00] [9.192466462952326e-06, 1.7291472849471845, 4.057352891528611]\n",
      "[  1.08470127e-06   3.30763179e+00   1.02735433e+00] [5.911553723094813e-06, 1.8271854143295607, 6.654895685211928]\n",
      "[  1.08470123e-06   3.30763180e+00   1.02735433e+00] [4.043961364202612e-06, 8.938060400973152, 8.17218481099107]\n",
      "[  1.08470113e-06   3.30763183e+00   1.02735433e+00] [7.68091228594578e-06, 0.0989614265021832, 8.441164196262772]\n",
      "[  1.08470124e-06   3.30763180e+00   1.02735433e+00] [8.918401790139066e-06, 5.509519342636862, 9.467965223753591]\n"
     ]
    },
    {
     "name": "stderr",
     "output_type": "stream",
     "text": [
      "/home/erik/anaconda3/envs/pax/lib/python3.4/site-packages/ipykernel/__main__.py:3: RuntimeWarning: overflow encountered in multiply\n",
      "  app.launch_new_instance()\n"
     ]
    }
   ],
   "source": [
    "# Check for dependence on initial values\n",
    "# Take random start values in range 0-10 for I and U exponent, in range 0 - 1e-5 for prefactor\n",
    "for i in range(10):\n",
    "    p0 = [np.random.rand()*10e-6, np.random.rand()*10, np.random.rand()*10]\n",
    "    popt, pcov = curve_fit(f_rate, (vol, cur), rate, p0=p0, sigma=rate_err)\n",
    "    print(popt, p0)"
   ]
  },
  {
   "cell_type": "markdown",
   "metadata": {},
   "source": [
    "### Use a different minimizer"
   ]
  },
  {
   "cell_type": "code",
   "execution_count": 6,
   "metadata": {
    "collapsed": true
   },
   "outputs": [],
   "source": [
    "from iminuit import Minuit, describe"
   ]
  },
  {
   "cell_type": "code",
   "execution_count": 7,
   "metadata": {
    "collapsed": true
   },
   "outputs": [],
   "source": [
    "def f_rate_minuit(v, i, prefactor, v_power, i_power):\n",
    "    return prefactor*(v**v_power)*i**i_power"
   ]
  },
  {
   "cell_type": "code",
   "execution_count": 8,
   "metadata": {
    "collapsed": true
   },
   "outputs": [],
   "source": [
    "class Chi2:\n",
    "    def __init__(self,f,vol,cur,rate, rate_err):\n",
    "        self.f = f\n",
    "        self.vol = vol\n",
    "        self.cur = cur\n",
    "        self.rate = rate\n",
    "        self.rate_err = rate_err\n",
    "        f_sig = describe(f)\n",
    "        \n",
    "        #this is how you fake function \n",
    "        #signature dynamically\n",
    "#         self.func_code = make_func_code( f_sig[1:] )#docking off independent variable\n",
    "#         self.func_defaults = None #this keeps np.vectorize happy\n",
    "\n",
    "    def __call__(self,*arg):\n",
    "        #notice that it accept variable length\n",
    "        #positional arguments\n",
    "        chi2 = sum( ( rate - self.f(vol, cur, *arg) )**2 / rate_err**2  \n",
    "                   for rate, vol, cur, rate_err in zip(self.rate,self.vol,self.cur, self.rate_err))\n",
    "        return chi2    "
   ]
  },
  {
   "cell_type": "code",
   "execution_count": 9,
   "metadata": {
    "collapsed": false
   },
   "outputs": [],
   "source": [
    "chi2 = Chi2(f_rate_minuit, vol, cur, rate, rate_err)"
   ]
  },
  {
   "cell_type": "code",
   "execution_count": 10,
   "metadata": {
    "collapsed": false
   },
   "outputs": [
    {
     "name": "stdout",
     "output_type": "stream",
     "text": [
      "{'prefactor': 1e-06, 'i_power': 1.5, 'v_power': 4.0}\n"
     ]
    },
    {
     "name": "stderr",
     "output_type": "stream",
     "text": [
      "/home/erik/anaconda3/envs/pax/lib/python3.4/site-packages/ipykernel/__main__.py:3: InitialParamWarning: errordef is not given. Default to 1.\n",
      "  app.launch_new_instance()\n",
      "/home/erik/anaconda3/envs/pax/lib/python3.4/site-packages/ipykernel/__main__.py:3: InitialParamWarning: Parameter prefactor is floating but does not have initial step size. Assume 1.\n",
      "  app.launch_new_instance()\n",
      "/home/erik/anaconda3/envs/pax/lib/python3.4/site-packages/ipykernel/__main__.py:3: InitialParamWarning: Parameter v_power is floating but does not have initial step size. Assume 1.\n",
      "  app.launch_new_instance()\n",
      "/home/erik/anaconda3/envs/pax/lib/python3.4/site-packages/ipykernel/__main__.py:3: InitialParamWarning: Parameter i_power is floating but does not have initial step size. Assume 1.\n",
      "  app.launch_new_instance()\n"
     ]
    },
    {
     "data": {
      "text/html": [
       "<hr>"
      ]
     },
     "metadata": {},
     "output_type": "display_data"
    },
    {
     "data": {
      "text/html": [
       "\n",
       "        <table>\n",
       "            <tr>\n",
       "                <td title=\"Minimum value of function\">FCN = 32.86873310384783</td>\n",
       "                <td title=\"Total number of call to FCN so far\">TOTAL NCALL = 421</td>\n",
       "                <td title=\"Number of call in last migrad\">NCALLS = 421</td>\n",
       "            </tr>\n",
       "            <tr>\n",
       "                <td title=\"Estimated distance to minimum\">EDM = 2.991595619610985e-05</td>\n",
       "                <td title=\"Maximum EDM definition of convergence\">GOAL EDM = 1e-05</td>\n",
       "                <td title=\"Error def. Amount of increase in FCN to be defined as 1 standard deviation\">\n",
       "                UP = 1.0</td>\n",
       "            </tr>\n",
       "        </table>\n",
       "        \n",
       "        <table>\n",
       "            <tr>\n",
       "                <td align=\"center\" title=\"Validity of the migrad call\">Valid</td>\n",
       "                <td align=\"center\" title=\"Validity of parameters\">Valid Param</td>\n",
       "                <td align=\"center\" title=\"Is Covariance matrix accurate?\">Accurate Covar</td>\n",
       "                <td align=\"center\" title=\"Positive definiteness of covariance matrix\">PosDef</td>\n",
       "                <td align=\"center\" title=\"Was covariance matrix made posdef by adding diagonal element\">Made PosDef</td>\n",
       "            </tr>\n",
       "            <tr>\n",
       "                <td align=\"center\" style=\"background-color:#92CCA6\">True</td>\n",
       "                <td align=\"center\" style=\"background-color:#92CCA6\">True</td>\n",
       "                <td align=\"center\" style=\"background-color:#92CCA6\">True</td>\n",
       "                <td align=\"center\" style=\"background-color:#92CCA6\">True</td>\n",
       "                <td align=\"center\" style=\"background-color:#92CCA6\">False</td>\n",
       "            </tr>\n",
       "            <tr>\n",
       "                <td align=\"center\" title=\"Was last hesse call fail?\">Hesse Fail</td>\n",
       "                <td align=\"center\" title=\"Validity of covariance\">HasCov</td>\n",
       "                <td align=\"center\" title=\"Is EDM above goal EDM?\">Above EDM</td>\n",
       "                <td align=\"center\"></td>\n",
       "                <td align=\"center\" title=\"Did last migrad call reach max call limit?\">Reach calllim</td>\n",
       "            </tr>\n",
       "            <tr>\n",
       "                <td align=\"center\" style=\"background-color:#92CCA6\">False</td>\n",
       "                <td align=\"center\" style=\"background-color:#92CCA6\">True</td>\n",
       "                <td align=\"center\" style=\"background-color:#92CCA6\">False</td>\n",
       "                <td align=\"center\"></td>\n",
       "                <td align=\"center\" style=\"background-color:#92CCA6\">False</td>\n",
       "            </tr>\n",
       "        </table>\n",
       "        "
      ]
     },
     "metadata": {},
     "output_type": "display_data"
    },
    {
     "data": {
      "text/html": [
       "\n",
       "        <table>\n",
       "            <tr>\n",
       "                <td><a href=\"#\" onclick=\"$('#bdHrODoyuj').toggle()\">+</a></td>\n",
       "                <td title=\"Variable name\">Name</td>\n",
       "                <td title=\"Value of parameter\">Value</td>\n",
       "                <td title=\"Parabolic error\">Parab Error</td>\n",
       "                <td title=\"Minos lower error\">Minos Error-</td>\n",
       "                <td title=\"Minos upper error\">Minos Error+</td>\n",
       "                <td title=\"Lower limit of the parameter\">Limit-</td>\n",
       "                <td title=\"Upper limit of the parameter\">Limit+</td>\n",
       "                <td title=\"Is the parameter fixed in the fit\">FIXED</td>\n",
       "            </tr>\n",
       "        \n",
       "            <tr>\n",
       "                <td>1</td>\n",
       "                <td>prefactor</td>\n",
       "                <td>1.08398e-06</td>\n",
       "                <td>1.61952e-07</td>\n",
       "                <td>0</td>\n",
       "                <td>0</td>\n",
       "                <td></td>\n",
       "                <td></td>\n",
       "                <td></td>\n",
       "            </tr>\n",
       "            \n",
       "            <tr>\n",
       "                <td>2</td>\n",
       "                <td>v_power</td>\n",
       "                <td>3.3078</td>\n",
       "                <td>0.0388421</td>\n",
       "                <td>0</td>\n",
       "                <td>0</td>\n",
       "                <td></td>\n",
       "                <td></td>\n",
       "                <td></td>\n",
       "            </tr>\n",
       "            \n",
       "            <tr>\n",
       "                <td>3</td>\n",
       "                <td>i_power</td>\n",
       "                <td>1.02737</td>\n",
       "                <td>0.0086296</td>\n",
       "                <td>0</td>\n",
       "                <td>0</td>\n",
       "                <td></td>\n",
       "                <td></td>\n",
       "                <td></td>\n",
       "            </tr>\n",
       "            \n",
       "            </table>\n",
       "        \n",
       "            <pre id=\"bdHrODoyuj\" style=\"display:none;\">\n",
       "            <textarea rows=\"12\" cols=\"50\" onclick=\"this.select()\" readonly>\\begin{tabular}{|c|r|r|r|r|r|r|r|c|}\n",
       "\\hline\n",
       " & Name & Value & Para Error & Error+ & Error- & Limit+ & Limit- & FIXED\\\\\n",
       "\\hline\n",
       "1 & prefactor & 1.084e-06 & 1.620e-07 &  &  &  &  & \\\\\n",
       "\\hline\n",
       "2 & $v_{power}$ & 3.308e+00 & 3.884e-02 &  &  &  &  & \\\\\n",
       "\\hline\n",
       "3 & $i_{power}$ & 1.027e+00 & 8.630e-03 &  &  &  &  & \\\\\n",
       "\\hline\n",
       "\\end{tabular}</textarea>\n",
       "            </pre>\n",
       "            "
      ]
     },
     "metadata": {},
     "output_type": "display_data"
    },
    {
     "data": {
      "text/html": [
       "<hr>"
      ]
     },
     "metadata": {},
     "output_type": "display_data"
    },
    {
     "name": "stdout",
     "output_type": "stream",
     "text": [
      "Values found:  {'prefactor': 1.0839774916972308e-06, 'i_power': 1.0273675755168616, 'v_power': 3.307804223124495}\n",
      "Errors found:  {'prefactor': 1.6195234595439715e-07, 'i_power': 0.008629603987238735, 'v_power': 0.038842071148113236}\n"
     ]
    }
   ],
   "source": [
    "myvals = {'prefactor': 1e-6, 'v_power': 4.0, 'i_power': 1.5}\n",
    "forced_parameters=['prefactor','v_power','i_power']\n",
    "m=Minuit(chi2, forced_parameters = forced_parameters, **myvals) # m=Minuit(chi2) # \n",
    "\n",
    "print(m.values)\n",
    "m.migrad()\n",
    "print('Values found: ', m.values)\n",
    "print('Errors found: ', m.errors)"
   ]
  },
  {
   "cell_type": "markdown",
   "metadata": {},
   "source": [
    "### Don't give the errors"
   ]
  },
  {
   "cell_type": "code",
   "execution_count": 11,
   "metadata": {
    "collapsed": true
   },
   "outputs": [],
   "source": [
    "p0 = [1E-6, 3.5, 1.]\n",
    "popt, pcov = curve_fit(f_rate, (vol, cur), rate, p0=p0, sigma=rate_err)"
   ]
  },
  {
   "cell_type": "code",
   "execution_count": 12,
   "metadata": {
    "collapsed": false
   },
   "outputs": [
    {
     "data": {
      "text/plain": [
       "array([  1.08470160e-06,   3.30763171e+00,   1.02735433e+00])"
      ]
     },
     "execution_count": 12,
     "metadata": {},
     "output_type": "execute_result"
    }
   ],
   "source": [
    "popt"
   ]
  },
  {
   "cell_type": "markdown",
   "metadata": {
    "collapsed": true
   },
   "source": [
    "### Convert to actual numbers in a quick-and-dirty way"
   ]
  },
  {
   "cell_type": "code",
   "execution_count": 13,
   "metadata": {
    "collapsed": false
   },
   "outputs": [],
   "source": [
    "d_eff = 150.0 + 4.06 + 7.2 + 13.8/2 # Effective distance: distance outside NG-Cd shield + effective center + distance Cd - reference plane + radius NG\n",
    "s_eff = 4*np.pi*d_eff**2 # Effective surface area of sphere\n",
    "phi = np.array(rate)/3.515 # Flux at 0 degrees and this distance"
   ]
  },
  {
   "cell_type": "code",
   "execution_count": 14,
   "metadata": {
    "collapsed": true
   },
   "outputs": [],
   "source": [
    "def gauss(x, A, sigma):\n",
    "    return A*np.exp(-x**2/(2*sigma**2))\n",
    "popt_g = np.array([  0.98970953,  50.42659426])\n",
    "# average over all angles\n",
    "rate_v_angle_gauss = [gauss(angle, 1., popt_g[1]) for angle in np.linspace(-90,90,200)]\n",
    "angular_corr = np.average(rate_v_angle_gauss)"
   ]
  },
  {
   "cell_type": "code",
   "execution_count": 15,
   "metadata": {
    "collapsed": true
   },
   "outputs": [],
   "source": [
    "conversion_factor = s_eff * angular_corr * 1/3.515"
   ]
  },
  {
   "cell_type": "code",
   "execution_count": 16,
   "metadata": {
    "collapsed": false
   },
   "outputs": [],
   "source": [
    "n_per_sec = phi * s_eff * angular_corr\n",
    "n_per_sec_err = np.array(rate_err)/np.array(rate) * n_per_sec"
   ]
  },
  {
   "cell_type": "code",
   "execution_count": 17,
   "metadata": {
    "collapsed": false
   },
   "outputs": [
    {
     "data": {
      "text/plain": [
       "array([ 58932.88041235,  27880.42092553,  18942.10434517,  99879.06984985,\n",
       "        36650.55798536,  13924.07551346,   6564.94458429,  13493.84141579,\n",
       "        58115.02506544,  25343.48257541])"
      ]
     },
     "execution_count": 17,
     "metadata": {},
     "output_type": "execute_result"
    }
   ],
   "source": [
    "conversion_factor * np.array(rate)"
   ]
  },
  {
   "cell_type": "code",
   "execution_count": 18,
   "metadata": {
    "collapsed": true
   },
   "outputs": [],
   "source": [
    "%run function_definitions.ipynb\n",
    "import pylab"
   ]
  },
  {
   "cell_type": "code",
   "execution_count": 19,
   "metadata": {
    "collapsed": true
   },
   "outputs": [],
   "source": [
    "v_min = 35\n",
    "v_max = 60\n",
    "i_min = 0.4\n",
    "i_max = 2.5\n",
    "rate_min = 5e3\n",
    "rate_max = 1e5\n",
    "n_gridpoints = 101\n",
    "log_color = True\n",
    "x_label = 'Voltage (kV)'\n",
    "y_label = 'Current (mA)'\n",
    "point_size = 200\n",
    "#c_ticks = None #  None is automatic\n",
    "#c_ticks = [0.1, 0.17, 0.3, 0.5, 1, 2]\n",
    "c_ticks = [5e3, 1e4, 3e4, 1e5]\n",
    "c_tick_labels = ['5e3', '1e4', '3e4', '1e5']"
   ]
  },
  {
   "cell_type": "code",
   "execution_count": 20,
   "metadata": {
    "collapsed": false
   },
   "outputs": [],
   "source": [
    "# Initialize background colors given by fit\n",
    "xx, yy = pylab.meshgrid(\n",
    "    pylab.linspace(v_min,v_max, n_gridpoints),\n",
    "    pylab.linspace(i_min,i_max,n_gridpoints))\n",
    "\n",
    "zz = pylab.zeros(xx.shape)\n",
    "for i in range(xx.shape[0]):\n",
    "    for j in range(xx.shape[1]):\n",
    "        zz[i,j] = conversion_factor * f_rate((xx[i,j], yy[i,j]), *popt)"
   ]
  },
  {
   "cell_type": "code",
   "execution_count": 22,
   "metadata": {
    "collapsed": false
   },
   "outputs": [
    {
     "data": {
      "text/plain": [
       "<matplotlib.text.Text at 0x7f4288ca90f0>"
      ]
     },
     "execution_count": 22,
     "metadata": {},
     "output_type": "execute_result"
    },
    {
     "data": {
      "image/png": "[encoded data removed]",
      "text/plain": [
       "<matplotlib.figure.Figure at 0x7f4288d46b38>"
      ]
     },
     "metadata": {},
     "output_type": "display_data"
    }
   ],
   "source": [
    "#plt.set_c\n",
    "fig = plt.figure(figsize=(10,7))\n",
    "ax1 = fig.gca()\n",
    "# Plot fit \n",
    "if log_color:\n",
    "    pylab.pcolor(xx,yy,zz, vmin=rate_min, vmax=rate_max, norm=LogNorm())\n",
    "else:\n",
    "    pylab.pcolor(xx,yy,zz, vmin=rate_min, vmax=rate_max)\n",
    "\n",
    "if log_color:\n",
    "    plt.scatter(vol, cur, c = conversion_factor * rate, edgecolors='white', s=point_size, vmin=rate_min, vmax=rate_max, norm=LogNorm(), linewidth=3)\n",
    "else:\n",
    "    plt.scatter(vol, cur, c = conversion_factor * rate, edgecolors='white', s=point_size, vmin=rate_min, vmax=rate_max, linewidth=3)\n",
    "\n",
    "cbar = plt.colorbar(label='Neutron emission', ticks = c_ticks)\n",
    "cbar.ax.set_yticklabels(c_tick_labels)   \n",
    "plt.xlim(v_min, v_max)\n",
    "plt.ylim(i_min, i_max)\n",
    "plt.xlabel(x_label)\n",
    "plt.ylabel(y_label)\n",
    "plt.title(\"Floating exponents, $f = V^{\\ \\ %.2f}  I^{\\ \\ %.2f}$ \" % (popt[1], popt[2]))\n",
    "# plt.savefig('PTB_rate_UI.png', bbox_inches = 'tight')\n",
    "# plt.savefig('PTB_rate_UI.pdf', bbox_inches = 'tight')"
   ]
  },
  {
   "cell_type": "code",
   "execution_count": null,
   "metadata": {
    "collapsed": true
   },
   "outputs": [],
   "source": []
  },
  {
   "cell_type": "code",
   "execution_count": 23,
   "metadata": {
    "collapsed": false
   },
   "outputs": [
    {
     "data": {
      "text/plain": [
       "array([ 58932.88041235,  27880.42092553,  18942.10434517,  99879.06984985,\n",
       "        36650.55798536,  13924.07551346,   6564.94458429,  13493.84141579,\n",
       "        58115.02506544,  25343.48257541])"
      ]
     },
     "execution_count": 23,
     "metadata": {},
     "output_type": "execute_result"
    }
   ],
   "source": []
  },
  {
   "cell_type": "code",
   "execution_count": 24,
   "metadata": {
    "collapsed": false
   },
   "outputs": [
    {
     "data": {
      "text/plain": [
       "array([ 49.14835132,  48.95387966,  48.8291772 ,  57.47423436,\n",
       "        53.40459584,  39.85244873,  39.84663685,  49.2232604 ,\n",
       "        48.882031  ,  38.79104303])"
      ]
     },
     "execution_count": 24,
     "metadata": {},
     "output_type": "execute_result"
    }
   ],
   "source": [
    "vol"
   ]
  },
  {
   "cell_type": "code",
   "execution_count": 25,
   "metadata": {
    "collapsed": false
   },
   "outputs": [
    {
     "data": {
      "text/plain": [
       "array([ 1.99044514,  0.9919535 ,  0.69317581,  2.18901812,  0.99226583,\n",
       "        0.99202458,  0.49062936,  0.49075445,  1.99087761,  1.99084474])"
      ]
     },
     "execution_count": 25,
     "metadata": {},
     "output_type": "execute_result"
    }
   ],
   "source": [
    "cur"
   ]
  },
  {
   "cell_type": "code",
   "execution_count": 36,
   "metadata": {
    "collapsed": false
   },
   "outputs": [
    {
     "data": {
      "text/plain": [
       "0.64781328461944265"
      ]
     },
     "execution_count": 36,
     "metadata": {},
     "output_type": "execute_result"
    }
   ],
   "source": [
    "rate_v_angle_gauss = [gauss(angle, 1., popt_g[1]) for angle in np.linspace(-90,90,200)]\n",
    "rate_v_angle_gauss_cos = [gauss(angle, 1., popt_g[1]) * np.cos(angle/180*np.pi) for angle in np.linspace(-90,90,200)]\n",
    "angular_corr = np.average(rate_v_angle_gauss)\n",
    "\n",
    "angular_corr"
   ]
  },
  {
   "cell_type": "code",
   "execution_count": 37,
   "metadata": {
    "collapsed": false
   },
   "outputs": [
    {
     "data": {
      "text/plain": [
       "[<matplotlib.lines.Line2D at 0x7f42882a1f60>]"
      ]
     },
     "execution_count": 37,
     "metadata": {},
     "output_type": "execute_result"
    },
    {
     "data": {
      "image/png": "[encoded data removed]",
      "text/plain": [
       "<matplotlib.figure.Figure at 0x7f428821c5c0>"
      ]
     },
     "metadata": {},
     "output_type": "display_data"
    }
   ],
   "source": [
    "plt.plot(rate_v_angle_gauss)\n",
    "plt.plot(rate_v_angle_gauss_cos)"
   ]
  },
  {
   "cell_type": "code",
   "execution_count": null,
   "metadata": {
    "collapsed": true
   },
   "outputs": [],
   "source": []
  },
  {
   "cell_type": "code",
   "execution_count": null,
   "metadata": {
    "collapsed": true
   },
   "outputs": [],
   "source": []
  }
 ],
 "metadata": {
  "kernelspec": {
   "display_name": "Python 3",
   "language": "python",
   "name": "python3"
  },
  "language_info": {
   "codemirror_mode": {
    "name": "ipython",
    "version": 3
   },
   "file_extension": ".py",
   "mimetype": "text/x-python",
   "name": "python",
   "nbconvert_exporter": "python",
   "pygments_lexer": "ipython3",
   "version": "3.4.5"
  },
  "latex_envs": {
   "bibliofile": "biblio.bib",
   "cite_by": "apalike",
   "current_citInitial": 1,
   "eqLabelWithNumbers": true,
   "eqNumInitial": 0
  }
 },
 "nbformat": 4,
 "nbformat_minor": 0
}
