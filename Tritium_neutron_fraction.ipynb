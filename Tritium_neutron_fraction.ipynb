{
 "cells": [
  {
   "cell_type": "markdown",
   "metadata": {},
   "source": [
    "# Scaling for simulation"
   ]
  },
  {
   "cell_type": "code",
   "execution_count": 40,
   "metadata": {
    "collapsed": false
   },
   "outputs": [],
   "source": [
    "# NEW NUMBERS (11/11)\n",
    "n_sim_dd = 4e9 # Mail from Jacques for new dataset, Nov 11\n",
    "n_at_ne_dd = 116745 # NE213_Combined\n",
    "a_dd = 0.004378590912205715 # From fit, rebinned version (checked)\n",
    "a_dd_rel_unc = 0.00017208925339947404 / 0.004378590912205715\n",
    "# To check if this makes sense between datasets.\n",
    "f_useful_dd = n_at_ne_dd / n_sim_dd\n"
   ]
  },
  {
   "cell_type": "code",
   "execution_count": 41,
   "metadata": {
    "collapsed": false
   },
   "outputs": [],
   "source": [
    "# Uncertainty for the low-stat DT dataset\n",
    "# 1.2421 +- 0.233994\n",
    "# print(0.233994 / 1.2421)"
   ]
  },
  {
   "cell_type": "code",
   "execution_count": 42,
   "metadata": {
    "collapsed": true
   },
   "outputs": [],
   "source": [
    "# DT numbers, Simulation result Nov 1, wrong energy\n",
    "n_sim_dt   = 9.5e8 # Mail from JP Nov 1\n",
    "n_at_ne_dt = 20044 # Dataset from Nov 1; this is at the wrong energy :(\n",
    "f_useful_dt = n_at_ne_dt / n_sim_dt # Fraction of events that is useful\n",
    "# a_dt = 0.043077878353139365 # From fit\n",
    "a_dt = 0.0794423561716775 # THIS IS ACTUALLY FROM THE FIT"
   ]
  },
  {
   "cell_type": "code",
   "execution_count": 43,
   "metadata": {
    "collapsed": true
   },
   "outputs": [],
   "source": [
    "# DT numbers simulation Dec 5., wrong energy again\n",
    "n_sim_dt = 9.5e8 # Mail from JP Dec 5\n",
    "n_at_ne_dt = 14356 # Why so different?\n",
    "f_useful_dt = n_at_ne_dt / n_sim_dt\n",
    "a_dt = 0.08197476716848429 #  +- 0.015573331817021502 according to fit, but may improve with better E\n",
    "a_dt_rel_unc = 0.015573331817021502 / 0.08197476716848429"
   ]
  },
  {
   "cell_type": "code",
   "execution_count": 61,
   "metadata": {
    "collapsed": false
   },
   "outputs": [
    {
     "name": "stdout",
     "output_type": "stream",
     "text": [
      "Fraction of neutrons arriving at NE213: 29.2 per million for DD, 15.1 per million for DT\n"
     ]
    }
   ],
   "source": [
    "# print(f_useful_dd, f_useful_dt)\n",
    "# DD and DT should be more or less the same (right?)\n",
    "print('Fraction of neutrons arriving at NE213: %.1f per million for DD, %.1f per million for DT' %\n",
    "     (f_useful_dd*1e6, f_useful_dt*1e6))"
   ]
  },
  {
   "cell_type": "code",
   "execution_count": 45,
   "metadata": {
    "collapsed": false
   },
   "outputs": [],
   "source": [
    "# OK, here goes.\n",
    "# Normalize scaling factor a per number of events.\n",
    "# Does this make sense? Well, suppose you have a giant number of events. Then your scaling factor becomes\n",
    "# smaller and smaller. So, this should be up-corrected, i.e. multiplied by something proportional\n",
    "# to the number of simulated events.\n",
    "#\n",
    "# Other way to look at it: the spectrum should be normalized before fitting, then the scaling factor corrects for\n",
    "# this happening.\n",
    "#\n",
    "# Check: a INcreases if you DEcrease the statistics!\n",
    "a_eff_dd = a_dd * n_sim_dd\n",
    "a_eff_dt = a_dt * n_sim_dt"
   ]
  },
  {
   "cell_type": "code",
   "execution_count": 46,
   "metadata": {
    "collapsed": true
   },
   "outputs": [],
   "source": [
    "# Then, there is rebinning. \n",
    "# Lets get this straight. For the high energy, because of rebinning, the event rate is measured per 119 keVee.\n",
    "# So. The factor a you need for dt is actually LOWER since you rebinned to make all values higher.\n",
    "# This will give you a factor 50 or 25, depending on rebinning (discussed later)\n",
    "a_eff_dt = a_eff_dt / 50\n",
    "# \n",
    "# Well, how about checking the non-rebinned factor?\n",
    "# I checked. It is the same. So 50 is correct."
   ]
  },
  {
   "cell_type": "code",
   "execution_count": 47,
   "metadata": {
    "collapsed": false
   },
   "outputs": [
    {
     "data": {
      "text/plain": [
       "0.08892818531296637"
      ]
     },
     "execution_count": 47,
     "metadata": {},
     "output_type": "execute_result"
    }
   ],
   "source": [
    "# The final ratio:\n",
    "(a_eff_dt/a_eff_dd)"
   ]
  },
  {
   "cell_type": "markdown",
   "metadata": {},
   "source": [
    "## Comparison to AZ"
   ]
  },
  {
   "cell_type": "code",
   "execution_count": 48,
   "metadata": {
    "collapsed": true
   },
   "outputs": [],
   "source": [
    "# If we want to check if this result is consistent with Andreas' result, we should apply the same energy selection that \n",
    "# he does. For this, we'll read in the energy and then check what fraction is in range, then correct the fraction."
   ]
  },
  {
   "cell_type": "code",
   "execution_count": 49,
   "metadata": {
    "collapsed": true
   },
   "outputs": [],
   "source": [
    "def read_simulation(fn, col_n = 0):    \n",
    "    # Relevant imports to reading in \n",
    "    import ROOT\n",
    "    import root_numpy as rn\n",
    "\n",
    "    # Actually read the root file\n",
    "    f = ROOT.TFile(fn)\n",
    "    treenames = rn.list_trees(fn)\n",
    "    assert len(treenames) == 1\n",
    "    tree = f.Get(treenames[0])\n",
    "    data = rn.tree2array(tree)\n",
    "\n",
    "    # Somehow the data is stored in the form of an array of tuples... wtf? So here's a hack to get it out!\n",
    "    sim_energies = np.array([d[col_n] for d in data])\n",
    "    print('Read a total of %d events from file %s.' % (len(sim_energies), fn))\n",
    "    return sim_energies"
   ]
  },
  {
   "cell_type": "code",
   "execution_count": 50,
   "metadata": {
    "collapsed": false
   },
   "outputs": [
    {
     "name": "stdout",
     "output_type": "stream",
     "text": [
      "Read a total of 14356 events from file ./simu/161205_DT/NE213_DT_Combined2.root.\n"
     ]
    }
   ],
   "source": [
    "e_at_ne_dt = read_simulation('./simu/161205_DT/NE213_DT_Combined2.root')\n",
    "\n",
    "# e_at_ne_dt = np.concatenate([\n",
    "#     read_simulation('./simu/161101_14-1_MeV/NE213_DT_Spectrum.root'),\n",
    "#     read_simulation('./simu/161101_14-1_MeV/NE213_DT_Spectrum2.root'),\n",
    "#     read_simulation('./simu/161101_14-1_MeV/NE213_DT_Spectrum3.root'),\n",
    "#     read_simulation('./simu/161101_14-1_MeV/NE213_DT_Spectrum4.root')])/1000"
   ]
  },
  {
   "cell_type": "code",
   "execution_count": 51,
   "metadata": {
    "collapsed": false
   },
   "outputs": [
    {
     "name": "stdout",
     "output_type": "stream",
     "text": [
      "Read a total of 116745 events from file ./simu/161111_DD/NE213_DD_Combined.root.\n"
     ]
    }
   ],
   "source": [
    "e_at_ne_dd = read_simulation('./simu/161111_DD/NE213_DD_Combined.root')/1000"
   ]
  },
  {
   "cell_type": "code",
   "execution_count": 52,
   "metadata": {
    "collapsed": true
   },
   "outputs": [],
   "source": [
    "# This is the number of neutron events in the specified energy range\n",
    "n_in_range_dd = len(e_at_ne_dd[(e_at_ne_dd > 2.0) & (e_at_ne_dd < 2.8) ])\n",
    "n_in_range_dt = len(e_at_ne_dt[(e_at_ne_dt > 2.5)])"
   ]
  },
  {
   "cell_type": "code",
   "execution_count": 53,
   "metadata": {
    "collapsed": false
   },
   "outputs": [],
   "source": [
    "# ...And this is the fraction of events in range\n",
    "f_in_range_dt = n_in_range_dt / len(e_at_ne_dt)\n",
    "f_in_range_dd = n_in_range_dd / len(e_at_ne_dd)"
   ]
  },
  {
   "cell_type": "code",
   "execution_count": 54,
   "metadata": {
    "collapsed": false
   },
   "outputs": [
    {
     "name": "stdout",
     "output_type": "stream",
     "text": [
      "0.6242494325238769 0.9621760936193926\n"
     ]
    }
   ],
   "source": [
    "# By chance, these are nearly the same, so the correction is small.\n",
    "print(f_in_range_dd, f_in_range_dt)"
   ]
  },
  {
   "cell_type": "code",
   "execution_count": 55,
   "metadata": {
    "collapsed": false
   },
   "outputs": [
    {
     "data": {
      "text/plain": [
       "0.13706792429293665"
      ]
     },
     "execution_count": 55,
     "metadata": {},
     "output_type": "execute_result"
    }
   ],
   "source": [
    "# Now correction the previously found ratio\n",
    "# It makes sense that fraction is LOWER, since a lower number of DT neutrons are in the energy range.\n",
    "((a_eff_dt * f_in_range_dt) / (a_eff_dd * f_in_range_dd))"
   ]
  },
  {
   "cell_type": "markdown",
   "metadata": {
    "collapsed": true
   },
   "source": [
    "## Compare the two HE datasets"
   ]
  },
  {
   "cell_type": "code",
   "execution_count": 56,
   "metadata": {
    "collapsed": false
   },
   "outputs": [
    {
     "name": "stdout",
     "output_type": "stream",
     "text": [
      "Read a total of 3808 events from file ./simu/161101_14-1_MeV/NE213_DT_Spectrum.root.\n",
      "Read a total of 3871 events from file ./simu/161101_14-1_MeV/NE213_DT_Spectrum2.root.\n",
      "Read a total of 6103 events from file ./simu/161101_14-1_MeV/NE213_DT_Spectrum3.root.\n",
      "Read a total of 6262 events from file ./simu/161101_14-1_MeV/NE213_DT_Spectrum4.root.\n",
      "Read a total of 14356 events from file ./simu/161205_DT/NE213_DT_Combined2.root.\n"
     ]
    }
   ],
   "source": [
    "e_at_ne_dt_nov01 = np.concatenate([\n",
    "    read_simulation('./simu/161101_14-1_MeV/NE213_DT_Spectrum.root'),\n",
    "    read_simulation('./simu/161101_14-1_MeV/NE213_DT_Spectrum2.root'),\n",
    "    read_simulation('./simu/161101_14-1_MeV/NE213_DT_Spectrum3.root'),\n",
    "    read_simulation('./simu/161101_14-1_MeV/NE213_DT_Spectrum4.root')])/1000\n",
    "e_at_ne_dt_dec05 = read_simulation('./simu/161205_DT/NE213_DT_Combined2.root')/1000\n"
   ]
  },
  {
   "cell_type": "code",
   "execution_count": 57,
   "metadata": {
    "collapsed": true
   },
   "outputs": [],
   "source": [
    "import matplotlib.pyplot as plt\n",
    "%matplotlib inline"
   ]
  },
  {
   "cell_type": "code",
   "execution_count": 63,
   "metadata": {
    "collapsed": false
   },
   "outputs": [
    {
     "data": {
      "image/png": "[encoded data removed]",
      "text/plain": [
       "<matplotlib.figure.Figure at 0x7fddda3aa128>"
      ]
     },
     "metadata": {},
     "output_type": "display_data"
    }
   ],
   "source": [
    "plt.figure(figsize= (10,7))\n",
    "plt.hist(e_at_ne_dt_dec05, range=(0,15), bins=150, histtype= 'step')\n",
    "plt.hist(e_at_ne_dt_nov01, range=(0,15), bins=150, histtype= 'step')\n",
    "plt.ylabel('Counts per 100 keV')\n",
    "plt.xlabel('Energy (MeV)')\n",
    "plt.savefig('dataset_comparison.png', bbox_inches = 'tight')\n",
    "plt.show()"
   ]
  },
  {
   "cell_type": "code",
   "execution_count": null,
   "metadata": {
    "collapsed": true
   },
   "outputs": [],
   "source": []
  }
 ],
 "metadata": {
  "kernelspec": {
   "display_name": "Python 3",
   "language": "python",
   "name": "python3"
  },
  "language_info": {
   "codemirror_mode": {
    "name": "ipython",
    "version": 3
   },
   "file_extension": ".py",
   "mimetype": "text/x-python",
   "name": "python",
   "nbconvert_exporter": "python",
   "pygments_lexer": "ipython3",
   "version": "3.4.5"
  },
  "latex_envs": {
   "bibliofile": "biblio.bib",
   "cite_by": "apalike",
   "current_citInitial": 1,
   "eqLabelWithNumbers": true,
   "eqNumInitial": 0
  }
 },
 "nbformat": 4,
 "nbformat_minor": 0
}
