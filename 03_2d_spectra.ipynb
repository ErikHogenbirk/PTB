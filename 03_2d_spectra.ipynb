{
 "cells": [
  {
   "cell_type": "markdown",
   "metadata": {},
   "source": [
    "## Scintillation detector data for unfolding"
   ]
  },
  {
   "cell_type": "markdown",
   "metadata": {},
   "source": [
    "*Erik Hogenbirk, ehogenbi@nikhef.nl, May/June 2016 *"
   ]
  },
  {
   "cell_type": "markdown",
   "metadata": {},
   "source": [
    "The notebook here is to read in the data read from a NE213 scintillation detector. The output is a 2d histogram with on the x axis the energy (in channels, uncalibrated) and on the y axis some discrimination parameter. It is yet unknown what this is, exactly.\n",
    "\n",
    "This notebook reads the following datasets:\n",
    "  * Gamma calibration. There are three datasets, corresponding to three gamma sources. As some of these emit multiple gamma energies, this gives a calibration on six points.\n",
    "  * Background. We need this to take away the gamma background. Further explanation given further on;\n",
    "  * Neutron generator data. This was taken at different positions and NG settings.\n",
    "  \n",
    "There are some decisions that need to be made... The most important:\n",
    "  * **Gamma calibration**: In this note, I show an analysis based on the Compton edge that is determined as the 50% amplitude point in the spectra. A second analysis is by Monte Carlo matching, the result of which is shown here too. For now, we **take the MC matched result** but the difference is not too large anyway.\n",
    "  * **Background rejection**: We can either cut away the gamma background (for instance, with some percentile) or subtract the background. In this note we do both.\n",
    "  * **Combination**: Run 0 and 1 have exactly the same settings and are highest in statistics. No clear difference is observed between any of the other runs and this one. A total of five datasets are read. The main results (called ``fg_*`` of ``bg_*``, without a number, are the combination of two runs with the same, optimal conditions. "
   ]
  },
  {
   "cell_type": "markdown",
   "metadata": {},
   "source": [
    "### Settings"
   ]
  },
  {
   "cell_type": "code",
   "execution_count": 1,
   "metadata": {
    "collapsed": true
   },
   "outputs": [],
   "source": [
    "plot = False"
   ]
  },
  {
   "cell_type": "markdown",
   "metadata": {},
   "source": [
    "### Function definitions"
   ]
  },
  {
   "cell_type": "code",
   "execution_count": 2,
   "metadata": {
    "collapsed": true
   },
   "outputs": [],
   "source": [
    "# This notebook has some special functions that are stashed away.\n",
    "# Most important functions:\n",
    "#  - get_spectrum : read the spectrum from the ASCII file\n",
    "#  - find_line: auxilary function for get_spectrum to find the start position in the ASCII file.\n",
    "#  - get_fwhm_pos : find the position of the half maximum for the gamma calibration.\n",
    "#  - get_compton_energy: calculate Compton edge energy based on gamma initial energy\n",
    "%run function_definitions.ipynb\n",
    "my_colors = ['blue', 'green', 'red']"
   ]
  },
  {
   "cell_type": "markdown",
   "metadata": {},
   "source": [
    "### Data location"
   ]
  },
  {
   "cell_type": "code",
   "execution_count": 3,
   "metadata": {
    "collapsed": true
   },
   "outputs": [],
   "source": [
    "cal_filenames = [\n",
    "    './PTB_DATA/2016_MAY_31/2016_MAY_31_2_5MeV_NE213_FG_8.MPA',\n",
    "    './PTB_DATA/2016_MAY_31/2016_MAY_31_2_5MeV_NE213_FG_9.MPA',\n",
    "    './PTB_DATA/2016_MAY_31/2016_MAY_31_2_5MeV_NE213_FG_10.MPA']\n",
    "cal_labels = [\n",
    "    'Bi-207',\n",
    "    'Na-22',\n",
    "    'Cs-137']\n",
    "bg_filenames = [\n",
    "    './PTB_DATA/2016_MAY_31/2016_MAY_31_2_5MeV_NE213_FG_12.mpa',\n",
    "    './PTB_DATA/2016_JUN_02/2016_JUN_02_2_5MeV_NE213_FG_1.mpa']\n",
    "bg_livetimes = [\n",
    "    36001.78,\n",
    "    40002.56\n",
    "    ]\n",
    "ng_filenames = [\n",
    "    './PTB_DATA/2016_MAY_31/2016_MAY_31_2_5MeV_NE213_FG_7.mpa', # 50 kV 2.5 mA 0°\n",
    "    './PTB_DATA/2016_JUN_01/2016_JUN_01_2_5MeV_NE213_FG_1.mpa', # 50 kV 2.5 mA 0° (SAME SETTINGS!)\n",
    "    './PTB_DATA/2016_JUN_01/2016_JUN_01_2_5MeV_NE213_FG_2.mpa', # 40 kV 1.0 mA +140°\n",
    "    './PTB_DATA/2016_JUN_02/2016_JUN_02_2_5MeV_NE213_FG_2.mpa', # 40 kV 0.5 mA +140°\n",
    "    './PTB_DATA/2016_JUN_03/2016_JUN_03_2_5MeV_NE213_FG_1.mpa', # 50 kV 0.5 mA +140°\n",
    "    ]\n",
    "ng_livetimes = [\n",
    "    9806.20,\n",
    "    11950.19,\n",
    "    22654.55,\n",
    "    46199.75,\n",
    "    24747.66\n",
    "    ]\n",
    "\n",
    "# For the combination\n",
    "fg_livetime = ng_livetimes[0] + ng_livetimes[1]\n",
    "bg_livetime = sum(bg_livetimes)"
   ]
  },
  {
   "cell_type": "markdown",
   "metadata": {},
   "source": [
    "### Gamma calibration"
   ]
  },
  {
   "cell_type": "code",
   "execution_count": 4,
   "metadata": {
    "collapsed": false
   },
   "outputs": [],
   "source": [
    "if plot:\n",
    "    # Here we import the spectra one by one and plot them\n",
    "    for filename, label, color in zip(cal_filenames, cal_labels, my_colors):\n",
    "        line_n = find_line_start(filename, '[DATA')\n",
    "        spec = get_spectrum(filename, line_n)\n",
    "        plt.plot(spec,linestyle='steps', label=label, color=color)\n",
    "    #     fwhm_pos = get_fwhm_pos(spec)\n",
    "    #     plt.axvline(get_fwhm_pos(spec), color=color)\n",
    "    plt.yscale('log')\n",
    "    plt.title(\"Calibration sources\")\n",
    "    plt.xlabel('Channel')\n",
    "    plt.ylabel('Counts')\n",
    "    plt.xlim(0,1000)\n",
    "    plt.legend()\n",
    "    plt.show()"
   ]
  },
  {
   "cell_type": "code",
   "execution_count": 5,
   "metadata": {
    "collapsed": false
   },
   "outputs": [
    {
     "name": "stdout",
     "output_type": "stream",
     "text": [
      "Spectrum containing 4096 samples read, total 1778316 counts\n",
      "Spectrum containing 4096 samples read, total 133069 counts\n",
      "Spectrum containing 4096 samples read, total 177012 counts\n"
     ]
    }
   ],
   "source": [
    "# Now, determine the position of the Compton edges\n",
    "# We make two lists: one storing the energy in keV and one the index of the half-max sample\n",
    "energy_list   = []\n",
    "fwhm_pos_list = []\n",
    "\n",
    "for filename, label, color in zip(cal_filenames, cal_labels, my_colors):\n",
    "    line_n = find_line_start(filename, '[DATA')\n",
    "    spec = get_spectrum(filename, line_n)\n",
    "    if label == 'Bi-207':\n",
    "        # Bi-207 has three gamma ray energies, so three Compton edges to find\n",
    "        # https://ehs.ucsd.edu/rad/radionuclide/Bi-207.pdf\n",
    "        energy_list.append(get_compton_energy(570.))\n",
    "        fwhm_pos_list.append(get_fwhm_pos(spec))\n",
    "        energy_list.append(get_compton_energy(1064.))\n",
    "        fwhm_pos_list.append(get_fwhm_pos(spec[300:500]) + 300)\n",
    "        energy_list.append(get_compton_energy(1770.))\n",
    "        fwhm_pos_list.append(get_fwhm_pos(spec[500:800]) + 500)\n",
    "    if label == 'Na-22':\n",
    "        # From Na-22 we get 511 keV from positron allihilation and 1274 from gamma\n",
    "        energy_list.append(get_compton_energy(511.))\n",
    "        fwhm_pos_list.append(get_fwhm_pos(spec))\n",
    "        energy_list.append(get_compton_energy(1274.))\n",
    "        fwhm_pos_list.append(get_fwhm_pos(spec[300:600]) + 300)\n",
    "    if label == 'Cs-137':\n",
    "        # Only 662 keV\n",
    "        energy_list.append(get_compton_energy(662.))\n",
    "        fwhm_pos_list.append(get_fwhm_pos(spec))\n"
   ]
  },
  {
   "cell_type": "code",
   "execution_count": 6,
   "metadata": {
    "collapsed": false
   },
   "outputs": [
    {
     "name": "stdout",
     "output_type": "stream",
     "text": [
      "Erik Method:    Offset: 12.60 channels, slope: 0.4197 channels/keV\n",
      "Andreas Method: Offset: 6.00 channels, slope: 0.4188 channels/keV\n"
     ]
    }
   ],
   "source": [
    "# Now perform the calibration based on linear fit\n",
    "from scipy.optimize import curve_fit\n",
    "p_scale, _ = curve_fit(poly_1, energy_list, fwhm_pos_list)\n",
    "p_scale_and = [6, 1/4.775*2]\n",
    "\n",
    "# Invert relation\n",
    "p_scale_to_e = [- p_scale[0] / p_scale[1], 1 / p_scale[1]]\n",
    "p_scale_to_e_and = [- p_scale_and[0] / p_scale_and[1], 1 / p_scale_and[1]]\n",
    "# e_scale is the important list: it contains the energy in keV\n",
    "# This is basically the x axis for all our next plots!\n",
    "e_scale = np.array([poly_1(x, *p_scale_to_e) for x in range(4096)])\n",
    "e_scale_and = np.array([poly_1(x, *p_scale_to_e_and) for x in range(4096)])\n",
    "\n",
    "print(\"Erik Method:    Offset: %.2f channels, slope: %.4f channels/keV\" % (p_scale[0], p_scale[1]))\n",
    "print(\"Andreas Method: Offset: %.2f channels, slope: %.4f channels/keV\" % (p_scale_and[0], p_scale_and[1]))\n"
   ]
  },
  {
   "cell_type": "code",
   "execution_count": 7,
   "metadata": {
    "collapsed": false
   },
   "outputs": [],
   "source": [
    "if plot:\n",
    "    # Check out calibration\n",
    "    plt.scatter(energy_list, fwhm_pos_list, label='50% area points')\n",
    "    plt.plot(range(2000), [poly_1(x, *p_scale) for x in range(2000)], color='red', label='Linear fit')\n",
    "    plt.plot(range(2000), [poly_1(x, *p_scale_and) for x in range(2000)], color='green', label='Andreas method')\n",
    "\n",
    "    plt.xlabel('Energy (keV$_{ee}$)')\n",
    "    plt.ylabel('Channel')\n",
    "    plt.xlim(0,2000)\n",
    "    plt.ylim(0,800)\n",
    "    plt.legend(loc='upper left')\n",
    "    plt.show()"
   ]
  },
  {
   "cell_type": "code",
   "execution_count": 8,
   "metadata": {
    "collapsed": false
   },
   "outputs": [
    {
     "name": "stdout",
     "output_type": "stream",
     "text": [
      "Spectrum containing 4096 samples read, total 1778316 counts\n",
      "Spectrum containing 4096 samples read, total 133069 counts\n",
      "Spectrum containing 4096 samples read, total 177012 counts\n"
     ]
    },
    {
     "data": {
      "image/png": "[encoded data removed]",
      "text/plain": [
       "<matplotlib.figure.Figure at 0x7f899fa1d4a8>"
      ]
     },
     "metadata": {},
     "output_type": "display_data"
    }
   ],
   "source": [
    "# Now plot the spectra again, but include with correct x scale and the Compton edge energy\n",
    "my_colors = ['blue', 'green', 'red']\n",
    "for filename, label, color in zip(cal_filenames, cal_labels, my_colors):\n",
    "    line_n = find_line_start(filename, '[DATA')\n",
    "    spec = get_spectrum(filename, line_n)\n",
    "    if plot:\n",
    "        plt.plot(e_scale,spec,linestyle='steps', label=label, color=color)\n",
    "\n",
    "if plot:\n",
    "    for i, e in enumerate(np.sort(energy_list)):\n",
    "        if i==0 or i==4:\n",
    "            c = 'green'\n",
    "        if i==1 or i==3 or i==5:\n",
    "            c = 'blue'\n",
    "        if i==2:\n",
    "            c='red'\n",
    "        plt.axvline(e, c=c)\n",
    "    plt.yscale('log')\n",
    "    plt.title(\"Calibration sources\")\n",
    "    plt.xlabel('Energy (keV)')\n",
    "    plt.ylabel('Counts')\n",
    "    plt.xlim(0,2000)\n",
    "    plt.legend()\n",
    "    plt.show()"
   ]
  },
  {
   "cell_type": "markdown",
   "metadata": {},
   "source": [
    "#### Toggle calibration"
   ]
  },
  {
   "cell_type": "code",
   "execution_count": 9,
   "metadata": {
    "collapsed": false
   },
   "outputs": [
    {
     "name": "stdout",
     "output_type": "stream",
     "text": [
      "Selected Andreas' energy scale!\n"
     ]
    }
   ],
   "source": [
    "guy_to_trust = 'andreas'\n",
    "\n",
    "if guy_to_trust == 'andreas':\n",
    "    e_scale = e_scale_and\n",
    "    print(\"Selected Andreas' energy scale!\")\n",
    "if guy_to_trust == 'erik':\n",
    "    e_scale = e_scale\n",
    "    print(\"Selected Eriks energy scale!\")"
   ]
  },
  {
   "cell_type": "markdown",
   "metadata": {},
   "source": [
    "### Load neutron and background data"
   ]
  },
  {
   "cell_type": "code",
   "execution_count": 10,
   "metadata": {
    "collapsed": false
   },
   "outputs": [
    {
     "name": "stdout",
     "output_type": "stream",
     "text": [
      "Spectrum containing 4194304 samples read, total 976692 counts\n",
      "Spectrum containing 4194304 samples read, total 1244420 counts\n",
      "Spectrum containing 4194304 samples read, total 1867828 counts\n",
      "Spectrum containing 4194304 samples read, total 3781471 counts\n",
      "Spectrum containing 4194304 samples read, total 2050478 counts\n"
     ]
    }
   ],
   "source": [
    "# NG data\n",
    "spec2d_list = []\n",
    "for ng_filename in ng_filenames:\n",
    "    line_n = find_line_start(ng_filename,'[CDAT2')\n",
    "    spec2d_raw = get_spectrum(ng_filename, line_n)\n",
    "    spec2d = np.reshape(spec2d_raw, (1024,4096))\n",
    "    spec2d_list.append(spec2d)\n",
    "#spec2d = sum(spec2d_list)\n",
    "\n",
    "# NOTE THIS IS A NEW LINE... Only analize the first run, not all combined!\n",
    "# NOTE modified AGAIN August 2016. spec2d = spec2d_list[0] -> spec2d = spec2d_list[0] + spec2d_list[1]\n",
    "spec2d = spec2d_list[0] + spec2d_list[1]"
   ]
  },
  {
   "cell_type": "code",
   "execution_count": 11,
   "metadata": {
    "collapsed": false
   },
   "outputs": [],
   "source": [
    "if plot:\n",
    "    # Check that spectra coincide\n",
    "    scale_it = True # Toggle scaling by the total livetime\n",
    "    plt.figure(figsize=(17,7))\n",
    "    for i, spec in enumerate(spec2d_list):\n",
    "        if scale_it:\n",
    "            #norm_fac = 1./np.sum(spec)\n",
    "            norm_fac = 1/ng_livetimes[i]\n",
    "        else:\n",
    "            norm_fac = 1.\n",
    "        plt.plot(norm_fac*np.sum(spec, axis=0), label='Meas. # %d' % i)\n",
    "\n",
    "    if scale_it:\n",
    "        norm_fac = 1./(fg_livetime)\n",
    "    else:\n",
    "        norm_fac = 1.\n",
    "    plt.plot(norm_fac*np.sum(spec2d, axis=0), label='Combined 0 and 1')\n",
    "    plt.yscale('log')\n",
    "    plt.legend()\n",
    "    plt.title('Neutron generator pulse height spectrum')\n",
    "    plt.xlabel('Energy (channels)')\n",
    "    if scale_it:\n",
    "        plt.ylabel('Counts (normalized)')\n",
    "    else:\n",
    "        plt.ylabel('Counts')\n",
    "    plt.show()"
   ]
  },
  {
   "cell_type": "code",
   "execution_count": 12,
   "metadata": {
    "collapsed": false
   },
   "outputs": [
    {
     "name": "stdout",
     "output_type": "stream",
     "text": [
      "Spectrum containing 4194304 samples read, total 2968699 counts\n",
      "Spectrum containing 4194304 samples read, total 3252444 counts\n"
     ]
    }
   ],
   "source": [
    "# BG data\n",
    "spec2d_bg_list = []\n",
    "for bg_filename in bg_filenames:\n",
    "    line_n = find_line_start(bg_filename,'[CDAT2')\n",
    "    spec2d_raw = get_spectrum(bg_filename, line_n)\n",
    "    spec2d_bg = np.reshape(spec2d_raw, (1024,4096))\n",
    "    spec2d_bg_list.append(spec2d_bg)\n",
    "# Sum the background\n",
    "spec2d_bg = sum(spec2d_bg_list)"
   ]
  },
  {
   "cell_type": "code",
   "execution_count": 13,
   "metadata": {
    "collapsed": false
   },
   "outputs": [],
   "source": [
    "if plot:\n",
    "    # Check that spectra coincide\n",
    "    scale_it = True # Toggle scaling by the total number of counts\n",
    "    plt.figure(figsize=(17,7))\n",
    "    for i, spec in enumerate(spec2d_bg_list):\n",
    "        if scale_it:\n",
    "            norm_fac = 1./np.sum(spec)\n",
    "        else:\n",
    "            norm_fac = 1.\n",
    "        plt.plot(norm_fac*np.sum(spec, axis=0), label='Meas. # %d' % i)\n",
    "    if scale_it:\n",
    "        norm_fac = 1./np.sum(spec2d_bg)\n",
    "    else:\n",
    "        norm_fac = 1.\n",
    "    plt.plot(norm_fac*np.sum(spec2d_bg, axis=0), label='Combined')\n",
    "    plt.yscale('log')\n",
    "    plt.title('Background pulse height spectrum')\n",
    "    plt.legend()\n",
    "    plt.show()"
   ]
  },
  {
   "cell_type": "markdown",
   "metadata": {},
   "source": [
    "### Cut background away"
   ]
  },
  {
   "cell_type": "markdown",
   "metadata": {},
   "source": [
    "One thing we can do is cut the BG away based on the background discrimination parameter. For this, we have to calculate some cut parameter. I build a class to perform the cut based on a percentile of the BG distribution in y."
   ]
  },
  {
   "cell_type": "markdown",
   "metadata": {},
   "source": [
    "#### Cut class defintion"
   ]
  },
  {
   "cell_type": "code",
   "execution_count": 14,
   "metadata": {
    "collapsed": true
   },
   "outputs": [],
   "source": [
    "class Cut:\n",
    "    '''\n",
    "    Produce a cut function to cut on a percentile list.\n",
    "    '''\n",
    "    \n",
    "    pct = 0.\n",
    "    pct_list = [True for x in range(4096) ] \n",
    "    x_thr = 0.\n",
    "    y_thr = 0.\n",
    "    \n",
    "    def get_percentile(self, spec2d, pct):\n",
    "        self.pct_list = []\n",
    "        self.pct = pct\n",
    "        for x in range(len(spec2d[0])):\n",
    "            self.pct_list.append(self.get_percentile_pos(spec2d[:,x],pct))\n",
    "        \n",
    "    def get_percentile_pos(self, dist, percent):\n",
    "        tot = sum(dist)\n",
    "        count = 0\n",
    "        for i, x in enumerate(dist):\n",
    "            if count >= tot*percent/100.:\n",
    "                return i\n",
    "            count += x\n",
    "        # We should never arrive here\n",
    "        print('WARNING! Error in get_percentile_pos')\n",
    "        return -1\n",
    "    \n",
    "    def f_cut(self, x, y):\n",
    "        '''\n",
    "        FALSE = CUT\n",
    "        TRUE = KEEP\n",
    "        '''\n",
    "        cut_y = self.pct_list[x-1]\n",
    "        if y < cut_y:\n",
    "            return False\n",
    "        if x < self.x_thr:\n",
    "            return False\n",
    "        if y < self.y_thr:\n",
    "            return False\n",
    "        else:\n",
    "            return True\n",
    "        \n",
    "    def plot_bounds(self, **kwargs):\n",
    "        plt.plot(range(len(self.pct_list)), self.pct_list, **kwargs)\n",
    "        plt.axvline(self.x_thr, **kwargs)\n",
    "        plt.axhline(self.y_thr, **kwargs)\n",
    "        \n",
    "    def plot_percentile(self, **kwargs):\n",
    "        plt.plot(range(len(self.pct_list)), self.pct_list, **kwargs)"
   ]
  },
  {
   "cell_type": "markdown",
   "metadata": {},
   "source": [
    "#### Calculate cuts"
   ]
  },
  {
   "cell_type": "code",
   "execution_count": 15,
   "metadata": {
    "collapsed": false
   },
   "outputs": [],
   "source": [
    "cut_list = []\n",
    "# 99 percent looks good, add to this list if you disagree\n",
    "for percentile in [99.0]:\n",
    "    cut = Cut()\n",
    "    cut.get_percentile(spec2d_bg, percentile)\n",
    "    cut_list.append(cut)"
   ]
  },
  {
   "cell_type": "markdown",
   "metadata": {},
   "source": [
    "#### Show cuts on background and foreground"
   ]
  },
  {
   "cell_type": "code",
   "execution_count": 16,
   "metadata": {
    "collapsed": false
   },
   "outputs": [],
   "source": [
    "if plot:\n",
    "    plt.figure(figsize=(14,10))\n",
    "    im = plt.imshow(spec2d_bg, origin='low', interpolation='none', # interpolation='nearest'\n",
    "                    norm=LogNorm())\n",
    "    for cut, color in zip(cut_list, ['red', 'orange', 'green', 'purple', 'black']):\n",
    "        cut.plot_percentile(label='%.2f percentile' % cut.pct, color=color)\n",
    "    plt.colorbar()\n",
    "    plt.xlim(0,600)\n",
    "    plt.ylim(0,600)\n",
    "    plt.title('Background')\n",
    "    plt.legend()\n",
    "    plt.xlabel('Pulse height (channels)')\n",
    "    plt.ylabel('Pulse shape parameter')\n",
    "    plt.show()"
   ]
  },
  {
   "cell_type": "code",
   "execution_count": 17,
   "metadata": {
    "collapsed": false
   },
   "outputs": [],
   "source": [
    "if plot:\n",
    "    plt.figure(figsize=(14,10))\n",
    "    im = plt.imshow(spec2d, origin='low', interpolation='none', # interpolation='nearest'\n",
    "                    norm=LogNorm())\n",
    "    for cut, color in zip(cut_list, ['red', 'orange', 'green', 'purple', 'black']):\n",
    "        cut.plot_percentile(label='%.2f percentile' % cut.pct, color=color)\n",
    "    plt.colorbar()\n",
    "    plt.xlim(0,600)\n",
    "    plt.ylim(0,600)\n",
    "    plt.title('NG ON, NG run 0+1')\n",
    "    plt.legend()\n",
    "    plt.xlabel('Pulse height (channels)')\n",
    "    plt.ylabel('Pulse shape parameter')\n",
    "    plt.show()"
   ]
  },
  {
   "cell_type": "markdown",
   "metadata": {},
   "source": [
    "#### Get acceptance estimate"
   ]
  },
  {
   "cell_type": "code",
   "execution_count": 18,
   "metadata": {
    "collapsed": true
   },
   "outputs": [],
   "source": [
    "from scipy.optimize import curve_fit"
   ]
  },
  {
   "cell_type": "code",
   "execution_count": 19,
   "metadata": {
    "collapsed": true
   },
   "outputs": [],
   "source": [
    "def double_gaussian(x, a1, mu1, sigma1, a2, mu2, sigma2):\n",
    "    return a1*gaussian(x, mu1, sigma1) + a2*gaussian(x, mu2, sigma2) "
   ]
  },
  {
   "cell_type": "code",
   "execution_count": 20,
   "metadata": {
    "collapsed": true
   },
   "outputs": [],
   "source": [
    "def get_acceptance(threshold, a1, mu1, sigma1, a2, mu2, sigma2):\n",
    "    from scipy.integrate import quad\n",
    "    def integrand(x):\n",
    "        return gaussian(x, mu2, sigma2)\n",
    "    return 1- quad(integrand, 0, threshold)[0]\n",
    " \n",
    "def get_bg_acceptance(threshold, a1, mu1, sigma1, a2, mu2, sigma2):\n",
    "    from scipy.integrate import quad\n",
    "    def integrand(x):\n",
    "        return gaussian(x, mu1, sigma1)\n",
    "    return 1- quad(integrand, 0, threshold)[0]\n",
    " "
   ]
  },
  {
   "cell_type": "code",
   "execution_count": 21,
   "metadata": {
    "collapsed": false
   },
   "outputs": [],
   "source": [
    "if plot:\n",
    "    cut = cut_list[0]\n",
    "    i = 150\n",
    "    c_spec = spec2d[:,i]\n",
    "    p0 = [600, 220, 15, 500, 300, 20]\n",
    "    popt, pcov = curve_fit(double_gaussian, range(len(c_spec)), c_spec, p0=p0)\n",
    "    plt.plot(c_spec)\n",
    "    plt.plot([double_gaussian(x, *popt) for x in range(len(c_spec))], color='red', lw=2)\n",
    "    plt.axvline(cut.pct_list[i], lw=2, ls='--', c='r')\n",
    "    plt.xlim(0,500)\n",
    "    plt.xlabel('Discrimination parameter')\n",
    "    plt.ylabel('Counts')\n",
    "    plt.text(250, 24, 'Energy bin %d = %.1f keVee' % (i, e_scale[i]))\n",
    "    plt.text(250, 22, 'Acceptance %.2f%%' % (100*get_acceptance(cut.pct_list[i], *popt)))"
   ]
  },
  {
   "cell_type": "code",
   "execution_count": 22,
   "metadata": {
    "collapsed": false
   },
   "outputs": [],
   "source": [
    "cut = cut_list[0]\n",
    "i = 200\n",
    "\n",
    "acc_thresholds = np.arange(50, 300)\n",
    "acc_thresholds_energy = e_scale[50:300]\n",
    "acc_acceptances = []\n",
    "acc_bg_acc = []\n",
    "for i in acc_thresholds:\n",
    "    # Current spectrum in discrimination parameter space\n",
    "    c_spec = spec2d[:,i]\n",
    "    p0 = [600, 220, 15, 500, 300, 20]\n",
    "    popt, pcov = curve_fit(double_gaussian, range(len(c_spec)), c_spec, p0=p0)\n",
    "    acc_acceptances.append(get_acceptance(cut.pct_list[i], *popt))\n",
    "    acc_bg_acc.append(get_bg_acceptance(cut.pct_list[i], *popt))\n",
    "    \n"
   ]
  },
  {
   "cell_type": "code",
   "execution_count": 23,
   "metadata": {
    "collapsed": false
   },
   "outputs": [],
   "source": [
    "if plot:\n",
    "    plt.plot(acc_thresholds_energy, acc_acceptances, marker='.', markersize=10)\n",
    "    plt.ylim(0,1)\n",
    "    plt.xlim(0,500)\n",
    "    plt.xlabel('Energy (keV$_{ee}$)')\n",
    "    plt.ylabel('Acceptance')"
   ]
  },
  {
   "cell_type": "markdown",
   "metadata": {},
   "source": [
    "#### Apply cut"
   ]
  },
  {
   "cell_type": "code",
   "execution_count": 24,
   "metadata": {
    "collapsed": false
   },
   "outputs": [],
   "source": [
    "# cut_list[0] means we're taking the 99.0 % cut\n",
    "# cut_list[1] means we're taking the 99.5 % cut\n",
    "cut = cut_list[0]\n",
    "cut.x_thr = 60.\n",
    "spec2d_cut = cut_hist2d(spec2d, cut.f_cut)\n",
    "spec2d_bg_cut = cut_hist2d(spec2d_bg, cut.f_cut)"
   ]
  },
  {
   "cell_type": "code",
   "execution_count": 25,
   "metadata": {
    "collapsed": false
   },
   "outputs": [],
   "source": [
    "if plot:\n",
    "    plt.figure(figsize=(14,10))\n",
    "    im = plt.imshow(spec2d_cut, origin='low', interpolation='none', # interpolation='nearest'\n",
    "                    norm=LogNorm())\n",
    "    plt.colorbar()\n",
    "    plt.xlim(0,600)\n",
    "    plt.ylim(0,600)\n",
    "    plt.title('NG ON - CUT')\n",
    "    cut.plot_bounds(color='red', ls='--', lw=1.5, label='%.2f percentile' % cut.pct)\n",
    "    plt.legend()\n",
    "    plt.xlabel('Pulse height (channels)')\n",
    "    plt.ylabel('Pulse shape parameter')\n",
    "    plt.show()"
   ]
  },
  {
   "cell_type": "markdown",
   "metadata": {},
   "source": [
    "#### Calculate cut spectra for all NG runs"
   ]
  },
  {
   "cell_type": "code",
   "execution_count": 26,
   "metadata": {
    "collapsed": false
   },
   "outputs": [],
   "source": [
    "# Settings equal for all runs\n",
    "cut = cut_list[0]\n",
    "cut.x_thr = 60.\n",
    "\n",
    "# Now, for all runs:\n",
    "# - Take 2d spectrum\n",
    "# - Apply cuts based on BG percentiles\n",
    "# - Project on x axis to obtain 1d (energy) spectrum\n",
    "# - Divide by lifetime or run \n",
    "fg_disc   = 1/fg_livetime*np.sum((cut_hist2d(spec2d_list[0], cut.f_cut) + cut_hist2d(spec2d_list[1], \n",
    "                                                                                                 cut.f_cut)), axis=0)\n",
    "fg_0_disc = 1/ng_livetimes[0]*np.sum(cut_hist2d(spec2d_list[0], cut.f_cut), axis=0)\n",
    "fg_1_disc = 1/ng_livetimes[1]*np.sum(cut_hist2d(spec2d_list[1], cut.f_cut), axis=0)\n",
    "fg_2_disc = 1/ng_livetimes[2]*np.sum(cut_hist2d(spec2d_list[2], cut.f_cut), axis=0)\n",
    "fg_3_disc = 1/ng_livetimes[3]*np.sum(cut_hist2d(spec2d_list[3], cut.f_cut), axis=0)\n",
    "fg_4_disc = 1/ng_livetimes[4]*np.sum(cut_hist2d(spec2d_list[4], cut.f_cut), axis=0)\n",
    "\n",
    "\n",
    "\n",
    "# Calculate errors:\n",
    "# - Assume only Poissonian errors\n",
    "# WARNING: - uncertainty on cut is NOT taken into account\n",
    "# WARNING: - zero error for zero count, screws all fits up.\n",
    "fg_disc_err   = 1/fg_livetime*np.sqrt(np.sum((cut_hist2d(spec2d_list[0], cut.f_cut) + cut_hist2d(spec2d_list[1], \n",
    "                                                                                                 cut.f_cut)), axis=0))\n",
    "fg_0_disc_err = 1/ng_livetimes[0]*np.sqrt(np.sum(cut_hist2d(spec2d_list[0], cut.f_cut), axis=0))\n",
    "fg_1_disc_err = 1/ng_livetimes[1]*np.sqrt(np.sum(cut_hist2d(spec2d_list[1], cut.f_cut), axis=0))\n",
    "fg_2_disc_err = 1/ng_livetimes[2]*np.sqrt(np.sum(cut_hist2d(spec2d_list[2], cut.f_cut), axis=0))\n",
    "fg_3_disc_err = 1/ng_livetimes[3]*np.sqrt(np.sum(cut_hist2d(spec2d_list[3], cut.f_cut), axis=0))\n",
    "fg_4_disc_err = 1/ng_livetimes[4]*np.sqrt(np.sum(cut_hist2d(spec2d_list[4], cut.f_cut), axis=0))\n",
    "\n",
    "# Also for BG, because this is how much of the BG leaks into signal!\n",
    "bg_disc = 1/bg_livetime*np.sum(cut_hist2d(spec2d_bg, cut.f_cut), axis=0)\n",
    "bg_disc_err = 1/bg_livetime*np.sqrt(np.sum(cut_hist2d(spec2d_bg, cut.f_cut), axis=0))\n",
    "\n",
    "# Subtract BG leakage\n",
    "fg_disc_sub = fg_disc - bg_disc\n",
    "fg_disc_sub_err = np.sqrt(fg_disc_err**2 + bg_disc_err**2)"
   ]
  },
  {
   "cell_type": "markdown",
   "metadata": {},
   "source": [
    "#### Show cut pulse height spectra"
   ]
  },
  {
   "cell_type": "code",
   "execution_count": 27,
   "metadata": {
    "collapsed": false
   },
   "outputs": [],
   "source": [
    "if plot:\n",
    "    plt.plot(e_scale, fg_disc, color='black',  label='0+1 BG rejected')\n",
    "    plt.plot(e_scale, fg_0_disc, color='blue', label='NG #0 BG rejected')\n",
    "    plt.plot(e_scale, fg_1_disc, color='green', label='NG #1 BG rejected')\n",
    "    plt.plot(e_scale, fg_2_disc, color='red', label='NG #2 BG rejected')\n",
    "    plt.plot(e_scale, fg_3_disc, color='orange', label='NG #3 BG rejected')\n",
    "    plt.plot(e_scale, fg_4_disc, color='purple', label='NG #4 BG rejected')\n",
    "    plt.plot(e_scale, bg_disc, color='black', label='BG leakage')\n",
    "\n",
    "    plt.xlim(0,2000)\n",
    "    #plt.ylim(0,0.007)\n",
    "    plt.legend()\n",
    "    plt.yscale('log')\n"
   ]
  },
  {
   "cell_type": "code",
   "execution_count": 28,
   "metadata": {
    "collapsed": false
   },
   "outputs": [],
   "source": [
    "if plot:\n",
    "    plt.errorbar(e_scale, fg_disc, fg_disc_err, linestyle='none', marker='.', markersize=5,  label='Background discriminated')\n",
    "    plt.errorbar(e_scale, bg_disc, bg_disc_err, linestyle='none', marker='.', markersize=5,  label='Background leakage')\n",
    "    plt.errorbar(e_scale, fg_disc_sub, fg_disc_sub_err, linestyle='none', marker='.', markersize=5,  \n",
    "                 label='Leakage subtracted')\n",
    "    plt.xlim(0,2000)\n",
    "    plt.yscale('log')\n",
    "\n",
    "    plt.xlabel('Energy (keV$_{ee}$)')\n",
    "    plt.ylabel('Differential rate (Hz/(2.38 keV$_{ee}$))')\n",
    "    plt.legend()\n"
   ]
  },
  {
   "cell_type": "code",
   "execution_count": 29,
   "metadata": {
    "collapsed": false
   },
   "outputs": [],
   "source": [
    "if plot:\n",
    "    plt.errorbar(e_scale, fg_disc, fg_disc_err, linestyle='none', marker='.', markersize=5,  label='Neutron generator on')\n",
    "    plt.errorbar(e_scale, bg_disc, bg_disc_err, linestyle='none', marker='.', markersize=5,  label='Background leakage')\n",
    "    plt.errorbar(e_scale, fg_disc_sub, fg_disc_sub_err, linestyle='none', marker='.', markersize=5,  \n",
    "                 label='Background subtracted')\n",
    "\n",
    "    plt.xlim(700,1200)\n",
    "    plt.yscale('log')\n",
    "    plt.ylim(0.000001,0.01)\n",
    "\n",
    "    plt.xlabel('Energy (keV$_{ee}$)')\n",
    "    plt.ylabel('Differential rate (Hz/(2.38 keV$_{ee}$))')\n",
    "    plt.legend()\n"
   ]
  },
  {
   "cell_type": "markdown",
   "metadata": {
    "collapsed": true
   },
   "source": [
    "### Subtract BG"
   ]
  },
  {
   "cell_type": "markdown",
   "metadata": {},
   "source": [
    "#### Plot spectra"
   ]
  },
  {
   "cell_type": "code",
   "execution_count": 30,
   "metadata": {
    "collapsed": false
   },
   "outputs": [],
   "source": [
    "if plot:\n",
    "    for i in range(len(spec2d_list)):\n",
    "        plt.plot(e_scale, 1/ng_livetimes[i]*np.sum(spec2d_list[i],axis=0), label = 'NG #%d' % i)\n",
    "    for i in range(len(spec2d_bg_list)):\n",
    "        plt.plot(e_scale, 1/bg_livetimes[i]*np.sum(spec2d_bg_list[i],axis=0), label = 'BG #%d' % i)\n",
    "\n",
    "    plt.xlabel('Energy (keV$_{ee}$)')\n",
    "    plt.legend()\n",
    "    plt.xlim(0,2000)\n",
    "    plt.yscale('log')"
   ]
  },
  {
   "cell_type": "markdown",
   "metadata": {},
   "source": [
    "#### Compute spectra and errors"
   ]
  },
  {
   "cell_type": "code",
   "execution_count": 31,
   "metadata": {
    "collapsed": false
   },
   "outputs": [],
   "source": [
    "# Compute the livetime-corrected energy spectra\n",
    "fg   = 1/(fg_livetime)*np.sum((spec2d_list[0] + spec2d_list[1]),axis=0)\n",
    "fg_0 = 1/ng_livetimes[0]*np.sum(spec2d_list[0],axis=0)\n",
    "fg_1 = 1/ng_livetimes[1]*np.sum(spec2d_list[1],axis=0)\n",
    "fg_2 = 1/ng_livetimes[2]*np.sum(spec2d_list[2],axis=0)\n",
    "fg_3 = 1/ng_livetimes[3]*np.sum(spec2d_list[3],axis=0)\n",
    "fg_4 = 1/ng_livetimes[4]*np.sum(spec2d_list[4],axis=0)\n",
    "\n",
    "\n",
    "# Combine BG: take sum of counts and sum of livetimes\n",
    "bg = (1/bg_livetime)*(np.sum(spec2d_bg_list[0],axis=0) + np.sum(spec2d_bg_list[1],axis=0))\n",
    "\n",
    "# Compute the errors\n",
    "fg_err   = 1/fg_livetime*np.sqrt(np.sum((spec2d_list[0] + spec2d_list[1]),axis=0))\n",
    "fg_0_err = 1/ng_livetimes[0]*np.sqrt(np.sum(spec2d_list[0],axis=0))\n",
    "fg_1_err = 1/ng_livetimes[1]*np.sqrt(np.sum(spec2d_list[1],axis=0))\n",
    "fg_2_err = 1/ng_livetimes[2]*np.sqrt(np.sum(spec2d_list[2],axis=0))\n",
    "fg_3_err = 1/ng_livetimes[3]*np.sqrt(np.sum(spec2d_list[3],axis=0))\n",
    "fg_4_err = 1/ng_livetimes[4]*np.sqrt(np.sum(spec2d_list[4],axis=0))\n",
    "\n",
    "bg_err = (1/sum(bg_livetimes))*np.sqrt(\n",
    "    (np.sum(spec2d_bg_list[0],axis=0) + np.sum(spec2d_bg_list[1],axis=0)))\n",
    "\n",
    "# Subtract BG\n",
    "fg_sub = fg - bg\n",
    "fg_0_sub = fg_0 - bg\n",
    "fg_1_sub = fg_1 - bg\n",
    "fg_2_sub = fg_2 - bg\n",
    "fg_3_sub = fg_3 - bg\n",
    "fg_4_sub = fg_4 - bg\n",
    "\n",
    "# Compute errors for subtracted BG plot\n",
    "fg_sub_err = np.sqrt(fg_err**2 + bg_err**2)\n",
    "fg_0_sub_err = np.sqrt(fg_0_err**2 + bg_err**2)\n",
    "fg_1_sub_err = np.sqrt(fg_1_err**2 + bg_err**2)\n",
    "fg_2_sub_err = np.sqrt(fg_2_err**2 + bg_err**2)\n",
    "fg_3_sub_err = np.sqrt(fg_3_err**2 + bg_err**2)\n",
    "fg_4_sub_err = np.sqrt(fg_4_err**2 + bg_err**2)"
   ]
  },
  {
   "cell_type": "code",
   "execution_count": 32,
   "metadata": {
    "collapsed": false
   },
   "outputs": [],
   "source": [
    "if plot:\n",
    "    plt.plot(e_scale, fg_0_disc, color='blue', label='NG #0 BG rejected')\n",
    "    plt.plot(e_scale, fg_0_sub, color='blue',ls='--')\n",
    "    plt.plot(e_scale, fg_1_disc, color='green', label='NG #1 BG rejected')\n",
    "    plt.plot(e_scale, fg_1_sub, color='green', ls='--')\n",
    "    plt.plot(e_scale, fg_2_disc, color='red', label='NG #2 BG rejected')\n",
    "    plt.plot(e_scale, fg_2_sub, color='red', ls='--')\n",
    "    plt.plot(e_scale, bg_disc, color='black', label='BG leakage')\n",
    "\n",
    "    plt.xlim(0,2000)\n",
    "    plt.ylim(1e-6, 1e-1)\n",
    "    plt.legend()\n",
    "    plt.yscale('log')"
   ]
  },
  {
   "cell_type": "markdown",
   "metadata": {},
   "source": [
    "### Investigate high energy population"
   ]
  },
  {
   "cell_type": "markdown",
   "metadata": {
    "collapsed": true
   },
   "source": [
    "#### Simple rebinning"
   ]
  },
  {
   "cell_type": "code",
   "execution_count": 33,
   "metadata": {
    "collapsed": true
   },
   "outputs": [],
   "source": [
    "def get_percentile_location(arr, pct):\n",
    "    '''\n",
    "    No idea why fucking numpy doesnt work on 1d arrays gvd\n",
    "    '''\n",
    "    total = sum(arr)\n",
    "    current_sum = 0.\n",
    "    i = 0\n",
    "    while current_sum < total*pct:\n",
    "        current_sum += arr[i]\n",
    "        i += 1\n",
    "    return i"
   ]
  },
  {
   "cell_type": "code",
   "execution_count": 34,
   "metadata": {
    "collapsed": true
   },
   "outputs": [],
   "source": [
    "def rebin(arr, factor=2, mode='avg'):\n",
    "    '''\n",
    "    Rebin an array. Take integer factor. Modes available:\n",
    "      - avg: average. Default.\n",
    "      - sum: Sum.\n",
    "      - quad: adding all in quadrature. Mostly for errors.\n",
    "      - quad_avg: adding all in quadrature, then taking average. For errors on averages.\n",
    "    '''\n",
    "    if mode == 'avg':\n",
    "        rebin = np.array([1/factor*sum(arr[i:i + factor]) for i in np.arange(0, len(arr), factor)])\n",
    "    elif mode == 'sum':\n",
    "        rebin = np.array([sum(arr[i:i + factor]) for i in np.arange(0, len(arr), factor)])\n",
    "    elif mode == 'quad':\n",
    "        rebin = np.array([np.sqrt(sum(arr[i:i + factor]**2))\n",
    "                          for i in np.arange(0, len(arr), factor)])\n",
    "    elif mode == 'quad_avg':\n",
    "        rebin = np.array([1/factor*np.sqrt(sum(arr[i:i + factor]**2))\n",
    "                          for i in np.arange(0, len(arr), factor)])\n",
    "    else:\n",
    "        raise SyntaxError('Did not get the rebinning mode, you specified: %s' % mode)\n",
    "    \n",
    "    return rebin"
   ]
  },
  {
   "cell_type": "code",
   "execution_count": 35,
   "metadata": {
    "collapsed": false
   },
   "outputs": [],
   "source": [
    "pct = 0.99\n",
    "cutoffs = []\n",
    "e_scale_he = []\n",
    "fg_he = []\n",
    "bg_he = []\n",
    "\n",
    "for limit in np.arange(400, 4096, 50):\n",
    "    dist_bg = np.sum(spec2d_bg[:, limit:limit+50], axis=1)\n",
    "    current_cutoff = get_percentile_location(dist_bg, pct)\n",
    "    cutoffs.append(current_cutoff)\n",
    "    e_scale_he.append(limit+25)\n",
    "    fg_he.append(np.sum(spec2d[current_cutoff:, limit:limit+50]))\n",
    "    bg_he.append(np.sum(spec2d_bg[current_cutoff:, limit:limit+50]))\n",
    "    \n",
    "# Show the cut\n",
    "if plot:\n",
    "    plt.figure(figsize=(30,7))\n",
    "    im = plt.imshow(spec2d, origin='low', interpolation='none', # interpolation='nearest'\n",
    "                    norm=LogNorm())\n",
    "\n",
    "    plt.plot(e_scale_he, cutoffs, marker='.', markersize=10, linestyle='solid')\n",
    "    plt.xlim(0,4100)\n",
    "    plt.ylim(0,1000)\n",
    "    plt.title('NG ON')\n",
    "    plt.xlabel('Pulse height (channels)')\n",
    "    plt.ylabel('Pulse shape parameter')\n",
    "    plt.savefig('./he_population.pdf')\n",
    "    plt.show()\n",
    "\n",
    "\n",
    "e_scale_he = poly_1(np.array(e_scale_he), *p_scale_to_e_and)\n",
    "\n",
    "# Make arrays to enable numpy magic!\n",
    "# NOTE that these are still NUMBERS and not rate!\n",
    "fg_he = np.array(fg_he)\n",
    "bg_he = np.array(bg_he)\n",
    "\n",
    "# Now calculate Poissonian errors\n",
    "fg_he_err = 1/(ng_livetimes[0] + ng_livetimes[1])*np.sqrt(fg_he)\n",
    "bg_he_err = 1/sum(bg_livetimes)*np.sqrt(bg_he)\n",
    "\n",
    "fg_he = 1/(ng_livetimes[0] + ng_livetimes[1])*fg_he\n",
    "bg_he = 1/sum(bg_livetimes)*bg_he\n",
    "\n",
    "fg_he_sub = fg_he - bg_he\n",
    "fg_he_sub_err = np.sqrt(bg_he_err**2 + fg_he_err**2)\n",
    "\n"
   ]
  },
  {
   "cell_type": "code",
   "execution_count": 36,
   "metadata": {
    "collapsed": false
   },
   "outputs": [],
   "source": [
    "if plot:\n",
    "    plt.errorbar(e_scale_he,fg_he, fg_he_err, ls='none',marker='.', markersize=10, label='NG ON')\n",
    "    plt.errorbar(e_scale_he,bg_he, bg_he_err, ls='none',marker='.', markersize=10, label='BG leakage')\n",
    "    plt.errorbar(e_scale_he,fg_he_sub, fg_he_sub_err, ls='none',marker='.', markersize=10, label='NG ON, sub.')\n",
    "    plt.ylim(0.00001,0.1)\n",
    "    plt.yscale('log')\n",
    "    plt.xlabel('Energy (keV$_{ee}$)')\n",
    "    plt.ylabel('Differential rate (Hz/(50x2.38 keV$_{ee}$))')\n",
    "    plt.legend()\n",
    "    plt.show()"
   ]
  },
  {
   "cell_type": "code",
   "execution_count": 37,
   "metadata": {
    "collapsed": false
   },
   "outputs": [],
   "source": [
    "# Need for 'nicer histogram'  instead of imshow\n",
    "# We make event-by-event lists of values that we can histogram, instead of setting bin content.\n",
    "spec2d_counts_x = []\n",
    "spec2d_counts_y = []\n",
    "\n",
    "for i in range(len(spec2d)):\n",
    "    for j in range(len(spec2d[0])):\n",
    "        for k in range(spec2d[i,j]):\n",
    "            spec2d_counts_y.append(i)\n",
    "            spec2d_counts_x.append(j)\n",
    "spec2d_counts_x = np.array(spec2d_counts_x)\n",
    "spec2d_counts_y = np.array(spec2d_counts_y)\n",
    "\n",
    "# Same for bg...\n",
    "spec2d_bg_counts_x = []\n",
    "spec2d_bg_counts_y = []\n",
    "\n",
    "for i in range(len(spec2d_bg)):\n",
    "    for j in range(len(spec2d_bg[0])):\n",
    "        for k in range(spec2d_bg[i,j]):\n",
    "            spec2d_bg_counts_y.append(i)\n",
    "            spec2d_bg_counts_x.append(j)\n",
    "spec2d_bg_counts_x = np.array(spec2d_bg_counts_x)\n",
    "spec2d_bg_counts_y = np.array(spec2d_bg_counts_y)"
   ]
  },
  {
   "cell_type": "code",
   "execution_count": 38,
   "metadata": {
    "collapsed": false
   },
   "outputs": [],
   "source": [
    "if plot:\n",
    "    nbins = 100\n",
    "    plt.hist(poly_1(spec2d_counts_x, *p_scale_to_e_and), bins=nbins, range=(e_scale[0],e_scale[nbins+1]))\n",
    "    # These are the energies that we see gammas at\n",
    "    plt.axvline(51)\n",
    "    plt.axvline(80)\n",
    "    plt.show()"
   ]
  },
  {
   "cell_type": "code",
   "execution_count": 39,
   "metadata": {
    "collapsed": false
   },
   "outputs": [
    {
     "data": {
      "text/plain": [
       "107.079651"
      ]
     },
     "execution_count": 39,
     "metadata": {},
     "output_type": "execute_result"
    }
   ],
   "source": [
    "import time\n",
    "time.clock()"
   ]
  }
 ],
 "metadata": {
  "kernelspec": {
   "display_name": "Python 3",
   "language": "python",
   "name": "python3"
  },
  "language_info": {
   "codemirror_mode": {
    "name": "ipython",
    "version": 3
   },
   "file_extension": ".py",
   "mimetype": "text/x-python",
   "name": "python",
   "nbconvert_exporter": "python",
   "pygments_lexer": "ipython3",
   "version": "3.4.5"
  },
  "latex_envs": {
   "bibliofile": "biblio.bib",
   "cite_by": "apalike",
   "current_citInitial": 1,
   "eqLabelWithNumbers": true,
   "eqNumInitial": 0
  }
 },
 "nbformat": 4,
 "nbformat_minor": 0
}
