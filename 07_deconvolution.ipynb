{
 "cells": [
  {
   "cell_type": "markdown",
   "metadata": {},
   "source": [
    "## Deconvolution"
   ]
  },
  {
   "cell_type": "markdown",
   "metadata": {},
   "source": [
    "For a proper analysis, we need:\n",
    "  * A proper rescaling of the electron energy scale. Right now, it's just based on the half max point.\n",
    "  * A better signal model than only a Gaussian spectrum.\n",
    "  * Background subtraction\n",
    "  * Acceptance estimate (Current method: a guess based on how the spectra look)."
   ]
  },
  {
   "cell_type": "markdown",
   "metadata": {},
   "source": [
    "### Load the spectrum from previous notebooks"
   ]
  },
  {
   "cell_type": "code",
   "execution_count": 1,
   "metadata": {
    "collapsed": false
   },
   "outputs": [
    {
     "ename": "KeyboardInterrupt",
     "evalue": "",
     "output_type": "error",
     "traceback": [
      "\u001b[1;31m---------------------------------------------------------------------------\u001b[0m",
      "\u001b[1;31mKeyboardInterrupt\u001b[0m                         Traceback (most recent call last)",
      "\u001b[1;32m/home/erik/win/python/PTB/03b_bear_necessities.ipynb\u001b[0m in \u001b[0;36m<module>\u001b[1;34m()\u001b[0m\n\u001b[0;32m     19\u001b[0m \u001b[1;31m# WARNING: - zero error for zero count, screws all fits up.\u001b[0m\u001b[1;33m\u001b[0m\u001b[1;33m\u001b[0m\u001b[0m\n\u001b[0;32m     20\u001b[0m fg_disc_err   = 1/fg_livetime*np.sqrt(np.sum((cut_hist2d(spec2d_list[0], cut.f_cut) + cut_hist2d(spec2d_list[1], \n\u001b[1;32m---> 21\u001b[1;33m                                                                                                  cut.f_cut)), axis=0))\n\u001b[0m\u001b[0;32m     22\u001b[0m \u001b[1;33m\u001b[0m\u001b[0m\n\u001b[0;32m     23\u001b[0m \u001b[1;33m\u001b[0m\u001b[0m\n",
      "\u001b[1;32m/home/erik/win/python/PTB/03b_bear_necessities.ipynb\u001b[0m in \u001b[0;36mcut_hist2d\u001b[1;34m(arr2d, f)\u001b[0m\n\u001b[0;32m      6\u001b[0m \u001b[1;33m\u001b[0m\u001b[0m\n\u001b[0;32m      7\u001b[0m             \u001b[1;33m[\u001b[0m\u001b[0marr2d\u001b[0m\u001b[1;33m[\u001b[0m\u001b[0my\u001b[0m\u001b[1;33m]\u001b[0m\u001b[1;33m[\u001b[0m\u001b[0mx\u001b[0m\u001b[1;33m]\u001b[0m \u001b[1;32mif\u001b[0m \u001b[0mf\u001b[0m\u001b[1;33m(\u001b[0m\u001b[0mx\u001b[0m\u001b[1;33m,\u001b[0m\u001b[0my\u001b[0m\u001b[1;33m)\u001b[0m \u001b[1;32melse\u001b[0m \u001b[1;36m0\u001b[0m \u001b[1;32mfor\u001b[0m \u001b[0mx\u001b[0m \u001b[1;32min\u001b[0m \u001b[0mrange\u001b[0m\u001b[1;33m(\u001b[0m\u001b[0mlen\u001b[0m\u001b[1;33m(\u001b[0m\u001b[0marr2d\u001b[0m\u001b[1;33m[\u001b[0m\u001b[0my\u001b[0m\u001b[1;33m]\u001b[0m\u001b[1;33m)\u001b[0m\u001b[1;33m)\u001b[0m\u001b[1;33m]\u001b[0m\u001b[1;33m\u001b[0m\u001b[0m\n\u001b[1;32m----> 8\u001b[1;33m             \u001b[1;32mfor\u001b[0m \u001b[0my\u001b[0m \u001b[1;32min\u001b[0m \u001b[0mrange\u001b[0m\u001b[1;33m(\u001b[0m\u001b[0mlen\u001b[0m\u001b[1;33m(\u001b[0m\u001b[0marr2d\u001b[0m\u001b[1;33m)\u001b[0m\u001b[1;33m)\u001b[0m\u001b[1;33m\u001b[0m\u001b[0m\n\u001b[0m\u001b[0;32m      9\u001b[0m         ])\n",
      "\u001b[1;32m/home/erik/win/python/PTB/03b_bear_necessities.ipynb\u001b[0m in \u001b[0;36m<listcomp>\u001b[1;34m(.0)\u001b[0m\n\u001b[0;32m      6\u001b[0m \u001b[1;33m\u001b[0m\u001b[0m\n\u001b[0;32m      7\u001b[0m             \u001b[1;33m[\u001b[0m\u001b[0marr2d\u001b[0m\u001b[1;33m[\u001b[0m\u001b[0my\u001b[0m\u001b[1;33m]\u001b[0m\u001b[1;33m[\u001b[0m\u001b[0mx\u001b[0m\u001b[1;33m]\u001b[0m \u001b[1;32mif\u001b[0m \u001b[0mf\u001b[0m\u001b[1;33m(\u001b[0m\u001b[0mx\u001b[0m\u001b[1;33m,\u001b[0m\u001b[0my\u001b[0m\u001b[1;33m)\u001b[0m \u001b[1;32melse\u001b[0m \u001b[1;36m0\u001b[0m \u001b[1;32mfor\u001b[0m \u001b[0mx\u001b[0m \u001b[1;32min\u001b[0m \u001b[0mrange\u001b[0m\u001b[1;33m(\u001b[0m\u001b[0mlen\u001b[0m\u001b[1;33m(\u001b[0m\u001b[0marr2d\u001b[0m\u001b[1;33m[\u001b[0m\u001b[0my\u001b[0m\u001b[1;33m]\u001b[0m\u001b[1;33m)\u001b[0m\u001b[1;33m)\u001b[0m\u001b[1;33m]\u001b[0m\u001b[1;33m\u001b[0m\u001b[0m\n\u001b[1;32m----> 8\u001b[1;33m             \u001b[1;32mfor\u001b[0m \u001b[0my\u001b[0m \u001b[1;32min\u001b[0m \u001b[0mrange\u001b[0m\u001b[1;33m(\u001b[0m\u001b[0mlen\u001b[0m\u001b[1;33m(\u001b[0m\u001b[0marr2d\u001b[0m\u001b[1;33m)\u001b[0m\u001b[1;33m)\u001b[0m\u001b[1;33m\u001b[0m\u001b[0m\n\u001b[0m\u001b[0;32m      9\u001b[0m         ])\n",
      "\u001b[1;32m/home/erik/win/python/PTB/03b_bear_necessities.ipynb\u001b[0m in \u001b[0;36m<listcomp>\u001b[1;34m(.0)\u001b[0m\n\u001b[0;32m      5\u001b[0m     return np.array([\n\u001b[0;32m      6\u001b[0m \u001b[1;33m\u001b[0m\u001b[0m\n\u001b[1;32m----> 7\u001b[1;33m             \u001b[1;33m[\u001b[0m\u001b[0marr2d\u001b[0m\u001b[1;33m[\u001b[0m\u001b[0my\u001b[0m\u001b[1;33m]\u001b[0m\u001b[1;33m[\u001b[0m\u001b[0mx\u001b[0m\u001b[1;33m]\u001b[0m \u001b[1;32mif\u001b[0m \u001b[0mf\u001b[0m\u001b[1;33m(\u001b[0m\u001b[0mx\u001b[0m\u001b[1;33m,\u001b[0m\u001b[0my\u001b[0m\u001b[1;33m)\u001b[0m \u001b[1;32melse\u001b[0m \u001b[1;36m0\u001b[0m \u001b[1;32mfor\u001b[0m \u001b[0mx\u001b[0m \u001b[1;32min\u001b[0m \u001b[0mrange\u001b[0m\u001b[1;33m(\u001b[0m\u001b[0mlen\u001b[0m\u001b[1;33m(\u001b[0m\u001b[0marr2d\u001b[0m\u001b[1;33m[\u001b[0m\u001b[0my\u001b[0m\u001b[1;33m]\u001b[0m\u001b[1;33m)\u001b[0m\u001b[1;33m)\u001b[0m\u001b[1;33m]\u001b[0m\u001b[1;33m\u001b[0m\u001b[0m\n\u001b[0m\u001b[0;32m      8\u001b[0m             \u001b[1;32mfor\u001b[0m \u001b[0my\u001b[0m \u001b[1;32min\u001b[0m \u001b[0mrange\u001b[0m\u001b[1;33m(\u001b[0m\u001b[0mlen\u001b[0m\u001b[1;33m(\u001b[0m\u001b[0marr2d\u001b[0m\u001b[1;33m)\u001b[0m\u001b[1;33m)\u001b[0m\u001b[1;33m\u001b[0m\u001b[0m\n\u001b[0;32m      9\u001b[0m         ])\n",
      "\u001b[1;31mKeyboardInterrupt\u001b[0m: "
     ]
    }
   ],
   "source": [
    "from IPython.utils import io\n",
    "with io.capture_output() as output_07b:\n",
    "    %run '07b_deconvolution_definitions.ipynb'"
   ]
  },
  {
   "cell_type": "markdown",
   "metadata": {},
   "source": [
    "### Get response Andreas' method"
   ]
  },
  {
   "cell_type": "code",
   "execution_count": null,
   "metadata": {
    "collapsed": false
   },
   "outputs": [],
   "source": [
    "# # Interpolate andreas' spectrum to be at the right energies\n",
    "# y_and_interp = np.interp(neutron_energies, e_and, y_and, 0, 0)\n",
    "\n",
    "# # Confirm that all goes well\n",
    "# plt.plot(e_and, 0.5*y_and, linestyle='steps', label = \"Andreas' method\")\n",
    "# plt.plot(neutron_energies, 0.5*y_and_interp, marker='.', markersize=10, label='Interpolated')\n",
    "# plt.xlabel('Neutron energy (MeV)')\n",
    "# plt.ylabel('Fluence')\n",
    "# plt.legend()\n",
    "# plt.xlim(1.4, 3.2)"
   ]
  },
  {
   "cell_type": "code",
   "execution_count": null,
   "metadata": {
    "collapsed": false
   },
   "outputs": [],
   "source": [
    "# and_response = np.zeros(len(electron_energies))\n",
    "# # Loop over all neutron energy bins expect for last one\n",
    "# for i in range(len(neutron_energies) - 1):\n",
    "#     # Current neutron energy\n",
    "#     neutron_energy = neutron_energies[i]\n",
    "#     # Current bin width\n",
    "#     bin_width = neutron_energies[i+1] - neutron_energies[i]\n",
    "#     # Current amplitude in the neutron spectrum\n",
    "#     ampl = 0.5*y_and_interp[i]\n",
    "#     # Full response for this neutron energy bin\n",
    "#     and_response += bin_width*ampl*response[i]"
   ]
  },
  {
   "cell_type": "code",
   "execution_count": null,
   "metadata": {
    "collapsed": true
   },
   "outputs": [],
   "source": []
  },
  {
   "cell_type": "code",
   "execution_count": null,
   "metadata": {
    "collapsed": true
   },
   "outputs": [],
   "source": []
  },
  {
   "cell_type": "markdown",
   "metadata": {},
   "source": [
    "### Data to fit and definition $\\chi^2$ functions"
   ]
  },
  {
   "cell_type": "markdown",
   "metadata": {},
   "source": [
    "Here are the spectra that we can fit:"
   ]
  },
  {
   "cell_type": "code",
   "execution_count": null,
   "metadata": {
    "collapsed": false
   },
   "outputs": [],
   "source": [
    "plt.errorbar(e_scale, fg_disc, fg_disc_err, label='BG discriminated')\n",
    "plt.errorbar(e_scale, fg_disc_sub, fg_disc_sub_err, label='BG discriminated, leakage subtracted')\n",
    "plt.errorbar(e_scale, fg_sub, fg_sub_err, label= 'BG subtracted')\n",
    "plt.ylabel('Rate (Hz/(2.38 keV))')\n",
    "\n",
    "plt.yscale('log')\n",
    "plt.ylim(0.00001, 0.8)\n",
    "plt.xlim(0,2000)\n",
    "\n",
    "# plt.xlim(800,1000)\n",
    "# plt.ylim(-0.01,0.01)\n",
    "# plt.axhline(0,color='b')\n",
    "\n",
    "plt.xlabel('Energy (keV$_{ee}$)')\n",
    "plt.legend()\n",
    "plt.show()"
   ]
  },
  {
   "cell_type": "code",
   "execution_count": null,
   "metadata": {
    "collapsed": true
   },
   "outputs": [],
   "source": [
    "from iminuit import Minuit"
   ]
  },
  {
   "cell_type": "code",
   "execution_count": null,
   "metadata": {
    "collapsed": false
   },
   "outputs": [],
   "source": [
    "# Chi^2 function for single Gaussian function in neutron energy\n",
    "class Chi2Func:\n",
    "    def __init__(self,x,y,yerr):\n",
    "        self.x = x\n",
    "        self.y_data = y_data\n",
    "        self.y_err = y_err\n",
    "\n",
    "    def __call__(self,*arg):\n",
    "        y_fit = get_neutron_spectrum_interpolated(self.x, *arg)\n",
    "        chi2 = sum((self.y_data - y_fit)**2 / (self.y_err)**2)\n",
    "        return chi2\n",
    "    \n",
    "class Chi2Func_no_err:\n",
    "    def __init__(self,x,y):\n",
    "        self.x = x\n",
    "        self.y_data = y_data\n",
    "\n",
    "    def __call__(self,*arg):\n",
    "        y_fit = get_neutron_spectrum_interpolated(self.x, *arg)\n",
    "        chi2 = sum((self.y_data - y_fit)**2)\n",
    "        return chi2    \n",
    "    \n",
    "# Chi^2 function for two Gaussian functions in neutron energy\n",
    "class Chi2Func_2:\n",
    "    def __init__(self,x,y,yerr):\n",
    "        self.x = x\n",
    "        self.y_data = y_data\n",
    "        self.y_err = y_err\n",
    "\n",
    "    def __call__(self,*arg):\n",
    "        y_fit = get_neutron_spectrum_interpolated_2(self.x, *arg)\n",
    "        chi2 = sum((self.y_data - y_fit)**2 / (self.y_err)**2)\n",
    "        return chi2\n",
    "    \n",
    "class Chi2Func_no_err_2:\n",
    "    def __init__(self,x,y):\n",
    "        self.x = x\n",
    "        self.y_data = y_data\n",
    "\n",
    "    def __call__(self,*arg):\n",
    "        y_fit = get_neutron_spectrum_interpolated_2(self.x, *arg)\n",
    "        chi2 = sum((self.y_data - y_fit)**2)\n",
    "        return chi2    "
   ]
  },
  {
   "cell_type": "markdown",
   "metadata": {},
   "source": [
    "### Settings for fits"
   ]
  },
  {
   "cell_type": "code",
   "execution_count": null,
   "metadata": {
    "collapsed": true
   },
   "outputs": [],
   "source": [
    "min_e = 500\n",
    "max_e = 900\n",
    "use_err = True"
   ]
  },
  {
   "cell_type": "markdown",
   "metadata": {
    "collapsed": true
   },
   "source": [
    "### Fit spectrum for BG rejected spectrum"
   ]
  },
  {
   "cell_type": "markdown",
   "metadata": {},
   "source": [
    "### Fit double Gaussian"
   ]
  },
  {
   "cell_type": "code",
   "execution_count": null,
   "metadata": {
    "collapsed": false
   },
   "outputs": [],
   "source": [
    "# Select the data to fit\n",
    "sel = (e_scale > min_e) & (e_scale < max_e)\n",
    "x = e_scale[sel]\n",
    "y_data = fg_disc_sub[sel]\n",
    "y_err = fg_disc_sub_err[sel]\n",
    "assert len(fg_disc_sub_err[sel][fg_disc_sub_err[sel] == 0]) == 0\n",
    "\n",
    "# Initialize chi2 function\n",
    "if use_err:\n",
    "    chi2 = Chi2Func_2(x, y_data, y_err)\n",
    "else:\n",
    "    chi2 = Chi2Func_no_err_2(x, y_data)\n",
    "\n",
    "# Give guess parameters\n",
    "my_args = dict(\n",
    "    a1=0.15, mu1=2.2, sigma1=0.1, error_a1 = 0.0001, error_mu1 = 0.1, error_sigma1 = 0.01,\n",
    "    a2=0.15, mu2=2.6, sigma2=0.1, error_a2 = 0.0001, error_mu2 = 0.1, error_sigma2 = 0.01,\n",
    "    errordef=1)\n",
    "# Initialize minimizer and minimize\n",
    "m_doub_sub = Minuit(chi2,forced_parameters=['a1','mu1','sigma1','a2','mu2','sigma2'], **my_args)\n",
    "m_doub_sub.migrad();\n",
    "print(m_doub_sub.values)"
   ]
  },
  {
   "cell_type": "code",
   "execution_count": null,
   "metadata": {
    "collapsed": false
   },
   "outputs": [],
   "source": [
    "# THis factor comes from the differnt energy bins. No idea where the 10^4 comes from though...\n",
    "ad_hoc_factor = (5./2.38)*10**4"
   ]
  },
  {
   "cell_type": "code",
   "execution_count": null,
   "metadata": {
    "collapsed": false
   },
   "outputs": [],
   "source": [
    "vals = m_doub_sub.values\n",
    "plt.errorbar(e_scale, fg_disc_sub, fg_disc_sub_err, ls='None', marker='.')\n",
    "# Take subplots\n",
    "plt.plot(e_scale, get_neutron_spectrum_interpolated(e_scale, vals['a1'], vals['mu1'], vals['sigma1']), \n",
    "         color='red', lw=1.5,\n",
    "        label='$\\mu$ = %.2f MeV, $\\sigma$ = %.2f MeV' % (vals['mu1'], vals['sigma1']), ls='--')\n",
    "plt.plot(e_scale, get_neutron_spectrum_interpolated(e_scale, vals['a2'], vals['mu2'], vals['sigma2']), \n",
    "         color='red', lw=1.5,\n",
    "        label='$\\mu$ = %.2f MeV, $\\sigma$ = %.2f MeV' % (vals['mu2'], vals['sigma2']), ls='--')\n",
    "\n",
    "plt.plot(e_scale, get_neutron_spectrum_interpolated_2(e_scale, **vals), color='red', lw=2,\n",
    "        label='Sum')\n",
    "\n",
    "# Plot Andreas result\n",
    "plt.plot(1000*electron_energies, ad_hoc_factor*1/fg_livetime * and_response, color='purple', lw=2, \n",
    "         label=\"Andreas' result\")\n",
    "\n",
    "draw_box((min_e, max_e), (0, 1), facecolor='green', alpha=0.2)\n",
    "plt.text(500, 0.0265, 'Fit range', color='green')\n",
    "\n",
    "plt.ylim(1e-6,0.3e-1)\n",
    "plt.xlim(350,1000)\n",
    "plt.legend()\n",
    "#plt.yscale('log')\n",
    "plt.xlabel('Energy (keV$_{ee}$)')\n",
    "plt.ylabel('Differential rate (Hz/(2.38 keVee))')\n",
    "plt.title('Double Gaussian fit for background subtracted spectrum')\n",
    "\n",
    "plt.savefig('plots/fit_spectrum_min_%d_max_%d.png' % (min_e, max_e), bbox_inches='tight')\n",
    "plt.show()"
   ]
  },
  {
   "cell_type": "code",
   "execution_count": null,
   "metadata": {
    "collapsed": false
   },
   "outputs": [],
   "source": [
    "vals = m_doub_sub.values\n",
    "plt.plot(neutron_energies, vals['a1']*gaussian(neutron_energies, vals['mu1'],vals['sigma1']),c='red',ls='--')\n",
    "plt.plot(neutron_energies, vals['a2']*gaussian(neutron_energies, vals['mu2'],vals['sigma2']),c='red',ls='--')\n",
    "plt.plot(neutron_energies, vals['a1']*gaussian(neutron_energies, vals['mu1'],vals['sigma1']) +\n",
    "         vals['a2']*gaussian(neutron_energies, vals['mu2'],vals['sigma2']),c='red',lw=2,\n",
    "         marker='.', markersize=10, label='This method')\n",
    "plt.xlim(1.65, 3.2)\n",
    "plt.title('Original neutron spectrum, fit range %d - %d keVee' % (min_e, max_e))\n",
    "\n",
    "plt.plot(e_and, 0.5*y_and, linestyle='steps', label = \"Andreas' method\")\n",
    "plt.xlabel('Neutron energy (MeV)')\n",
    "plt.ylabel('Fluence')\n",
    "plt.legend()\n",
    "\n",
    "plt.savefig('plots/neut_spectrum_min_%d_max_%d.png' % (min_e, max_e), bbox_inches='tight')\n",
    "plt.show()"
   ]
  },
  {
   "cell_type": "markdown",
   "metadata": {},
   "source": [
    "#### Single Gaussian"
   ]
  },
  {
   "cell_type": "code",
   "execution_count": null,
   "metadata": {
    "collapsed": false
   },
   "outputs": [],
   "source": [
    "# Select the data to fit\n",
    "sel = (e_scale > min_e) & (e_scale < max_e)\n",
    "x = e_scale[sel]\n",
    "y_data = fg_disc_sub[sel]\n",
    "y_err = fg_disc_sub_err[sel]\n",
    "assert len(fg_disc_sub_err[sel][fg_disc_sub_err[sel] == 0]) == 0\n",
    "\n",
    "# Initialize chi2 function\n",
    "if use_err:\n",
    "    chi2 = Chi2Func(x, y_data, y_err)\n",
    "else:\n",
    "    chi2 = Chi2Func_no_err(x, y_data)\n",
    "\n",
    "# Give guess parameters\n",
    "my_args = dict(\n",
    "    a=0.3, mu=2.4, sigma=0.196, error_a = 0.0001, error_mu = 0.1, error_sigma = 0.01, errordef=1)\n",
    "\n",
    "# m: minimizer; sing: single Gaussian; sub: subtracted the background\n",
    "m_sing_sub = Minuit(chi2,forced_parameters=['a','mu','sigma'], **my_args)\n",
    "m_sing_sub.migrad();\n",
    "print(m_sing_sub.values)"
   ]
  },
  {
   "cell_type": "code",
   "execution_count": null,
   "metadata": {
    "collapsed": false
   },
   "outputs": [],
   "source": [
    "vals = m_sing_sub.values\n",
    "plt.errorbar(e_scale, fg_disc_sub, fg_disc_sub_err, ls='None', marker='.')\n",
    "plt.plot(e_scale, get_neutron_spectrum_interpolated(e_scale, **vals), color='red', lw=2,\n",
    "        label='$\\mu$ = %.2f MeV, $\\sigma$ = %.2f MeV' % (vals['mu'], vals['sigma']))\n",
    "\n",
    "draw_box((min_e, max_e), (0, 1), facecolor='green', alpha=0.2)\n",
    "plt.text(500, 0.04, 'Fit range', color='green')\n",
    "\n",
    "plt.ylim(1e-6,0.6e-1)\n",
    "plt.xlim(0,2000)\n",
    "plt.legend()\n",
    "#plt.yscale('log')\n",
    "plt.xlabel('Energy (keV$_{ee}$)')\n",
    "plt.ylabel('Differential rate (Hz/(2.38 keVee))')\n",
    "plt.title('Single Gaussian fit for background subtracted spectrum')\n",
    "plt.savefig('plots/fit_spectrum_sub_sing_min_%d_max_%d.png' % (min_e, max_e), bbox_inches='tight')\n",
    "plt.show()"
   ]
  },
  {
   "cell_type": "markdown",
   "metadata": {},
   "source": [
    "### High energy population, rebinning method"
   ]
  },
  {
   "cell_type": "markdown",
   "metadata": {},
   "source": [
    "This is probably the better method to use (other depricated as of July 29, 2016). It is based on the 99 percentile of BG in 50 bins. With this we extend the energy range a lot, all the way down to:"
   ]
  },
  {
   "cell_type": "markdown",
   "metadata": {},
   "source": [
    "#### Settings"
   ]
  },
  {
   "cell_type": "code",
   "execution_count": null,
   "metadata": {
    "collapsed": true
   },
   "outputs": [],
   "source": [
    "min_e_he  = 2000\n",
    "max_e_he  = np.inf\n",
    "# For motivation: see end of this note\n",
    "min_e_led = 6670\n",
    "max_e_led = 7980"
   ]
  },
  {
   "cell_type": "code",
   "execution_count": null,
   "metadata": {
    "collapsed": true
   },
   "outputs": [],
   "source": [
    "from scipy.integrate import quad"
   ]
  },
  {
   "cell_type": "code",
   "execution_count": null,
   "metadata": {
    "collapsed": false
   },
   "outputs": [],
   "source": [
    "def integrand(x):\n",
    "    return 50*get_neutron_spectrum_interpolated_2(x, **m_doub_sub.values)\n"
   ]
  },
  {
   "cell_type": "code",
   "execution_count": null,
   "metadata": {
    "collapsed": false
   },
   "outputs": [],
   "source": [
    "# Quick and dirty integration but stilll within % level of scipy.integrate.quad (which is super expensive)\n",
    "# And: note that it's a correction anyway...\n",
    "to_sub = []\n",
    "npoints = 100\n",
    "for e in e_scale_he:\n",
    "    e_to_eval = np.linspace(e - 25, e+25, npoints)\n",
    "    to_sub.append(np.average(integrand(e_to_eval)))\n",
    "to_sub = np.array(to_sub)"
   ]
  },
  {
   "cell_type": "code",
   "execution_count": null,
   "metadata": {
    "collapsed": false
   },
   "outputs": [],
   "source": [
    "vals = m_doub_sub.values\n",
    "plt.errorbar(e_scale_he,fg_he_sub, fg_he_sub_err, ls='none',marker='.', markersize=10, label='NG ON, sub.')\n",
    "plt.errorbar(e_scale_he,fg_he_sub-to_sub, fg_he_sub_err, ls='none',marker='.', markersize=10, label='NG ON, sub2.')\n",
    "\n",
    "plt.plot(e_scale, 50*get_neutron_spectrum_interpolated_2(e_scale, **vals), color='red', lw=2,\n",
    "        label='Sum')\n",
    "plt.scatter(e_scale_he,to_sub, marker='.', s=100, label='2.5 MeV contribution')\n",
    "draw_box((min_e_led,max_e_led),(0,1), color='red', alpha=0.2)\n",
    "plt.axvline(min(e_scale_he)-25)\n",
    "plt.ylim(0.00001,0.02)\n",
    "plt.xlim(0,10000)\n",
    "plt.yscale('log')\n",
    "plt.xlabel('Energy (keVee)')\n",
    "plt.ylabel('Diff. rate (Hz/(50x2.38 keV))')\n",
    "plt.legend(loc='lower left')\n",
    "plt.show()"
   ]
  },
  {
   "cell_type": "code",
   "execution_count": null,
   "metadata": {
    "collapsed": false
   },
   "outputs": [],
   "source": [
    "mask = ((e_scale_he <min_e_led) | (e_scale_he > max_e_led)) & (e_scale_he > min_e_he) & (e_scale_he < max_e_he)\n",
    "x = e_scale_he[mask]\n",
    "\n",
    "y_data = fg_he_sub[mask] - to_sub[mask]\n",
    "y_err = fg_he_sub_err\n",
    "# Set errors to one if entry is zero\n",
    "for i, ye in enumerate(y_err):\n",
    "    if ye==0:\n",
    "        y_err[i] = 1/(ng_livetimes[0]+ng_livetimes[1])*1.\n",
    "        print(\"WARNING zero entries at %.1f keV\" % e_scale_he[i])\n",
    "y_err = y_err[mask]"
   ]
  },
  {
   "cell_type": "code",
   "execution_count": null,
   "metadata": {
    "collapsed": false
   },
   "outputs": [],
   "source": [
    "plt.errorbar(x,y_data,y_err)\n",
    "plt.xlim()"
   ]
  },
  {
   "cell_type": "code",
   "execution_count": null,
   "metadata": {
    "collapsed": true
   },
   "outputs": [],
   "source": [
    "chi2 = Chi2Func(x, y_data, y_err)"
   ]
  },
  {
   "cell_type": "code",
   "execution_count": null,
   "metadata": {
    "collapsed": false
   },
   "outputs": [],
   "source": [
    "# Initialize chi2 function\n",
    "chi2 = Chi2Func(x, y_data, y_err)\n",
    "\n",
    "# Give guess parameters\n",
    "my_args = dict(\n",
    "    a=0.4, mu=14.5, sigma=1.0, error_a = 0.0001, error_mu = 0.1, error_sigma = 1., errordef=1)\n",
    "# Initialize minimizer and minimize\n",
    "m_high_2 = Minuit(chi2,forced_parameters=['a','mu','sigma'], **my_args)\n",
    "m_high_2.migrad();\n",
    "print(m_high_2.values)"
   ]
  },
  {
   "cell_type": "code",
   "execution_count": null,
   "metadata": {
    "collapsed": false
   },
   "outputs": [],
   "source": [
    "plt.errorbar(e_scale_he,fg_he_sub-to_sub, fg_he_sub_err, ls='none',marker='.', markersize=10, label='Data')\n",
    "plt.plot(e_scale_he,get_neutron_spectrum_interpolated(e_scale_he, **m_high_2.values), color='red', lw=2,\n",
    "        label='$\\mu$ = %.2f MeV, $\\sigma$ = %.2f MeV' % (m_high_2.values['mu'],m_high_2.values['sigma']))\n",
    "\n",
    "draw_box((min_e_led,max_e_led),(0,1), color='red', alpha=0.2, label='LED region')\n",
    "plt.axvline(min_e_he, ls='--', color='red', label='Low energy cutoff')\n",
    "plt.ylim(0.00001,0.0025)\n",
    "plt.xlim(1000,10000)\n",
    "#plt.yscale('log')\n",
    "plt.xlabel('Energy (keVee)')\n",
    "plt.ylabel('Differential rate (Hz/(50x2.38 keV))')\n",
    "plt.legend(loc='lower left')\n",
    "\n",
    "plt.savefig('./figs/he_spec.png', bbox_inches='tight')\n",
    "plt.savefig('./figs/he_spec.pdf', bbox_inches='tight')\n",
    "\n",
    "plt.show()"
   ]
  },
  {
   "cell_type": "markdown",
   "metadata": {},
   "source": [
    "#### Sander's request"
   ]
  },
  {
   "cell_type": "code",
   "execution_count": null,
   "metadata": {
    "collapsed": false
   },
   "outputs": [],
   "source": [
    "my_fix_sigma = True\n",
    "\n",
    "# Initialize chi2 function\n",
    "chi2 = Chi2Func(x, y_data, y_err)\n",
    "\n",
    "# 13 MeV\n",
    "my_args = dict(\n",
    "    a=0.4, mu=13, sigma=0.01, error_a = 0.0001, error_mu = 0.1, error_sigma = 0.01, errordef=1, \n",
    "    fix_mu=True, fix_sigma=my_fix_sigma)\n",
    "m_fix_13 = Minuit(chi2,forced_parameters=['a','mu','sigma'], **my_args)\n",
    "m_fix_13.migrad();\n",
    "\n",
    "# 14 MeV\n",
    "my_args = dict(\n",
    "    a=0.4, mu=14, sigma=0.01, error_a = 0.0001, error_mu = 0.1, error_sigma = 0.01, errordef=1, \n",
    "    fix_mu=True, fix_sigma=my_fix_sigma)\n",
    "m_fix_14 = Minuit(chi2,forced_parameters=['a','mu','sigma'], **my_args)\n",
    "m_fix_14.migrad();\n",
    "\n",
    "# 15 MeV\n",
    "my_args = dict(\n",
    "    a=0.4, mu=15, sigma=0.01, error_a = 0.0001, error_mu = 0.1, error_sigma = 0.01, errordef=1, \n",
    "    fix_mu=True, fix_sigma=my_fix_sigma)\n",
    "m_fix_15 = Minuit(chi2,forced_parameters=['a','mu','sigma'], **my_args)\n",
    "m_fix_15.migrad();\n",
    "\n",
    "print(m_fix_13.values)\n",
    "print(m_fix_14.values)\n",
    "print(m_fix_15.values)"
   ]
  },
  {
   "cell_type": "code",
   "execution_count": null,
   "metadata": {
    "collapsed": true
   },
   "outputs": [],
   "source": []
  },
  {
   "cell_type": "code",
   "execution_count": null,
   "metadata": {
    "collapsed": false
   },
   "outputs": [],
   "source": [
    "plt.errorbar(e_scale_he,fg_he_sub-to_sub, fg_he_sub_err, ls='none',marker='.', markersize=10, label='Data')\n",
    "\n",
    "plt.plot(e_scale_he,get_neutron_spectrum_interpolated(e_scale_he, \n",
    "                                                      **m_fix_13.values\n",
    "                                                     ), color='red', lw=2)\n",
    "\n",
    "plt.plot(e_scale_he,get_neutron_spectrum_interpolated(e_scale_he, \n",
    "                                                      **m_fix_14.values\n",
    "                                                     ), color='purple', lw=2)\n",
    "\n",
    "plt.plot(e_scale_he,get_neutron_spectrum_interpolated(e_scale_he, \n",
    "                                                      **m_fix_15.values\n",
    "                                                     ), color='green', lw=2)\n",
    "\n",
    "\n",
    "draw_box((min_e_led,max_e_led),(0,1), color='red', alpha=0.2, label='LED region')\n",
    "plt.axvline(min_e_he, ls='--', color='red', label='Low energy cutoff')\n",
    "plt.ylim(-0.0001,0.003)\n",
    "plt.xlim(1000,10000)\n",
    "#plt.yscale('log')\n",
    "plt.xlabel('Energy (keVee)')\n",
    "plt.ylabel('Differential rate (Hz/(50x2.38 keV))')\n",
    "#plt.legend(loc='lower left')\n",
    "\n",
    "plt.savefig('./plots/he_spec.png', bbox_inches='tight')\n",
    "plt.savefig('./plots/he_spec.pdf', bbox_inches='tight')\n",
    "\n",
    "plt.show()"
   ]
  },
  {
   "cell_type": "markdown",
   "metadata": {},
   "source": [
    "### Double scatters"
   ]
  },
  {
   "cell_type": "code",
   "execution_count": null,
   "metadata": {
    "collapsed": true
   },
   "outputs": [],
   "source": [
    "double_scatter_response = np.zeros(2*len(e_scale))\n",
    "single_scatter_response = get_neutron_spectrum_interpolated_2(e_scale, **vals)\n",
    "\n",
    "\n",
    "# Loop over bins in energy spectrum #1\n",
    "for i in range(len(single_scatter_response)):\n",
    "    for j in range(len(single_scatter_response)):\n",
    "        double_scatter_response[i+j] += single_scatter_response[i] * single_scatter_response[j]\n",
    "    "
   ]
  },
  {
   "cell_type": "markdown",
   "metadata": {},
   "source": [
    "### Combine EVERYTHING"
   ]
  },
  {
   "cell_type": "code",
   "execution_count": null,
   "metadata": {
    "collapsed": false
   },
   "outputs": [],
   "source": [
    "rebin_fac = 10\n",
    "\n",
    "vals1 = m_doub_sub.values\n",
    "vals2 = m_high_2.values\n",
    "\n",
    "# Data (rebinned)\n",
    "plt.errorbar(rebin(e_scale,rebin_fac), rebin(fg_disc_sub,rebin_fac), rebin(fg_disc_sub_err,rebin_fac, mode='quad_avg'),\n",
    "             ls='None', marker='.', label='2.38 keV bins', color='green', alpha=0.6)\n",
    "# High energy data\n",
    "plt.errorbar(e_scale_he, 0.02*fg_he_sub, 0.02*fg_he_sub_err, ls='None', marker='.', \n",
    "             markersize = 10, label='119 keV bins', color='blue')\n",
    "\n",
    "# Subplots (3 contributions)\n",
    "plt.plot(e_scale, get_neutron_spectrum_interpolated(e_scale, vals1['a1'], vals1['mu1'], vals1['sigma1']), \n",
    "         color='red', lw=1.5,\n",
    "        label='$\\mu$ = %.2f MeV' % (vals1['mu1']), ls='--')\n",
    "plt.plot(e_scale, get_neutron_spectrum_interpolated(e_scale, vals1['a2'], vals1['mu2'], vals1['sigma2']), \n",
    "         color='red', lw=1.5,\n",
    "        label='$\\mu$ = %.2f MeV' % (vals1['mu2']), ls='--')\n",
    "plt.plot(e_scale, get_neutron_spectrum_interpolated(e_scale, 0.02*vals2['a'], vals2['mu'], vals2['sigma']), \n",
    "         color='red', lw=1.5,\n",
    "        label='$\\mu$ = %.2f MeV' % (vals2['mu']), ls='--')\n",
    "\n",
    "# Full fit\n",
    "plt.plot(e_scale, get_neutron_spectrum_interpolated_3(e_scale,\n",
    "                                                     vals1['a1'], vals1['mu1'], vals1['sigma1'],\n",
    "                                                     vals1['a2'], vals1['mu2'], vals1['sigma2'],\n",
    "                                                     0.02*vals2['a'], vals2['mu'], vals2['sigma'], \n",
    "                                                     ), color='red', lw=2,\n",
    "        label='Sum')\n",
    "\n",
    "# Double scatters\n",
    "plt.plot(e_scale, 0.2*1/sum(double_scatter_response[:len(e_scale)])*double_scatter_response[:len(e_scale)], \n",
    "         label='Double scatters')\n",
    "\n",
    "\n",
    "draw_box((min_e, max_e), (0, 1), facecolor='green', alpha=0.1)\n",
    "plt.text(550, 0.04, 'Fit range DD', color='green')\n",
    "\n",
    "plt.ylim(1e-6,1e-1)\n",
    "#plt.xlim(0,9000)\n",
    "plt.xscale('log')\n",
    "plt.xlim(200.,1e4)\n",
    "#plt.legend()\n",
    "plt.yscale('log')\n",
    "plt.xlabel('Energy (keV$_{ee}$)')\n",
    "plt.ylabel('Differential rate (Hz/(2.38 keVee))')\n",
    "#plt.title('Double Gaussian fit for background subtracted spectrum')\n",
    "plt.legend()\n",
    "\n",
    "plt.savefig('./plots/all_combined.png', bbox_inches='tight')\n",
    "plt.show()"
   ]
  },
  {
   "cell_type": "code",
   "execution_count": null,
   "metadata": {
    "collapsed": false
   },
   "outputs": [],
   "source": [
    "plt.plot(neutron_energies, vals1['a1']*gaussian(neutron_energies, vals1['mu1'],vals1['sigma1']),c='red',ls='--')\n",
    "plt.plot(neutron_energies, vals1['a2']*gaussian(neutron_energies, vals1['mu2'],vals1['sigma2']),c='red',ls='--')\n",
    "plt.plot(neutron_energies, 0.02*vals2['a']*gaussian(neutron_energies, vals2['mu'],vals2['sigma']),c='red',ls='--')\n",
    "plt.plot(neutron_energies, vals1['a1']*gaussian(neutron_energies, vals1['mu1'],vals1['sigma1']) +\n",
    "         vals1['a2']*gaussian(neutron_energies, vals1['mu2'],vals1['sigma2']) +\n",
    "         0.02*vals2['a']*gaussian(neutron_energies, vals2['mu'],vals2['sigma'])\n",
    "         ,c='red',lw=2)\n",
    "plt.xlim(0, 15)\n",
    "plt.ylabel('Some kind of differential unit, let me think about it')\n",
    "plt.title('Original neutron spectrum')\n",
    "plt.show()\n",
    "\n",
    "plt.plot(neutron_energies, vals1['a1']*gaussian(neutron_energies, vals1['mu1'],vals1['sigma1']),c='red',ls='--')\n",
    "plt.plot(neutron_energies, vals1['a2']*gaussian(neutron_energies, vals1['mu2'],vals1['sigma2']),c='red',ls='--')\n",
    "plt.plot(neutron_energies, 0.02*vals2['a']*gaussian(neutron_energies, vals2['mu'],vals2['sigma']),c='red',ls='--')\n",
    "plt.plot(neutron_energies, vals1['a1']*gaussian(neutron_energies, vals1['mu1'],vals1['sigma1']) +\n",
    "         vals1['a2']*gaussian(neutron_energies, vals1['mu2'],vals1['sigma2']) +\n",
    "         0.02*vals2['a']*gaussian(neutron_energies, vals2['mu'],vals2['sigma'])\n",
    "         ,c='red',lw=2, marker='.', markersize=10)\n",
    "plt.xlim(2, 3)\n",
    "plt.ylabel('Some kind of differential unit, let me think about it')\n",
    "plt.title('Original neutron spectrum')\n",
    "plt.show()\n",
    "\n",
    "plt.plot(neutron_energies, vals1['a1']*gaussian(neutron_energies, vals1['mu1'],vals1['sigma1']),c='red',ls='--')\n",
    "plt.plot(neutron_energies, vals1['a2']*gaussian(neutron_energies, vals1['mu2'],vals1['sigma2']),c='red',ls='--')\n",
    "plt.plot(neutron_energies, 0.02*vals2['a']*gaussian(neutron_energies, vals2['mu'],vals2['sigma']),c='red',ls='--')\n",
    "plt.plot(neutron_energies, vals1['a1']*gaussian(neutron_energies, vals1['mu1'],vals1['sigma1']) +\n",
    "         vals1['a2']*gaussian(neutron_energies, vals1['mu2'],vals1['sigma2']) +\n",
    "         0.02*vals2['a']*gaussian(neutron_energies, vals2['mu'],vals2['sigma'])\n",
    "         ,c='red',lw=2, marker='.', markersize=10)\n",
    "plt.xlim(13, 15)\n",
    "plt.ylabel('Some kind of differential unit, let me think about it')\n",
    "plt.title('Original neutron spectrum')\n",
    "plt.show()"
   ]
  },
  {
   "cell_type": "code",
   "execution_count": null,
   "metadata": {
    "collapsed": true
   },
   "outputs": [],
   "source": [
    "def int_spec(x, y):\n",
    "    '''\n",
    "    Integrate spectrum\n",
    "    '''\n",
    "    dx = np.diff(x)\n",
    "    return sum(y[:-1]*dx)"
   ]
  },
  {
   "cell_type": "code",
   "execution_count": null,
   "metadata": {
    "collapsed": false
   },
   "outputs": [],
   "source": [
    "int_gauss1 = int_spec(neutron_energies, vals1['a1']*gaussian(neutron_energies, vals1['mu1'],vals1['sigma1']))\n",
    "int_gauss2 = int_spec(neutron_energies,vals1['a2']*gaussian(neutron_energies, vals1['mu2'],vals1['sigma2']))\n",
    "int_gauss3 = int_spec(neutron_energies, 0.02*vals2['a']*gaussian(neutron_energies, vals2['mu'],vals2['sigma']))\n",
    "int_tot = int_gauss1 + int_gauss2 + int_gauss3"
   ]
  },
  {
   "cell_type": "code",
   "execution_count": null,
   "metadata": {
    "collapsed": false
   },
   "outputs": [],
   "source": [
    "print('Totals: %.1f%% at %.2f MeV; %.1f%% at %.2f MeV; %.1f%% at %.2f MeV' % \n",
    "      (int_gauss1/int_tot*100, vals1['mu1'],\n",
    "      int_gauss2/int_tot*100, vals1['mu2'],\n",
    "       int_gauss3/int_tot*100, vals2['mu'],\n",
    "      ))"
   ]
  },
  {
   "cell_type": "markdown",
   "metadata": {},
   "source": [
    "### Scatters in NG"
   ]
  },
  {
   "cell_type": "code",
   "execution_count": null,
   "metadata": {
    "collapsed": false
   },
   "outputs": [],
   "source": [
    "plt.plot(neutron_energies, vals1['a1']*gaussian(neutron_energies, vals1['mu1'],vals1['sigma1']),c='red',ls='--')\n",
    "plt.plot(neutron_energies, vals1['a2']*gaussian(neutron_energies, vals1['mu2'],vals1['sigma2']),c='red',ls='--')\n",
    "plt.plot(neutron_energies, vals1['a1']*gaussian(neutron_energies, vals1['mu1'],vals1['sigma1']) +\n",
    "         vals1['a2']*gaussian(neutron_energies, vals1['mu2'],vals1['sigma2'])\n",
    "         ,c='red',lw=2)\n",
    "plt.xlim(0, 3)\n",
    "plt.ylabel('Some kind of differential unit, let me think about it')\n",
    "plt.title('Original neutron spectrum')\n",
    "plt.show()"
   ]
  },
  {
   "cell_type": "code",
   "execution_count": null,
   "metadata": {
    "collapsed": true
   },
   "outputs": [],
   "source": [
    "def bin_simu(data):\n",
    "    binned_data = []\n",
    "    for i in range(len(neutron_energies)-1):\n",
    "        bin_width = neutron_energies[i+1] - neutron_energies[i]\n",
    "        e = neutron_energies[i]\n",
    "        bin_cont = len(data[(data['incidentEnergy']*0.001 >= e - bin_width/2) & \n",
    "                            (data['incidentEnergy']*0.001 < e + bin_width/2)])\n",
    "        binned_data.append(bin_cont/bin_width)\n",
    "        # DIVIDE BY BIN WIDTH\n",
    "        # This makes sense, doesn't it? You divide by bin width, cause we later multiply again\n",
    "        # And besides, what about the Gaussian then?\n",
    "        \n",
    "    # Add last bin for mismatch\n",
    "    binned_data.append(0)\n",
    "    \n",
    "    \n",
    "    \n",
    "    # NOTE: NEED TO CORRECT FOR BIN WIDTH\n",
    "    return np.array(binned_data)"
   ]
  },
  {
   "cell_type": "code",
   "execution_count": null,
   "metadata": {
    "collapsed": false
   },
   "outputs": [],
   "source": [
    "def smear_binned_simu(data, sigma):\n",
    "    y_unsmeared = bin_simu(data)\n",
    "    y_smeared = np.zeros(len(neutron_energies))\n",
    "    # For each neutron energy, get a Gaussian with th\n",
    "    for i in range(len(neutron_energies)-1):\n",
    "        #bin_width = neutron_energies[i+1] - neutron_energies[i]\n",
    "        mu = neutron_energies[i]\n",
    "        a  = y_unsmeared[i]\n",
    "        y_smeared += (a*gaussian(neutron_energies, mu, sigma))\n",
    "    return y_smeared"
   ]
  },
  {
   "cell_type": "code",
   "execution_count": null,
   "metadata": {
    "collapsed": false
   },
   "outputs": [],
   "source": [
    "norm_fac1 = int_gauss1/ int_spec(neutron_energies, bin_simu(d_sim[2.31]))\n",
    "norm_fac1_smear = int_gauss1/ int_spec(neutron_energies, smear_binned_simu(d_sim[2.31], sigma=vals1['sigma1']))\n",
    "\n",
    "norm_fac2 = int_gauss2/ int_spec(neutron_energies, bin_simu(d_sim[2.61]))\n",
    "norm_fac2_smear = int_gauss2/ int_spec(neutron_energies, smear_binned_simu(d_sim[2.61], sigma=vals1['sigma2']))"
   ]
  },
  {
   "cell_type": "code",
   "execution_count": null,
   "metadata": {
    "collapsed": false
   },
   "outputs": [],
   "source": [
    "plt.plot(neutron_energies, vals1['a1']*gaussian(neutron_energies, vals1['mu1'],vals1['sigma1']), ls='steps')\n",
    "plt.plot(neutron_energies, norm_fac1*bin_simu(d_sim[2.31]), ls='steps')\n",
    "plt.plot(neutron_energies, norm_fac1_smear*smear_binned_simu(d_sim[2.31], sigma=vals1['sigma1']), ls='steps')\n",
    "\n",
    "plt.plot(neutron_energies, vals1['a2']*gaussian(neutron_energies, vals1['mu2'],vals1['sigma2']), ls='steps')\n",
    "plt.plot(neutron_energies, norm_fac2*bin_simu(d_sim[2.61]), ls='steps')\n",
    "plt.plot(neutron_energies, norm_fac2_smear*smear_binned_simu(d_sim[2.61], sigma=vals1['sigma2']), ls='steps')\n",
    "\n",
    "plt.xlim(0,3.0)\n",
    "plt.ylim(0,1)\n",
    "#plt.yscale('log')\n",
    "#plt.ylim(1e-3, 1)"
   ]
  },
  {
   "cell_type": "markdown",
   "metadata": {
    "collapsed": true
   },
   "source": [
    "### Random scraps"
   ]
  },
  {
   "cell_type": "code",
   "execution_count": null,
   "metadata": {
    "collapsed": false
   },
   "outputs": [],
   "source": [
    "plt.plot(e_scale_he, cutoffs, marker='.', markersize=10)"
   ]
  },
  {
   "cell_type": "code",
   "execution_count": null,
   "metadata": {
    "collapsed": false
   },
   "outputs": [],
   "source": [
    "led_region = e_scale_he[np.array(cutoffs) > 400]"
   ]
  },
  {
   "cell_type": "code",
   "execution_count": null,
   "metadata": {
    "collapsed": false
   },
   "outputs": [],
   "source": [
    "# left bound\n",
    "print(led_region[0] - 0.5*2.38*50)\n",
    "print(led_region[-1] + 0.5*2.38*50)"
   ]
  },
  {
   "cell_type": "code",
   "execution_count": null,
   "metadata": {
    "collapsed": false
   },
   "outputs": [],
   "source": [
    "plt.plot(e_scale, get_neutron_spectrum_interpolated_2(e_scale, **vals), color='red', lw=2,\n",
    "        label='Sum', marker='.', markersize=5)\n",
    "plt.xlim(0,2000)\n",
    "plt.ylim(0,0.1)"
   ]
  },
  {
   "cell_type": "code",
   "execution_count": null,
   "metadata": {
    "collapsed": true
   },
   "outputs": [],
   "source": []
  },
  {
   "cell_type": "code",
   "execution_count": null,
   "metadata": {
    "collapsed": false
   },
   "outputs": [],
   "source": [
    "plt.plot(e_scale,1/sum(single_scatter_response[:len(e_scale)])*single_scatter_response[:len(e_scale)])\n",
    "plt.plot(e_scale, 1/sum(double_scatter_response[:len(e_scale)])*double_scatter_response[:len(e_scale)])\n",
    "plt.xlim(0,2000)\n",
    "#plt.ylim(0,0.003)\n",
    "\n",
    "plt.ylim(1e-6,1)\n",
    "plt.yscale('log')"
   ]
  },
  {
   "cell_type": "code",
   "execution_count": null,
   "metadata": {
    "collapsed": true
   },
   "outputs": [],
   "source": []
  },
  {
   "cell_type": "code",
   "execution_count": null,
   "metadata": {
    "collapsed": true
   },
   "outputs": [],
   "source": []
  },
  {
   "cell_type": "code",
   "execution_count": null,
   "metadata": {
    "collapsed": true
   },
   "outputs": [],
   "source": []
  },
  {
   "cell_type": "code",
   "execution_count": null,
   "metadata": {
    "collapsed": true
   },
   "outputs": [],
   "source": []
  },
  {
   "cell_type": "code",
   "execution_count": null,
   "metadata": {
    "collapsed": true
   },
   "outputs": [],
   "source": []
  },
  {
   "cell_type": "code",
   "execution_count": null,
   "metadata": {
    "collapsed": true
   },
   "outputs": [],
   "source": []
  },
  {
   "cell_type": "code",
   "execution_count": null,
   "metadata": {
    "collapsed": false
   },
   "outputs": [],
   "source": [
    "import time\n",
    "print('Current CPU time: %d seconds' % time.clock())"
   ]
  },
  {
   "cell_type": "code",
   "execution_count": null,
   "metadata": {
    "collapsed": true
   },
   "outputs": [],
   "source": []
  },
  {
   "cell_type": "markdown",
   "metadata": {},
   "source": [
    "### Revisit of fit"
   ]
  },
  {
   "cell_type": "code",
   "execution_count": null,
   "metadata": {
    "collapsed": false
   },
   "outputs": [],
   "source": [
    "# Select the data to fit\n",
    "sel = (e_scale > min_e) & (e_scale < max_e)\n",
    "x = e_scale[sel]\n",
    "y_data = fg_disc_sub[sel]\n",
    "y_err = fg_disc_sub_err[sel]\n",
    "assert len(fg_disc_sub_err[sel][fg_disc_sub_err[sel] == 0]) == 0\n",
    "\n",
    "# Initialize chi2 function\n",
    "if use_err:\n",
    "    chi2 = Chi2Func_2(x, y_data, y_err)\n",
    "else:\n",
    "    chi2 = Chi2Func_no_err_2(x, y_data)\n",
    "\n",
    "# Give guess parameters\n",
    "my_args = dict(\n",
    "    a1=0.15, mu1=2.2, sigma1=0.1, error_a1 = 0.0001, error_mu1 = 0.1, error_sigma1 = 0.01,\n",
    "    a2=0.15, mu2=2.6, sigma2=0.1, error_a2 = 0.0001, error_mu2 = 0.1, error_sigma2 = 0.01,\n",
    "    errordef=1)\n",
    "# Initialize minimizer and minimize\n",
    "m_doub_sub = Minuit(chi2,forced_parameters=['a1','mu1','sigma1','a2','mu2','sigma2'], **my_args)\n",
    "m_doub_sub.migrad();\n",
    "print(m_doub_sub.values)"
   ]
  },
  {
   "cell_type": "code",
   "execution_count": null,
   "metadata": {
    "collapsed": false
   },
   "outputs": [],
   "source": [
    "m_doub_sub.print_matrix()"
   ]
  },
  {
   "cell_type": "code",
   "execution_count": null,
   "metadata": {
    "collapsed": false
   },
   "outputs": [],
   "source": [
    "m_doub_sub.draw_contour('mu1', 'sigma1')\n",
    "plt.show()"
   ]
  },
  {
   "cell_type": "code",
   "execution_count": null,
   "metadata": {
    "collapsed": false
   },
   "outputs": [],
   "source": [
    "v = m_doub_sub.values\n",
    "\n",
    "chi2(\n",
    "    v['a1'], v['mu1'], v['sigma1'],v['a2'], v['mu2'], v['sigma2'],\n",
    ")"
   ]
  },
  {
   "cell_type": "code",
   "execution_count": null,
   "metadata": {
    "collapsed": false
   },
   "outputs": [],
   "source": [
    "m_doub_sub.fval"
   ]
  },
  {
   "cell_type": "code",
   "execution_count": null,
   "metadata": {
    "collapsed": true
   },
   "outputs": [],
   "source": [
    "mu1_list = np.arange(2.28,2.34,0.01)\n",
    "\n",
    "chi_list = []\n",
    "for mu1 in mu1_list:\n",
    "    chi_list.append(chi2(v['a1'], mu1, v['sigma1'],v['a2'], v['mu2'], v['sigma2']))\n"
   ]
  },
  {
   "cell_type": "code",
   "execution_count": null,
   "metadata": {
    "collapsed": false
   },
   "outputs": [],
   "source": [
    "plt.plot(mu1_list, chi_list, marker='.', markersize=10)\n",
    "plt.show()"
   ]
  },
  {
   "cell_type": "code",
   "execution_count": null,
   "metadata": {
    "collapsed": true
   },
   "outputs": [],
   "source": [
    "np.linspace?"
   ]
  },
  {
   "cell_type": "code",
   "execution_count": null,
   "metadata": {
    "collapsed": true
   },
   "outputs": [],
   "source": [
    "from tqdm import tqdm"
   ]
  },
  {
   "cell_type": "code",
   "execution_count": null,
   "metadata": {
    "collapsed": false
   },
   "outputs": [],
   "source": [
    "v =  m_doub_sub.values\n",
    "ve = m_doub_sub.errors"
   ]
  },
  {
   "cell_type": "code",
   "execution_count": null,
   "metadata": {
    "collapsed": false
   },
   "outputs": [],
   "source": [
    "\n",
    "v['mu1'] - nsig * ve['mu1']\n"
   ]
  },
  {
   "cell_type": "code",
   "execution_count": null,
   "metadata": {
    "collapsed": false
   },
   "outputs": [],
   "source": [
    "nsig = 4\n",
    "nsig_step = 1\n",
    "npar = 6\n",
    "xy = np.mgrid[\n",
    "    v['a1'] - nsig * ve['a1'] : v['a1'] + nsig * ve['a1'] : nsig_step*ve['a1'],\n",
    "    v['mu1'] - nsig * ve['mu1'] : v['mu1'] + nsig * ve['mu1'] : nsig_step*ve['mu1'], \n",
    "    v['sigma1'] - nsig * ve['sigma1'] : v['sigma1'] + nsig * ve['sigma1'] : nsig_step*ve['sigma1'],\n",
    "    v['a2'] - nsig * ve['a2'] : v['a2'] + nsig * ve['a2'] : nsig_step*ve['a2'],\n",
    "    v['mu2'] - nsig * ve['mu2'] : v['mu2'] + nsig * ve['mu2'] : nsig_step*ve['mu2'], \n",
    "    v['sigma2'] - nsig * ve['sigma2'] : v['sigma2'] + nsig * ve['sigma2'] : nsig_step*ve['sigma2'],\n",
    "\n",
    "].reshape(npar,-1).T\n",
    "newshape = np.shape(xy)\n",
    "# dp is datapoints\n",
    "dp = np.zeros((newshape[0],newshape[1]+1))\n",
    "dp[:,:npar] = xy\n",
    "for el in tqdm(dp):\n",
    "    el = abs(el)\n",
    "    el[-1] = (chi2(el[0], el[1], el[2], el[3], v['mu2'], v['sigma2']))\n",
    "print(min(dp[:,-1]))\n",
    "    \n",
    "pickle.dump( dp, open( \"save.p\", \"wb\" ) )"
   ]
  },
  {
   "cell_type": "code",
   "execution_count": null,
   "metadata": {
    "collapsed": false
   },
   "outputs": [],
   "source": [
    "min(dp[:,-1][dp[:,-1] != 0])"
   ]
  },
  {
   "cell_type": "code",
   "execution_count": null,
   "metadata": {
    "collapsed": false
   },
   "outputs": [],
   "source": [
    "plt.scatter(dp[:,0], dp[:,1], c=dp[:,-1], edgecolor='None', s=100, vmin=200, vmax=400)\n",
    "plt.colorbar()\n",
    "#m_doub_sub.draw_contour('mu1', 'sigma1', show_sigma=True)\n",
    "plt.show()"
   ]
  },
  {
   "cell_type": "code",
   "execution_count": null,
   "metadata": {
    "collapsed": false
   },
   "outputs": [],
   "source": [
    "min(dp[:,-1])"
   ]
  },
  {
   "cell_type": "code",
   "execution_count": null,
   "metadata": {
    "collapsed": false
   },
   "outputs": [],
   "source": [
    "dp[:,-1]"
   ]
  },
  {
   "cell_type": "code",
   "execution_count": null,
   "metadata": {
    "collapsed": false
   },
   "outputs": [],
   "source": [
    "dp[0]"
   ]
  },
  {
   "cell_type": "code",
   "execution_count": null,
   "metadata": {
    "collapsed": false
   },
   "outputs": [],
   "source": [
    "d_from_min = np.sqrt(((dp[:,0]-v['a1'])/ve['a1'])**2 + \n",
    "                     ((dp[:,1]-v['mu1'])/ve['mu1'])**2 + \n",
    "                     ((dp[:,2]-v['sigma1'])/ve['sigma1'])**2 + \n",
    "                     ((dp[:,3]-v['a2'])/ve['a2'])**2 + \n",
    "                     ((dp[:,4]-v['mu2'])/ve['mu2'])**2 + \n",
    "                     ((dp[:,5]-v['sigma2'])/ve['sigma2'])**2 )\n",
    "   "
   ]
  },
  {
   "cell_type": "code",
   "execution_count": null,
   "metadata": {
    "collapsed": false
   },
   "outputs": [],
   "source": [
    "plt.scatter(d_from_min, dp[:,-1], s=5, edgecolors='None')\n",
    "plt.yscale('log')\n",
    "plt.ylim(100,1000)\n",
    "plt.axhline(200)"
   ]
  },
  {
   "cell_type": "code",
   "execution_count": null,
   "metadata": {
    "collapsed": false
   },
   "outputs": [],
   "source": [
    "v['sigma2']"
   ]
  },
  {
   "cell_type": "code",
   "execution_count": null,
   "metadata": {
    "collapsed": false
   },
   "outputs": [],
   "source": [
    "ve['sigma2']"
   ]
  },
  {
   "cell_type": "code",
   "execution_count": null,
   "metadata": {
    "collapsed": false
   },
   "outputs": [],
   "source": [
    "dp[dp[:,-1]<200]"
   ]
  },
  {
   "cell_type": "code",
   "execution_count": null,
   "metadata": {
    "collapsed": true
   },
   "outputs": [],
   "source": []
  }
 ],
 "metadata": {
  "kernelspec": {
   "display_name": "Python 3",
   "language": "python",
   "name": "python3"
  },
  "language_info": {
   "codemirror_mode": {
    "name": "ipython",
    "version": 3
   },
   "file_extension": ".py",
   "mimetype": "text/x-python",
   "name": "python",
   "nbconvert_exporter": "python",
   "pygments_lexer": "ipython3",
   "version": "3.4.5"
  },
  "latex_envs": {
   "bibliofile": "biblio.bib",
   "cite_by": "apalike",
   "current_citInitial": 1,
   "eqLabelWithNumbers": true,
   "eqNumInitial": 0
  }
 },
 "nbformat": 4,
 "nbformat_minor": 0
}
