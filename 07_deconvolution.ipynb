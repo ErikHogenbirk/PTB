{
 "cells": [
  {
   "cell_type": "markdown",
   "metadata": {},
   "source": [
    "This is just a little example of how good or bad the data looks.\n",
    "\n",
    "For a proper analysis, we need:\n",
    "  * A proper rescaling of the electron energy scale. Right now, it's just based on the half max point.\n",
    "  * A better signal model than only a Gaussian spectrum.\n",
    "  * Background subtraction\n",
    "  * Acceptance estimate (Current method: a guess based on how the spectra look)."
   ]
  },
  {
   "cell_type": "markdown",
   "metadata": {},
   "source": [
    "### Load the spectrum from previous notebooks"
   ]
  },
  {
   "cell_type": "code",
   "execution_count": 1,
   "metadata": {
    "collapsed": false
   },
   "outputs": [],
   "source": [
    "# Load the NG data and the response function and dump output into variables\n",
    "from IPython.utils import io\n",
    "with io.capture_output() as output_03:\n",
    "    %run '03_2d_spectra.ipynb'\n",
    "with io.capture_output() as output_05:\n",
    "    %run '05_response function.ipynb'"
   ]
  },
  {
   "cell_type": "code",
   "execution_count": 2,
   "metadata": {
    "collapsed": false
   },
   "outputs": [],
   "source": [
    "# You can execute one of these lines if you want to view the output of these scripts\n",
    "#output_03()\n",
    "#output_05()"
   ]
  },
  {
   "cell_type": "markdown",
   "metadata": {},
   "source": [
    "### Define functions"
   ]
  },
  {
   "cell_type": "code",
   "execution_count": 118,
   "metadata": {
    "collapsed": true
   },
   "outputs": [],
   "source": [
    "def gaussian(x, mu, sig):\n",
    "    '''\n",
    "    Normalized Gaussian function\n",
    "    '''\n",
    "    return 1./(np.sqrt(2.*np.pi)*sig)*np.exp(-np.power((x - mu)/sig, 2.)/2)\n",
    "\n",
    "def get_neutron_spectrum(mu, sigma):\n",
    "    '''\n",
    "    Get the smeared version of the response for an original neutron spectrum that is Gaussian in energy.\n",
    "    Mu and sigma in MeV please.\n",
    "    '''\n",
    "    smeared_response = np.zeros(len(electron_energies))\n",
    "    for i in range(len(neutron_energies) - 1):\n",
    "        # Current neutron energy\n",
    "        neutron_energy = neutron_energies[i]\n",
    "        # Current bin width. Not used for now, but may be important later!\n",
    "        bin_width = neutron_energies[i+1] - neutron_energies[i]\n",
    "        ampl = gaussian(neutron_energy, mu, sigma)\n",
    "        smeared_response += ampl*response[i]\n",
    "    return smeared_response\n",
    "\n",
    "def get_neutron_spectrum_interpolated(energy_list, a, mu, sigma):\n",
    "    '''\n",
    "    Interpolate the function that we get from 'get_neutron_spectrum'  to fit 'energy_list'\n",
    "    '''\n",
    "    smeared_response = get_neutron_spectrum(mu, sigma)\n",
    "    return a * np.interp(energy_list, 1000*electron_energies, smeared_response)\n",
    "\n",
    "def get_neutron_spectrum_interpolated_2(energy_list, a1, mu1, sigma1, a2, mu2, sigma2):\n",
    "    '''\n",
    "    Two copies of get_neutron_spectrum_interpolated for fitting of two energy populations\n",
    "    '''\n",
    "    smeared_response1 = get_neutron_spectrum(mu1, sigma1)\n",
    "    smeared_response2 = get_neutron_spectrum(mu2, sigma2)\n",
    "    return ( a1 * np.interp(energy_list, 1000*electron_energies, smeared_response1) +\n",
    "            a2 * np.interp(energy_list, 1000*electron_energies, smeared_response2))\n",
    "\n",
    "def get_chi_sq(y_data, y_err, y_fit):\n",
    "    return sum((y_fit - y_data)**2/(y_err**2))\n",
    "\n",
    "def draw_box(x, y, **kwargs):\n",
    "    \"\"\"Draw rectangle, given x-y boundary tuples\"\"\"\n",
    "    import matplotlib as mpl\n",
    "    # Arcane syntax of the week: matplotlib's Rectangle...\n",
    "    plt.gca().add_patch(mpl.patches.Rectangle(\n",
    "        (x[0], y[0]), x[1] - x[0], y[1] - y[0], **kwargs))\n"
   ]
  },
  {
   "cell_type": "markdown",
   "metadata": {},
   "source": [
    "### A first trial: 'manual minimization'"
   ]
  },
  {
   "cell_type": "code",
   "execution_count": 62,
   "metadata": {
    "collapsed": false
   },
   "outputs": [
    {
     "name": "stdout",
     "output_type": "stream",
     "text": [
      "2.36\n",
      "0.19\n"
     ]
    }
   ],
   "source": [
    "fit_range = [450, 900]\n",
    "\n",
    "# Selection: boolean array for the energies\n",
    "sel = (x3 > fit_range[0]) & (x3 < fit_range[1])\n",
    "\n",
    "# Select data piece to fit\n",
    "x = x3[sel]\n",
    "y_data = f3[sel]\n",
    "y_err = np.sqrt(y_data)\n",
    "\n",
    "\n",
    "best_mu = 0.\n",
    "best_sigma = 0.\n",
    "best_chi2 = np.inf\n",
    "best_scale = 0.\n",
    "\n",
    "# Worst minimizer routine EVER: just loop over all values :)\n",
    "# Oh, and just to add to this: the scaling is just estimated based on same number of events\n",
    "for mu in np.arange(2.3,2.5, 0.01):\n",
    "    for sigma in np.arange(0.15,0.25,0.01):\n",
    "        y_fit = get_neutron_spectrum_interpolated(x, 1., mu, sigma)\n",
    "        scale_guess = sum(y_data)/sum(y_fit)\n",
    "        if (get_chi_sq(y_data, y_err, scale_guess*y_fit)) < best_chi2:\n",
    "            best_mu = mu\n",
    "            best_sigma = sigma\n",
    "            best_y_fit = scale_guess*y_fit\n",
    "            best_scale = scale_guess\n",
    "            best_chi2 = (get_chi_sq(y_data, y_err, scale_guess*y_fit))\n",
    "\n",
    "print(best_mu)\n",
    "print(best_sigma)"
   ]
  },
  {
   "cell_type": "markdown",
   "metadata": {},
   "source": [
    "### Proper minimization"
   ]
  },
  {
   "cell_type": "code",
   "execution_count": 21,
   "metadata": {
    "collapsed": true
   },
   "outputs": [],
   "source": [
    "from iminuit import Minuit"
   ]
  },
  {
   "cell_type": "code",
   "execution_count": 83,
   "metadata": {
    "collapsed": true
   },
   "outputs": [],
   "source": [
    "class Chi2Func:\n",
    "    def __init__(self,x,y,yerr):\n",
    "        self.x = x\n",
    "        self.y_data = y_data\n",
    "        self.y_err = y_err\n",
    "\n",
    "    def __call__(self,*arg):\n",
    "        y_fit = get_neutron_spectrum_interpolated(self.x, *arg)\n",
    "        chi2 = sum((self.y_data - y_fit)**2 / (self.y_err)**2)\n",
    "        return chi2\n",
    "    \n",
    "class Chi2FuncFull:\n",
    "    def __init__(self,x,y,yerr):\n",
    "        self.x = x\n",
    "        self.y_data = y_data\n",
    "        self.y_err = y_err\n",
    "\n",
    "    def __call__(self,*arg):\n",
    "        y_fit = get_neutron_spectrum_interpolated_2(self.x, *arg)\n",
    "        chi2 = sum((self.y_data - y_fit)**2 / (self.y_err)**2)\n",
    "        return chi2    "
   ]
  },
  {
   "cell_type": "code",
   "execution_count": 76,
   "metadata": {
    "collapsed": false
   },
   "outputs": [
    {
     "name": "stderr",
     "output_type": "stream",
     "text": [
      "/home/erik/anaconda3/envs/pax/lib/python3.4/site-packages/ipykernel/__main__.py:13: InitialParamWarning: errordef is not given. Default to 1.\n"
     ]
    },
    {
     "data": {
      "text/html": [
       "<hr>"
      ]
     },
     "metadata": {},
     "output_type": "display_data"
    },
    {
     "data": {
      "text/html": [
       "\n",
       "        <table>\n",
       "            <tr>\n",
       "                <td title=\"Minimum value of function\">FCN = 61.80951405733532</td>\n",
       "                <td title=\"Total number of call to FCN so far\">TOTAL NCALL = 90</td>\n",
       "                <td title=\"Number of call in last migrad\">NCALLS = 90</td>\n",
       "            </tr>\n",
       "            <tr>\n",
       "                <td title=\"Estimated distance to minimum\">EDM = 1.1755022906125558e-08</td>\n",
       "                <td title=\"Maximum EDM definition of convergence\">GOAL EDM = 1e-05</td>\n",
       "                <td title=\"Error def. Amount of increase in FCN to be defined as 1 standard deviation\">\n",
       "                UP = 1.0</td>\n",
       "            </tr>\n",
       "        </table>\n",
       "        \n",
       "        <table>\n",
       "            <tr>\n",
       "                <td align=\"center\" title=\"Validity of the migrad call\">Valid</td>\n",
       "                <td align=\"center\" title=\"Validity of parameters\">Valid Param</td>\n",
       "                <td align=\"center\" title=\"Is Covariance matrix accurate?\">Accurate Covar</td>\n",
       "                <td align=\"center\" title=\"Positive definiteness of covariance matrix\">PosDef</td>\n",
       "                <td align=\"center\" title=\"Was covariance matrix made posdef by adding diagonal element\">Made PosDef</td>\n",
       "            </tr>\n",
       "            <tr>\n",
       "                <td align=\"center\" style=\"background-color:#92CCA6\">True</td>\n",
       "                <td align=\"center\" style=\"background-color:#92CCA6\">True</td>\n",
       "                <td align=\"center\" style=\"background-color:#92CCA6\">True</td>\n",
       "                <td align=\"center\" style=\"background-color:#92CCA6\">True</td>\n",
       "                <td align=\"center\" style=\"background-color:#92CCA6\">False</td>\n",
       "            </tr>\n",
       "            <tr>\n",
       "                <td align=\"center\" title=\"Was last hesse call fail?\">Hesse Fail</td>\n",
       "                <td align=\"center\" title=\"Validity of covariance\">HasCov</td>\n",
       "                <td align=\"center\" title=\"Is EDM above goal EDM?\">Above EDM</td>\n",
       "                <td align=\"center\"></td>\n",
       "                <td align=\"center\" title=\"Did last migrad call reach max call limit?\">Reach calllim</td>\n",
       "            </tr>\n",
       "            <tr>\n",
       "                <td align=\"center\" style=\"background-color:#92CCA6\">False</td>\n",
       "                <td align=\"center\" style=\"background-color:#92CCA6\">True</td>\n",
       "                <td align=\"center\" style=\"background-color:#92CCA6\">False</td>\n",
       "                <td align=\"center\"></td>\n",
       "                <td align=\"center\" style=\"background-color:#92CCA6\">False</td>\n",
       "            </tr>\n",
       "        </table>\n",
       "        "
      ]
     },
     "metadata": {},
     "output_type": "display_data"
    },
    {
     "data": {
      "text/html": [
       "\n",
       "        <table>\n",
       "            <tr>\n",
       "                <td><a href=\"#\" onclick=\"$('#cmkXjpHbVp').toggle()\">+</a></td>\n",
       "                <td title=\"Variable name\">Name</td>\n",
       "                <td title=\"Value of parameter\">Value</td>\n",
       "                <td title=\"Parabolic error\">Parab Error</td>\n",
       "                <td title=\"Minos lower error\">Minos Error-</td>\n",
       "                <td title=\"Minos upper error\">Minos Error+</td>\n",
       "                <td title=\"Lower limit of the parameter\">Limit-</td>\n",
       "                <td title=\"Upper limit of the parameter\">Limit+</td>\n",
       "                <td title=\"Is the parameter fixed in the fit\">FIXED</td>\n",
       "            </tr>\n",
       "        \n",
       "            <tr>\n",
       "                <td>1</td>\n",
       "                <td>a</td>\n",
       "                <td>281.13</td>\n",
       "                <td>2.25185</td>\n",
       "                <td>0</td>\n",
       "                <td>0</td>\n",
       "                <td></td>\n",
       "                <td></td>\n",
       "                <td></td>\n",
       "            </tr>\n",
       "            \n",
       "            <tr>\n",
       "                <td>2</td>\n",
       "                <td>mu</td>\n",
       "                <td>2.36118</td>\n",
       "                <td>0.00360517</td>\n",
       "                <td>0</td>\n",
       "                <td>0</td>\n",
       "                <td></td>\n",
       "                <td></td>\n",
       "                <td></td>\n",
       "            </tr>\n",
       "            \n",
       "            <tr>\n",
       "                <td>3</td>\n",
       "                <td>sigma</td>\n",
       "                <td>0.195803</td>\n",
       "                <td>0.00543806</td>\n",
       "                <td>0</td>\n",
       "                <td>0</td>\n",
       "                <td></td>\n",
       "                <td></td>\n",
       "                <td></td>\n",
       "            </tr>\n",
       "            \n",
       "            </table>\n",
       "        \n",
       "            <pre id=\"cmkXjpHbVp\" style=\"display:none;\">\n",
       "            <textarea rows=\"12\" cols=\"50\" onclick=\"this.select()\" readonly>\\begin{tabular}{|c|r|r|r|r|r|r|r|c|}\n",
       "\\hline\n",
       " & Name & Value & Para Error & Error+ & Error- & Limit+ & Limit- & FIXED\\\\\n",
       "\\hline\n",
       "1 & a & 2.811e+02 & 2.252e+00 &  &  &  &  & \\\\\n",
       "\\hline\n",
       "2 & $\\mu$ & 2.361e+00 & 3.605e-03 &  &  &  &  & \\\\\n",
       "\\hline\n",
       "3 & $\\sigma$ & 1.958e-01 & 5.438e-03 &  &  &  &  & \\\\\n",
       "\\hline\n",
       "\\end{tabular}</textarea>\n",
       "            </pre>\n",
       "            "
      ]
     },
     "metadata": {},
     "output_type": "display_data"
    },
    {
     "data": {
      "text/html": [
       "<hr>"
      ]
     },
     "metadata": {},
     "output_type": "display_data"
    },
    {
     "name": "stdout",
     "output_type": "stream",
     "text": [
      "{'mu': 2.361184855009926, 'a': 281.1296346832681, 'sigma': 0.19580345428006934}\n"
     ]
    }
   ],
   "source": [
    "# Select the data to fit\n",
    "sel = (x3 > 450) & (x3 < 800)\n",
    "x = x3[sel]\n",
    "y_data = f3[sel]\n",
    "y_err = np.sqrt(y_data)\n",
    "\n",
    "# Initialize chi2 function\n",
    "chi2 = Chi2Func(x, y_data, y_err)\n",
    "\n",
    "# Give guess parameters\n",
    "my_args = dict(a=300, mu=2.5, sigma=0.5, error_a = 1, error_mu = 1, error_sigma = 1)\n",
    "# Initialize minimizer and minimize\n",
    "m1 = Minuit(chi2,forced_parameters=['a','mu','sigma'], **my_args)\n",
    "m1.migrad();\n",
    "print(m1.values)"
   ]
  },
  {
   "cell_type": "code",
   "execution_count": 79,
   "metadata": {
    "collapsed": false
   },
   "outputs": [
    {
     "data": {
      "text/plain": [
       "{'a': 78.95094830826477, 'mu': 16.236855212044073, 'sigma': 0.4057096031429238}"
      ]
     },
     "execution_count": 79,
     "metadata": {},
     "output_type": "execute_result"
    }
   ],
   "source": [
    "m2.values"
   ]
  },
  {
   "cell_type": "code",
   "execution_count": 85,
   "metadata": {
    "collapsed": false
   },
   "outputs": [
    {
     "name": "stderr",
     "output_type": "stream",
     "text": [
      "/home/erik/anaconda3/envs/pax/lib/python3.4/site-packages/ipykernel/__main__.py:15: InitialParamWarning: errordef is not given. Default to 1.\n"
     ]
    },
    {
     "data": {
      "text/html": [
       "<hr>"
      ]
     },
     "metadata": {},
     "output_type": "display_data"
    },
    {
     "data": {
      "text/html": [
       "\n",
       "        <table>\n",
       "            <tr>\n",
       "                <td title=\"Minimum value of function\">FCN = 281.90916665327194</td>\n",
       "                <td title=\"Total number of call to FCN so far\">TOTAL NCALL = 218</td>\n",
       "                <td title=\"Number of call in last migrad\">NCALLS = 218</td>\n",
       "            </tr>\n",
       "            <tr>\n",
       "                <td title=\"Estimated distance to minimum\">EDM = 5.504939771119286e-05</td>\n",
       "                <td title=\"Maximum EDM definition of convergence\">GOAL EDM = 1e-05</td>\n",
       "                <td title=\"Error def. Amount of increase in FCN to be defined as 1 standard deviation\">\n",
       "                UP = 1.0</td>\n",
       "            </tr>\n",
       "        </table>\n",
       "        \n",
       "        <table>\n",
       "            <tr>\n",
       "                <td align=\"center\" title=\"Validity of the migrad call\">Valid</td>\n",
       "                <td align=\"center\" title=\"Validity of parameters\">Valid Param</td>\n",
       "                <td align=\"center\" title=\"Is Covariance matrix accurate?\">Accurate Covar</td>\n",
       "                <td align=\"center\" title=\"Positive definiteness of covariance matrix\">PosDef</td>\n",
       "                <td align=\"center\" title=\"Was covariance matrix made posdef by adding diagonal element\">Made PosDef</td>\n",
       "            </tr>\n",
       "            <tr>\n",
       "                <td align=\"center\" style=\"background-color:#92CCA6\">True</td>\n",
       "                <td align=\"center\" style=\"background-color:#92CCA6\">True</td>\n",
       "                <td align=\"center\" style=\"background-color:#92CCA6\">True</td>\n",
       "                <td align=\"center\" style=\"background-color:#92CCA6\">True</td>\n",
       "                <td align=\"center\" style=\"background-color:#92CCA6\">False</td>\n",
       "            </tr>\n",
       "            <tr>\n",
       "                <td align=\"center\" title=\"Was last hesse call fail?\">Hesse Fail</td>\n",
       "                <td align=\"center\" title=\"Validity of covariance\">HasCov</td>\n",
       "                <td align=\"center\" title=\"Is EDM above goal EDM?\">Above EDM</td>\n",
       "                <td align=\"center\"></td>\n",
       "                <td align=\"center\" title=\"Did last migrad call reach max call limit?\">Reach calllim</td>\n",
       "            </tr>\n",
       "            <tr>\n",
       "                <td align=\"center\" style=\"background-color:#92CCA6\">False</td>\n",
       "                <td align=\"center\" style=\"background-color:#92CCA6\">True</td>\n",
       "                <td align=\"center\" style=\"background-color:#92CCA6\">False</td>\n",
       "                <td align=\"center\"></td>\n",
       "                <td align=\"center\" style=\"background-color:#92CCA6\">False</td>\n",
       "            </tr>\n",
       "        </table>\n",
       "        "
      ]
     },
     "metadata": {},
     "output_type": "display_data"
    },
    {
     "data": {
      "text/html": [
       "\n",
       "        <table>\n",
       "            <tr>\n",
       "                <td><a href=\"#\" onclick=\"$('#wRPdYRAdtO').toggle()\">+</a></td>\n",
       "                <td title=\"Variable name\">Name</td>\n",
       "                <td title=\"Value of parameter\">Value</td>\n",
       "                <td title=\"Parabolic error\">Parab Error</td>\n",
       "                <td title=\"Minos lower error\">Minos Error-</td>\n",
       "                <td title=\"Minos upper error\">Minos Error+</td>\n",
       "                <td title=\"Lower limit of the parameter\">Limit-</td>\n",
       "                <td title=\"Upper limit of the parameter\">Limit+</td>\n",
       "                <td title=\"Is the parameter fixed in the fit\">FIXED</td>\n",
       "            </tr>\n",
       "        \n",
       "            <tr>\n",
       "                <td>1</td>\n",
       "                <td>a1</td>\n",
       "                <td>271.506</td>\n",
       "                <td>1.94205</td>\n",
       "                <td>0</td>\n",
       "                <td>0</td>\n",
       "                <td></td>\n",
       "                <td></td>\n",
       "                <td></td>\n",
       "            </tr>\n",
       "            \n",
       "            <tr>\n",
       "                <td>2</td>\n",
       "                <td>mu1</td>\n",
       "                <td>2.35935</td>\n",
       "                <td>0.00344275</td>\n",
       "                <td>0</td>\n",
       "                <td>0</td>\n",
       "                <td></td>\n",
       "                <td></td>\n",
       "                <td></td>\n",
       "            </tr>\n",
       "            \n",
       "            <tr>\n",
       "                <td>3</td>\n",
       "                <td>sigma1</td>\n",
       "                <td>0.175699</td>\n",
       "                <td>0.003382</td>\n",
       "                <td>0</td>\n",
       "                <td>0</td>\n",
       "                <td></td>\n",
       "                <td></td>\n",
       "                <td></td>\n",
       "            </tr>\n",
       "            \n",
       "            <tr>\n",
       "                <td>4</td>\n",
       "                <td>a2</td>\n",
       "                <td>77.3757</td>\n",
       "                <td>2.97808</td>\n",
       "                <td>0</td>\n",
       "                <td>0</td>\n",
       "                <td></td>\n",
       "                <td></td>\n",
       "                <td></td>\n",
       "            </tr>\n",
       "            \n",
       "            <tr>\n",
       "                <td>5</td>\n",
       "                <td>mu2</td>\n",
       "                <td>16.1737</td>\n",
       "                <td>0.374558</td>\n",
       "                <td>0</td>\n",
       "                <td>0</td>\n",
       "                <td></td>\n",
       "                <td></td>\n",
       "                <td></td>\n",
       "            </tr>\n",
       "            \n",
       "            <tr>\n",
       "                <td>6</td>\n",
       "                <td>sigma2</td>\n",
       "                <td>0.510933</td>\n",
       "                <td>0.227404</td>\n",
       "                <td>0</td>\n",
       "                <td>0</td>\n",
       "                <td></td>\n",
       "                <td></td>\n",
       "                <td></td>\n",
       "            </tr>\n",
       "            \n",
       "            </table>\n",
       "        \n",
       "            <pre id=\"wRPdYRAdtO\" style=\"display:none;\">\n",
       "            <textarea rows=\"18\" cols=\"50\" onclick=\"this.select()\" readonly>\\begin{tabular}{|c|r|r|r|r|r|r|r|c|}\n",
       "\\hline\n",
       " & Name & Value & Para Error & Error+ & Error- & Limit+ & Limit- & FIXED\\\\\n",
       "\\hline\n",
       "1 & a1 & 2.715e+02 & 1.942e+00 &  &  &  &  & \\\\\n",
       "\\hline\n",
       "2 & mu1 & 2.359e+00 & 3.443e-03 &  &  &  &  & \\\\\n",
       "\\hline\n",
       "3 & sigma1 & 1.757e-01 & 3.382e-03 &  &  &  &  & \\\\\n",
       "\\hline\n",
       "4 & a2 & 7.738e+01 & 2.978e+00 &  &  &  &  & \\\\\n",
       "\\hline\n",
       "5 & mu2 & 1.617e+01 & 3.746e-01 &  &  &  &  & \\\\\n",
       "\\hline\n",
       "6 & sigma2 & 5.109e-01 & 2.274e-01 &  &  &  &  & \\\\\n",
       "\\hline\n",
       "\\end{tabular}</textarea>\n",
       "            </pre>\n",
       "            "
      ]
     },
     "metadata": {},
     "output_type": "display_data"
    },
    {
     "data": {
      "text/html": [
       "<hr>"
      ]
     },
     "metadata": {},
     "output_type": "display_data"
    },
    {
     "name": "stdout",
     "output_type": "stream",
     "text": [
      "{'mu1': 2.3593532087615587, 'a2': 77.37569282821353, 'sigma2': 0.5109329447345556, 'sigma1': 0.17569872633516243, 'mu2': 16.173733590204748, 'a1': 271.50634309193435}\n"
     ]
    }
   ],
   "source": [
    "# Select the data to fit\n",
    "sel = (x3 > 450) & (x3 < 2000)\n",
    "x = x3[sel]\n",
    "y_data = f3[sel]\n",
    "y_err = np.sqrt(y_data)\n",
    "\n",
    "# Initialize chi2 function\n",
    "chi2 = Chi2FuncFull(x, y_data, y_err)\n",
    "\n",
    "# Give guess parameters\n",
    "my_args = dict(\n",
    "    a1=281, mu1=2.36, sigma1=0.196, error_a1 = 0.1, error_mu1 = 0.1, error_sigma1 = 0.01,\n",
    "    a2=79, mu2=16.2, sigma2=0.4, error_a2 = 0.1, error_mu2 = 0.1, error_sigma2 = 0.1)\n",
    "# Initialize minimizer and minimize\n",
    "m3 = Minuit(chi2,forced_parameters=['a1','mu1','sigma1','a2','mu2','sigma2'], **my_args)\n",
    "m3.migrad();\n",
    "print(m3.values)"
   ]
  },
  {
   "cell_type": "markdown",
   "metadata": {},
   "source": [
    "### Plot the result"
   ]
  },
  {
   "cell_type": "code",
   "execution_count": 139,
   "metadata": {
    "collapsed": false
   },
   "outputs": [
    {
     "data": {
      "image/png": "[encoded data removed]",
      "text/plain": [
       "<matplotlib.figure.Figure at 0x7fa3d6f48a20>"
      ]
     },
     "metadata": {},
     "output_type": "display_data"
    }
   ],
   "source": [
    "plt.errorbar(x3, f3, np.sqrt(f3), ls='None', marker='.')\n",
    "plt.plot(x3, get_neutron_spectrum_interpolated_2(x3, **m3.values), color='red', lw=2,\n",
    "        label='Fit')\n",
    "plt.plot(x3, get_neutron_spectrum_interpolated(x3, m3.values['a1'], m3.values['mu1'], m3.values['sigma1'])\n",
    "         , color='orange', lw=1, ls='--', \n",
    "         label='%.2f $\\pm$ %.2f MeV' % (m3.values['mu1'],m3.values['sigma1']))\n",
    "plt.plot(x3, get_neutron_spectrum_interpolated(x3, m3.values['a2'], m3.values['mu2'], m3.values['sigma2'])\n",
    "         , color='purple', lw=1, ls='--', \n",
    "         label='%.2f $\\pm$ %.2f MeV' % (m3.values['mu2'],m3.values['sigma2']))\n",
    "\n",
    "\n",
    "# plt.axvline(450, color='green', ls='--')\n",
    "# plt.axvline(2000, color='green', ls='--')\n",
    "\n",
    "draw_box((450, 2000), (0, 5000), facecolor='green', alpha=0.2)\n",
    "plt.text(1200, 100, 'Fit range', color='green')\n",
    "\n",
    "plt.ylim(1,2000)\n",
    "plt.xlim(0,3000)\n",
    "plt.legend()\n",
    "plt.yscale('log')\n",
    "plt.xlabel('Energy (keV$_{ee}$)')\n",
    "plt.ylabel('Counts')\n",
    "plt.savefig('07_fit_spectrum.pdf', bbox_inches='tight')"
   ]
  },
  {
   "cell_type": "code",
   "execution_count": null,
   "metadata": {
    "collapsed": true
   },
   "outputs": [],
   "source": []
  }
 ],
 "metadata": {
  "kernelspec": {
   "display_name": "Python 3",
   "language": "python",
   "name": "python3"
  },
  "language_info": {
   "codemirror_mode": {
    "name": "ipython",
    "version": 3
   },
   "file_extension": ".py",
   "mimetype": "text/x-python",
   "name": "python",
   "nbconvert_exporter": "python",
   "pygments_lexer": "ipython3",
   "version": "3.4.4"
  }
 },
 "nbformat": 4,
 "nbformat_minor": 0
}
