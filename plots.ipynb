{
 "cells": [
  {
   "cell_type": "code",
   "execution_count": 50,
   "metadata": {
    "collapsed": true
   },
   "outputs": [],
   "source": [
    "# import matplotlib as mpl\n",
    "# import matplotlib.pyplot as plt\n",
    "# %matplotlib inline"
   ]
  },
  {
   "cell_type": "code",
   "execution_count": 51,
   "metadata": {
    "collapsed": false
   },
   "outputs": [],
   "source": [
    "def plot_hist2d(x, y, z, **kwargs):\n",
    "    '''\n",
    "    Plot hist2d. Uses pcolormesh but avoids the awkward sytax.\n",
    "    '''\n",
    "    x_un = np.unique(x)\n",
    "    y_un = np.unique(y)\n",
    "    z = np.array(z)\n",
    "    \n",
    "    x_spacing = np.unique(np.diff(x_un))[0]\n",
    "    xedges = [_x - 0.5* x_spacing for _x in x_un]\n",
    "    xedges.append(x_un[-1] + 0.5*x_spacing)\n",
    "    y_spacing = np.unique(np.diff(y_un))[0]\n",
    "    yedges = [_y - 0.5* y_spacing for _y in y_un]\n",
    "    yedges.append(y_un[-1] + 0.5*y_spacing)\n",
    "    \n",
    "    Z = []\n",
    "    for _x in x_un:\n",
    "        _Z_el = []\n",
    "        for _y in y_un:\n",
    "            sel = (x == _x) & (y==_y)\n",
    "            _z = z[sel][0]\n",
    "            _Z_el.append(_z)\n",
    "        Z.append(_Z_el)\n",
    "    Z = np.array(Z).T\n",
    "\n",
    "    X, Y = np.meshgrid(xedges, yedges)\n",
    "    plt.pcolormesh(X, Y, Z,**kwargs)\n",
    "    plt.xlim(min(xedges), max(xedges))\n",
    "    plt.ylim(min(yedges), max(yedges))"
   ]
  },
  {
   "cell_type": "code",
   "execution_count": 52,
   "metadata": {
    "collapsed": false
   },
   "outputs": [],
   "source": [
    "# plot_hist2d([1,2,1,2], [3,3,4,4],[1,2,3,4])"
   ]
  },
  {
   "cell_type": "code",
   "execution_count": null,
   "metadata": {
    "collapsed": true
   },
   "outputs": [],
   "source": []
  }
 ],
 "metadata": {
  "kernelspec": {
   "display_name": "Python 3",
   "language": "python",
   "name": "python3"
  },
  "language_info": {
   "codemirror_mode": {
    "name": "ipython",
    "version": 3
   },
   "file_extension": ".py",
   "mimetype": "text/x-python",
   "name": "python",
   "nbconvert_exporter": "python",
   "pygments_lexer": "ipython3",
   "version": "3.4.5"
  },
  "latex_envs": {
   "bibliofile": "biblio.bib",
   "cite_by": "apalike",
   "current_citInitial": 1,
   "eqLabelWithNumbers": true,
   "eqNumInitial": 0
  }
 },
 "nbformat": 4,
 "nbformat_minor": 0
}
