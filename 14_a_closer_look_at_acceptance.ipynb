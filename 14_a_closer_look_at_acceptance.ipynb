{
 "cells": [
  {
   "cell_type": "code",
   "execution_count": 10,
   "metadata": {
    "collapsed": false
   },
   "outputs": [],
   "source": [
    "from IPython.utils import io\n",
    "# with io.capture_output() as output_03:\n",
    "#     %run '03b_bear_necessities.ipynb'"
   ]
  },
  {
   "cell_type": "code",
   "execution_count": null,
   "metadata": {
    "collapsed": false
   },
   "outputs": [],
   "source": [
    "from time import clock\n",
    "print('Current CPU time: %.1f seconds' % (clock()))"
   ]
  },
  {
   "cell_type": "markdown",
   "metadata": {},
   "source": [
    "### Show the data (we want to know what we're talking about)"
   ]
  },
  {
   "cell_type": "markdown",
   "metadata": {},
   "source": [
    "This is just a quick reminder: we show the data with and without NG."
   ]
  },
  {
   "cell_type": "code",
   "execution_count": null,
   "metadata": {
    "collapsed": false
   },
   "outputs": [],
   "source": [
    "plt.figure(figsize=(14,10))\n",
    "plt.subplot(121)\n",
    "im = plt.imshow(spec2d_bg, origin='low', interpolation='none', # interpolation='nearest'\n",
    "                norm=LogNorm())\n",
    "for cut, color in zip(cut_list, ['red', 'orange', 'green', 'purple', 'black']):\n",
    "    cut.plot_percentile(label='%.2f percentile' % cut.pct, color=color)\n",
    "#plt.colorbar()\n",
    "plt.xlim(0,600)\n",
    "plt.ylim(0,600)\n",
    "plt.title('BG')\n",
    "plt.legend()\n",
    "plt.xlabel('Pulse height (channels)')\n",
    "plt.ylabel('Pulse shape parameter')\n",
    "\n",
    "plt.subplot(122)\n",
    "im = plt.imshow(spec2d, origin='low', interpolation='none', # interpolation='nearest'\n",
    "                norm=LogNorm())\n",
    "for cut, color in zip(cut_list, ['red', 'orange', 'green', 'purple', 'black']):\n",
    "    cut.plot_percentile(label='%.2f percentile' % cut.pct, color=color)\n",
    "#plt.colorbar()\n",
    "plt.xlim(0,600)\n",
    "plt.ylim(0,600)\n",
    "plt.title('NG ON, NG run 0+1')\n",
    "plt.legend()\n",
    "plt.xlabel('Pulse height (channels)')\n",
    "plt.ylabel('Pulse shape parameter')\n",
    "\n",
    "plt.show()"
   ]
  },
  {
   "cell_type": "markdown",
   "metadata": {},
   "source": [
    "### Get the acceptance for one energy"
   ]
  },
  {
   "cell_type": "markdown",
   "metadata": {},
   "source": [
    "This is where we define the most important function: it computes the acceptance. This is done in a few steps:\n",
    "  * First, combined multiple bins in x if this is requested (increase stats)\n",
    "  * Next, subtract background from NG on data, scaled by livetimes and propagating the errrors\n",
    "  * Then fit the resulting spectrum with a single gaussian and sensible guess values. Fit range can be specified.\n",
    "  * To compute the acceptance, check the fraction over threshold. Currently this is just one fixed value, maybe average over the bins used?"
   ]
  },
  {
   "cell_type": "code",
   "execution_count": null,
   "metadata": {
    "collapsed": true
   },
   "outputs": [],
   "source": [
    "# simple auxilary function: unnormalized Gaussian\n",
    "def single_gaussian(x, a, mu, sigma):\n",
    "    return a*gaussian(x,mu,sigma)"
   ]
  },
  {
   "cell_type": "code",
   "execution_count": null,
   "metadata": {
    "collapsed": false
   },
   "outputs": [],
   "source": [
    "def better_method(i=150, i_plusminus=2, fit_range=(132, 500), cut = cut_list[0], plot=True, verbose=True, \n",
    "                  method='fit'):\n",
    "    \n",
    "    if verbose:\n",
    "        print('Will check acceptance for bin %d, i.e. %.1f keVee.' % (i, e_scale[i]))\n",
    "        print('Averaging +- %d bins, so +- %.1f keVee'% (i_plusminus, e_scale[i+i_plusminus] - e_scale[i]))\n",
    "        print('The cut used is the %.2f acceptance cut.' % (cut.pct))\n",
    "    \n",
    "    # Build empty arrays to hold fg and bg slice\n",
    "    slice_fg = np.zeros(len(spec2d[:,i]), dtype=float)\n",
    "    slice_bg = np.zeros(len(spec2d_bg[:,i]), dtype=float)\n",
    "\n",
    "    # Fill them\n",
    "    for j in np.arange(i - i_plusminus, i + i_plusminus + 0.001, 1.):\n",
    "        slice_fg += spec2d[:, j]\n",
    "        slice_bg += spec2d_bg[:,j]\n",
    "    \n",
    "    # Errors...\n",
    "    # per-bin Poissonian errors\n",
    "    # Note that the err is normalized, but the counts (in 'slice' is NOT yet, will do that later...)\n",
    "    slice_fg_err = 1/fg_livetime * np.sqrt(slice_fg)\n",
    "    slice_bg_err = 1/bg_livetime * np.sqrt(slice_bg)\n",
    "    \n",
    "    # If zero entries, set error equal to error if one count\n",
    "    # Please excuse the poor programmer/physisist's approach to statistics. I know this is not proper\n",
    "    for j in range(len(slice_fg_err)):\n",
    "        if slice_fg_err[j] == 0:\n",
    "            slice_fg_err[j] = 1/fg_livetime\n",
    "    for j in range(len(slice_bg_err)):\n",
    "        if slice_bg_err[j] == 0:\n",
    "            slice_bg_err[j] = 1/bg_livetime\n",
    "    # For the subtraction add the absolute errors in quadrature    \n",
    "    slice_sub_err = (slice_fg_err**2 + slice_bg_err**2)**(0.5)\n",
    "    \n",
    "    # Normalize (later is here)\n",
    "    slice_fg = 1/fg_livetime * slice_fg\n",
    "    slice_bg = 1/bg_livetime * slice_bg\n",
    "    slice_sub = slice_fg - slice_bg\n",
    "    \n",
    "    # Now fit it\n",
    "    p0 = [sum(slice_sub), np.argmax(slice_sub), 20]\n",
    "    if verbose: print('Fit parameter guess:', p0)\n",
    "    popt, pcov = curve_fit(single_gaussian, np.arange(fit_range[0], fit_range[1]),\n",
    "                            slice_sub[fit_range[0]:fit_range[1]], p0=p0, \n",
    "                           sigma=slice_sub_err[fit_range[0]:fit_range[1]])\n",
    "    perr = np.sqrt(np.diag(pcov))\n",
    "    if verbose: print('Fit parameters, proper:', popt)\n",
    "    if verbose: print('Errors: ', perr)\n",
    "    if verbose: print(pcov)\n",
    "    \n",
    "    # For acc determination\n",
    "    th = cut.pct_list[i]\n",
    "    th_list = [cut.pct_list[int(j)] for j in np.arange(i - i_plusminus, i + i_plusminus+0.001, 1 )]\n",
    "    th = np.average(th)\n",
    "    if verbose: print('Threshold: ', th)\n",
    "    if verbose: print('Threshold list: ', th_list)\n",
    "    \n",
    "    # Method #1: just sum all above threshold.\n",
    "    acc_raw = sum(slice_sub[th:]) / sum(slice_sub)\n",
    "    \n",
    "    # Integrate to get acceptance\n",
    "    def integrand(x):\n",
    "        return single_gaussian(x, popt[0], popt[1],popt[2])\n",
    "    \n",
    "    def int_gauss(function, threshold, start=0, end=1000):\n",
    "        from scipy.integrate import quad\n",
    "        return quad(integrand, threshold, end)[0] / quad(integrand, start, end)[0]\n",
    "\n",
    "    \n",
    "    # Compute bet-fit acceptance\n",
    "    acc_fit = int_gauss(single_gaussian, th, 0, 1000)\n",
    "    \n",
    "    # (over)estimate error: try mu +- sigma_mu and sigma +- sigma_sigma and all combinations\n",
    "    acc_list = []\n",
    "    for sigma_dir in (-1, 0, +1):\n",
    "        for mu_dir in (-1, 0, +1):\n",
    "            # Redefine integrand\n",
    "            def integrand(x):\n",
    "                return single_gaussian(x, popt[0], popt[1] + mu_dir*perr[1], popt[2] + sigma_dir*perr[2])\n",
    "            acc_list.append(int_gauss(single_gaussian, th, 0, 1000))\n",
    "    # Worst case errors\n",
    "    acc_fit_err_plus = max(acc_list) - acc_fit\n",
    "    acc_fit_err_min = acc_fit - min(acc_list)\n",
    "    \n",
    "    if verbose: print('Acc raw method: ', acc_raw)\n",
    "    if verbose: print('Acc fit method: ', acc_fit)\n",
    "    if verbose: print('Acc errors: + %f and - %f' % (acc_fit_err_plus, acc_fit_err_min))\n",
    "    if verbose: print('Acc list fit method: ', acc_list)\n",
    "        \n",
    "    \n",
    "\n",
    "    \n",
    "    if plot:\n",
    "        plt.plot([x for x in range(len(slice_sub))], slice_sub)\n",
    "        plt.plot([single_gaussian(x, *popt) for x in range(len(slice_sub))])\n",
    "        for l in fit_range:\n",
    "            plt.axvline(l, color='red', ls='--',lw=2, label='fit range')\n",
    "        plt.axvline(cut.pct_list[i], c='orange')\n",
    "        plt.show()\n",
    "    if method == 'fit':\n",
    "        # Return value and errors\n",
    "        return acc_fit, acc_fit_err_plus, acc_fit_err_min\n",
    "    elif method == 'raw':\n",
    "        return acc_raw\n",
    "    else:\n",
    "        raise ValueError('What method did YOU pick? I found this: %s' % method)\n",
    "        "
   ]
  },
  {
   "cell_type": "code",
   "execution_count": null,
   "metadata": {
    "collapsed": false
   },
   "outputs": [],
   "source": [
    "#better_method(i=4, fit_range=(200,400))"
   ]
  },
  {
   "cell_type": "markdown",
   "metadata": {},
   "source": [
    "### Scan over energies"
   ]
  },
  {
   "cell_type": "code",
   "execution_count": null,
   "metadata": {
    "collapsed": false
   },
   "outputs": [],
   "source": [
    "def scan_acc(i_min, i_max, i_step, i_plusminus, method, verbose=False, plot=False,fit_range=(132, 500)):\n",
    "    scanned_e = []\n",
    "    scanned_list = []\n",
    "    errs_plus = []\n",
    "    errs_min = []\n",
    "    for i in range(i_min, i_max, i_step):\n",
    "        scanned_e.append(e_scale[i])\n",
    "        acc, err_plus, err_min = (better_method(i, i_plusminus=i_plusminus,verbose=verbose, plot=plot, method=method,\n",
    "                                         fit_range = fit_range))\n",
    "        scanned_list.append(acc)\n",
    "        errs_plus.append(err_plus)\n",
    "        errs_min.append(err_min)\n",
    "    return np.array(scanned_e), np.array(scanned_list), np.array(errs_plus), np.array(errs_min)"
   ]
  },
  {
   "cell_type": "code",
   "execution_count": null,
   "metadata": {
    "collapsed": false
   },
   "outputs": [],
   "source": [
    "#x_acc, y_acc, dy_acc_plus, dy_acc_min = (scan_acc(48, 300, 5, 2, 'fit', plot=False, fit_range=(200, 400)))\n",
    "# Extend range up to 1000 keVee\n",
    "x_acc, y_acc, dy_acc_plus, dy_acc_min = (scan_acc(48, 350, 5, 2, 'fit', plot=False, fit_range=(200, 400)))\n",
    "plt.errorbar(x_acc, y_acc, (dy_acc_plus, dy_acc_min), marker='.', markersize=10, label='Single Gauss method')\n",
    "\n",
    "plt.xlim(0,500)\n",
    "plt.ylim(0,1)\n",
    "plt.show()\n"
   ]
  },
  {
   "cell_type": "code",
   "execution_count": null,
   "metadata": {
    "collapsed": false
   },
   "outputs": [],
   "source": [
    "from scipy.signal import butter, filtfilt\n",
    "\n",
    "def butter_lowpass(cutoff, fs, order=5):\n",
    "    nyq = 0.5 * fs\n",
    "    normal_cutoff = cutoff / nyq\n",
    "    b, a = butter(order, normal_cutoff, btype='low', analog=False)\n",
    "    return b, a\n",
    "\n",
    "\n",
    "def butter_lowpass_filtfilt(data, cutoff, fs, order=5):\n",
    "    b, a = butter_lowpass(cutoff, fs, order=order)\n",
    "    y = filtfilt(b, a, data)\n",
    "    return y\n",
    "\n",
    "cutoff = 1\n",
    "fs = 10\n",
    "acc_smooth = butter_lowpass_filtfilt(y_acc, cutoff, fs)\n",
    "acc_smooth_plus = butter_lowpass_filtfilt(y_acc + dy_acc_plus, cutoff, fs)\n",
    "acc_smooth_min = butter_lowpass_filtfilt(y_acc - dy_acc_min, cutoff, fs)\n",
    "acc_smooth_plus2 = butter_lowpass_filtfilt(y_acc + 2* dy_acc_plus, cutoff, fs)\n",
    "acc_smooth_min2 = butter_lowpass_filtfilt(y_acc - 2*dy_acc_min, cutoff, fs)"
   ]
  },
  {
   "cell_type": "code",
   "execution_count": null,
   "metadata": {
    "collapsed": false
   },
   "outputs": [],
   "source": [
    "def weighted_avg_and_std(values, weights):\n",
    "    \"\"\"\n",
    "    Return the weighted average and standard deviation.\n",
    "    values, weights -- Numpy ndarrays with the same shape.\n",
    "    \"\"\"\n",
    "    average = np.average(values, weights=weights)\n",
    "    variance = np.average((values-average)**2, weights=weights)  # Fast and numerically precise\n",
    "    return average, np.sqrt(variance)"
   ]
  },
  {
   "cell_type": "code",
   "execution_count": null,
   "metadata": {
    "collapsed": false
   },
   "outputs": [],
   "source": [
    "acc_e = np.interp(e_scale, x_acc, acc_smooth, left = 0, right = 1.)\n",
    "acc_e_plus = np.interp(e_scale, x_acc, acc_smooth_plus, left = 0, right = 1.)\n",
    "acc_e_plus2 = np.interp(e_scale, x_acc, acc_smooth_plus2, left = 0, right = 1.)\n",
    "acc_e_min = np.interp(e_scale, x_acc, acc_smooth_min, left = 0, right = 1.)\n",
    "acc_e_min2 = np.interp(e_scale, x_acc, acc_smooth_min2, left = 0, right = 1.)"
   ]
  },
  {
   "cell_type": "code",
   "execution_count": null,
   "metadata": {
    "collapsed": true
   },
   "outputs": [],
   "source": [
    "e_scale_r = rebin(e_scale, mode='avg') # r for rebin\n",
    "acc_e_r = np.interp(e_scale_r, x_acc, acc_smooth, left = 0, right = 1.)\n",
    "acc_e_plus_r = np.interp(e_scale_r, x_acc, acc_smooth_plus, left = 0, right = 1.)\n",
    "acc_e_plus2_r = np.interp(e_scale_r, x_acc, acc_smooth_plus2, left = 0, right = 1.)\n",
    "acc_e_min_r = np.interp(e_scale_r, x_acc, acc_smooth_min, left = 0, right = 1.)\n",
    "acc_e_min2_r = np.interp(e_scale_r, x_acc, acc_smooth_min2, left = 0, right = 1.)\n"
   ]
  },
  {
   "cell_type": "code",
   "execution_count": null,
   "metadata": {
    "collapsed": false
   },
   "outputs": [],
   "source": [
    "plt.errorbar(x_acc, y_acc, (dy_acc_plus, dy_acc_min), marker='.', markersize=10, ls='None', label='Acceptance')\n",
    "plt.plot(x_acc, acc_smooth,color='green',label='Smoothed')\n",
    "plt.plot(x_acc, acc_smooth_plus,color='green', ls='--',label='Smoothed +1 $\\sigma$')\n",
    "plt.plot(x_acc, acc_smooth_min,color='green', ls='--',label='Smoothed +1 $\\sigma$')\n",
    "plt.plot(e_scale, acc_e, label='Smoothed interpolated', color='red')\n",
    "plt.xlim(0,400)\n",
    "plt.legend(loc='lower right')\n",
    "plt.title('Money plot for this notebook')\n"
   ]
  },
  {
   "cell_type": "code",
   "execution_count": null,
   "metadata": {
    "collapsed": true
   },
   "outputs": [],
   "source": []
  },
  {
   "cell_type": "code",
   "execution_count": null,
   "metadata": {
    "collapsed": true
   },
   "outputs": [],
   "source": []
  },
  {
   "cell_type": "code",
   "execution_count": null,
   "metadata": {
    "collapsed": true
   },
   "outputs": [],
   "source": []
  },
  {
   "cell_type": "code",
   "execution_count": null,
   "metadata": {
    "collapsed": true
   },
   "outputs": [],
   "source": []
  },
  {
   "cell_type": "markdown",
   "metadata": {},
   "source": [
    "### DEPRICATED"
   ]
  },
  {
   "cell_type": "markdown",
   "metadata": {},
   "source": [
    "Not-so-well working method of first fitting a Gaussian to BG-only, then using that information for a double-gaussian fit.\n",
    "I guess I forgot that I can actually scale, because we have the livetime..."
   ]
  },
  {
   "cell_type": "code",
   "execution_count": null,
   "metadata": {
    "collapsed": false
   },
   "outputs": [],
   "source": [
    "def get_e_acc(i, i_plusminus, cut = cut_list[0], verbose=True, plot=True):\n",
    "    fit_min = 132 # Need thisw cause there is some cutoff... From here it is nonzero\n",
    "\n",
    "    print('Will check acceptance for bin %d, i.e. %.1f keVee.' % (i, e_scale[i]))\n",
    "    print('Averaging +- %d bins, so +- %.1f keVee'% (i_plusminus, e_scale[i+i_plusminus] - e_scale[i]))\n",
    "    slice_fg = np.zeros(len(spec2d[:,i]), dtype=float)\n",
    "    slice_bg = np.zeros(len(spec2d_bg[:,i]), dtype=float)\n",
    "\n",
    "\n",
    "    for j in np.arange(i - i_plusminus, i + i_plusminus + 0.001, 1.):\n",
    "        slice_fg += spec2d[:, j]\n",
    "        slice_bg += spec2d_bg[:,j]\n",
    "    # Normalization\n",
    "    slice_fg = 1/sum(slice_fg) * slice_fg\n",
    "    slice_bg = 1/sum(slice_bg) * slice_bg\n",
    "\n",
    "    # First fit BG\n",
    "    # Let's get some proper guess values. These are self-evident :)\n",
    "    p0_bg = [1, weighted_avg_and_std(range(len(slice_bg)), slice_bg)[0],\n",
    "            weighted_avg_and_std(range(len(slice_bg)), slice_bg)[1]]\n",
    "    print('Guess values single gaussian BG:')\n",
    "    print(p0_bg)\n",
    "\n",
    "    # Gaussian fit of BG\n",
    "    popt_bg, pcov_bg = curve_fit(single_gaussian, np.arange(fit_min, len(slice_bg)), slice_bg[fit_min:], p0=p0_bg)\n",
    "    print('Fit values BG:')\n",
    "    print(popt_bg)\n",
    "\n",
    "    # Fit with proper guess values..\n",
    "    p0_fg = [0.5, popt_bg[1], popt_bg[2], 0.5, 300, 20 ]\n",
    "    popt_fg, pcov_fg = curve_fit(double_gaussian, np.arange(fit_min, len(slice_fg)), slice_fg[fit_min:], p0=p0_fg)\n",
    "    print('Fit values double gaussian:')\n",
    "    print(popt_fg)\n",
    "\n",
    "    # Or... Fix mu and sigma of Gaussian dist.\n",
    "    def constrained_double_gaussian(x, a1, a2, mu2, sigma2):\n",
    "        return a1*gaussian(x, popt_bg[1], popt_bg[2]) + a2*gaussian(x, mu2, sigma2)\n",
    "\n",
    "    def bg_sub_single_gaussian(x, a1, a2, mu2, sigma2):\n",
    "        return a1*slice_bg[x] + a2*gaussian(x, mu2, sigma2)\n",
    "\n",
    "    p0_fg_cons = [0.5, 0.5, 300, 20]\n",
    "    popt_fg_cons, pcov_fg_cons = curve_fit(constrained_double_gaussian, np.arange(fit_min, len(slice_fg)), slice_fg[fit_min:],\n",
    "                                           p0=p0_fg_cons)\n",
    "    print('Fit values double gaussian, constrained:')\n",
    "    print(popt_fg_cons)\n",
    "\n",
    "    p0_fg_sub = [0.5, 0.5, 300, 20]\n",
    "    popt_fg_sub, pcov_fg_sub = curve_fit(bg_sub_single_gaussian, np.arange(fit_min, len(slice_fg)), slice_fg[fit_min:],\n",
    "                                         p0=p0_fg_sub)\n",
    "    print('Fit values subtracted gaussian:')\n",
    "    print(popt_fg_sub)\n",
    "\n",
    "\n",
    "    plt.plot(slice_fg)\n",
    "    plt.plot(slice_bg)\n",
    "    plt.plot([single_gaussian(x, *popt_bg) for x in range(len(slice_bg))], color='green', lw=2, label='BG fit')\n",
    "    # plt.plot([double_gaussian(x, *popt_fg) for x in range(len(slice_fg))], color='red', lw=2)\n",
    "    plt.plot([constrained_double_gaussian(x, *popt_fg_cons) \n",
    "              for x in range(len(slice_fg))], color='blue', lw=2, label='Fixed position')\n",
    "    plt.plot([bg_sub_single_gaussian(x, *popt_fg_sub) \n",
    "              for x in range(len(slice_fg))], color='red', lw=2, label='Subtracted')\n",
    "\n",
    "\n",
    "\n",
    "    plt.axvline(cut.pct_list[i], lw=2, ls='--', c='r')\n",
    "    plt.xlim(0,500)\n",
    "    plt.ylim()\n",
    "    plt.xlabel('Discrimination parameter')\n",
    "    plt.ylabel('Counts per unit of disc. parameter')\n",
    "    #plt.text(250, 24, 'Energy bin %d = %.1f keVee' % (i, e_scale[i]))\n",
    "    #plt.text(250, 22, 'Acceptance %.2f%%' % (100*get_acceptance(cut.pct_list[i], *popt)))\n",
    "    plt.legend()"
   ]
  }
 ],
 "metadata": {
  "kernelspec": {
   "display_name": "Python 3",
   "language": "python",
   "name": "python3"
  },
  "language_info": {
   "codemirror_mode": {
    "name": "ipython",
    "version": 3
   },
   "file_extension": ".py",
   "mimetype": "text/x-python",
   "name": "python",
   "nbconvert_exporter": "python",
   "pygments_lexer": "ipython3",
   "version": "3.4.5"
  },
  "latex_envs": {
   "bibliofile": "biblio.bib",
   "cite_by": "apalike",
   "current_citInitial": 1,
   "eqLabelWithNumbers": true,
   "eqNumInitial": 0
  }
 },
 "nbformat": 4,
 "nbformat_minor": 0
}
